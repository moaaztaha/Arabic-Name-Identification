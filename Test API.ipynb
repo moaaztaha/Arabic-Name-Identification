{
 "cells": [
  {
   "cell_type": "code",
   "execution_count": 1,
   "id": "41f28dfb-9203-49ef-8aad-455a21557e24",
   "metadata": {},
   "outputs": [],
   "source": [
    "import requests\n",
    "import json"
   ]
  },
  {
   "cell_type": "code",
   "execution_count": 2,
   "id": "5e602026-33f8-49a7-9ee4-59c8dcaf76b7",
   "metadata": {},
   "outputs": [
    {
     "name": "stdout",
     "output_type": "stream",
     "text": [
      "{'is it a correct name': False, 'name recieved': '<sos> باسمم وحةد السد <eos>', 'name tokens': [[1, 1, 1, 1, 1]], 'prediction': '0.029'}\n"
     ]
    }
   ],
   "source": [
    "BASE = \"http://127.0.0.1:5000/\"\n",
    "\n",
    "# Single Example\n",
    "payload = {\"name\": \"باسمم وحةد السد\"}\n",
    "\n",
    "# headers = {'accept': 'application/json'}\n",
    "response = requests.post(BASE + 'name', json=payload)\n",
    "\n",
    "print(response.json())"
   ]
  },
  {
   "cell_type": "code",
   "execution_count": 3,
   "id": "ef4d4f31-a93e-4f6e-a946-8a26b32da924",
   "metadata": {},
   "outputs": [
    {
     "name": "stdout",
     "output_type": "stream",
     "text": [
      "{'is it a correct name': True, 'name recieved': '<sos> معاذ طه عوض <eos>', 'name tokens': [[1, 1854, 278, 559, 1]], 'prediction': '0.881'}\n",
      "___________________________________________________________________________\n",
      "{'is it a correct name': True, 'name recieved': '<sos> باسم وحيد السيد <eos>', 'name tokens': [[1, 9711, 3042, 1076, 1]], 'prediction': '0.808'}\n",
      "___________________________________________________________________________\n",
      "{'is it a correct name': False, 'name recieved': '<sos> باسمم وحةد السد <eos>', 'name tokens': [[1, 1, 1, 1, 1]], 'prediction': '0.029'}\n",
      "___________________________________________________________________________\n",
      "{'is it a correct name': False, 'name recieved': '<sos> شسي شسي شسي <eos>', 'name tokens': [[1, 1, 1, 1, 1]], 'prediction': '0.029'}\n",
      "___________________________________________________________________________\n",
      "{'is it a correct name': True, 'name recieved': '<sos> مريم محمد محمد <eos>', 'name tokens': [[1, 1455, 523, 523, 1]], 'prediction': '0.805'}\n",
      "___________________________________________________________________________\n",
      "{'is it a correct name': False, 'name recieved': '<sos> زيادد عبدالرحمنت محمد <eos>', 'name tokens': [[1, 1, 1, 523, 1]], 'prediction': '0.140'}\n",
      "___________________________________________________________________________\n",
      "{'is it a correct name': False, 'name recieved': '<sos> الكرة المصرية تفوز <eos>', 'name tokens': [[1, 6784, 1, 1, 1]], 'prediction': '0.019'}\n",
      "___________________________________________________________________________\n",
      "{'is it a correct name': False, 'name recieved': '<sos> انه حقا زكى <eos>', 'name tokens': [[1, 1, 1, 303, 1]], 'prediction': '0.043'}\n",
      "___________________________________________________________________________\n",
      "{'is it a correct name': False, 'name recieved': '<sos> انه حقا مثابر <eos>', 'name tokens': [[1, 1, 1, 1, 1]], 'prediction': '0.029'}\n",
      "___________________________________________________________________________\n",
      "{'is it a correct name': False, 'name recieved': '<sos> لا احب الكرة <eos>', 'name tokens': [[1, 201, 1, 6784, 1]], 'prediction': '0.078'}\n",
      "___________________________________________________________________________\n"
     ]
    }
   ],
   "source": [
    "# list of names\n",
    "\n",
    "list_names = [\n",
    "    \"معاذ طه عوض\",\n",
    "    \"باسم وحيد السيد\",\n",
    "    \"باسمم وحةد السد\",\n",
    "    \"شسي شسي شسي\",\n",
    "    \"مريم محمد محمد\",\n",
    "    \"زيادد عبدالرحمنت محمد\",\n",
    "    \"الكرة المصرية تفوز\",\n",
    "    \"انه حقا زكى\",\n",
    "    \"انه حقا مثابر\",\n",
    "    \"لا احب الكرة\"\n",
    "    \n",
    "]\n",
    "responses = []\n",
    "\n",
    "for name in list_names:\n",
    "    payload = {\"name\": name}\n",
    "\n",
    "    # headers = {'accept': 'application/json'}\n",
    "    response = requests.post(BASE + 'name', json=payload)\n",
    "    responses.append(response.json()['is it a correct name'])\n",
    "    \n",
    "    print(response.json())\n",
    "    print('_'*75)"
   ]
  }
 ],
 "metadata": {
  "kernelspec": {
   "display_name": "Python 3 (ipykernel)",
   "language": "python",
   "name": "python3"
  },
  "language_info": {
   "codemirror_mode": {
    "name": "ipython",
    "version": 3
   },
   "file_extension": ".py",
   "mimetype": "text/x-python",
   "name": "python",
   "nbconvert_exporter": "python",
   "pygments_lexer": "ipython3",
   "version": "3.10.8"
  }
 },
 "nbformat": 4,
 "nbformat_minor": 5
}
