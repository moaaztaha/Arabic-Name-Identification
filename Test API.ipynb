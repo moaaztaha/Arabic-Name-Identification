{
 "cells": [
  {
   "cell_type": "code",
   "execution_count": 35,
   "id": "41f28dfb-9203-49ef-8aad-455a21557e24",
   "metadata": {},
   "outputs": [],
   "source": [
    "import requests\n",
    "import json"
   ]
  },
  {
   "cell_type": "code",
   "execution_count": 36,
   "id": "5e602026-33f8-49a7-9ee4-59c8dcaf76b7",
   "metadata": {},
   "outputs": [
    {
     "name": "stdout",
     "output_type": "stream",
     "text": [
      "{'is it a correct name': False, 'name recieved': '<sos> باسمم وحةد السد <eos>', 'name tokens': [[1, 1, 1, 1, 1]], 'prediction': '0.015'}\n"
     ]
    }
   ],
   "source": [
    "BASE = \"http://127.0.0.1:5000/\"\n",
    "\n",
    "# Single Example\n",
    "payload = {\"name\": \"باسمم وحةد السد\"}\n",
    "\n",
    "# headers = {'accept': 'application/json'}\n",
    "response = requests.post(BASE + 'name', json=payload)\n",
    "\n",
    "print(response.json())"
   ]
  },
  {
   "cell_type": "code",
   "execution_count": 37,
   "id": "ef4d4f31-a93e-4f6e-a946-8a26b32da924",
   "metadata": {},
   "outputs": [
    {
     "name": "stdout",
     "output_type": "stream",
     "text": [
      "{'is it a correct name': True, 'name recieved': '<sos> معاذ طه عوض <eos>', 'name tokens': [[1, 3447, 2061, 1348, 1]], 'prediction': '0.999'}\n",
      "___________________________________________________________________________\n",
      "{'is it a correct name': True, 'name recieved': '<sos> باسم وحيد السيد <eos>', 'name tokens': [[1, 2171, 476, 666, 1]], 'prediction': '0.996'}\n",
      "___________________________________________________________________________\n",
      "{'is it a correct name': False, 'name recieved': '<sos> باسمم وحةد السد <eos>', 'name tokens': [[1, 1, 1, 1, 1]], 'prediction': '0.015'}\n",
      "___________________________________________________________________________\n",
      "{'is it a correct name': False, 'name recieved': '<sos> شسي شسي شسي <eos>', 'name tokens': [[1, 1, 1, 1, 1]], 'prediction': '0.015'}\n",
      "___________________________________________________________________________\n",
      "{'is it a correct name': True, 'name recieved': '<sos> مريم محمد محمد <eos>', 'name tokens': [[1, 1248, 310, 310, 1]], 'prediction': '0.990'}\n",
      "___________________________________________________________________________\n",
      "{'is it a correct name': False, 'name recieved': '<sos> زيادد عبدالرحمنت محمد <eos>', 'name tokens': [[1, 1, 1, 310, 1]], 'prediction': '0.088'}\n",
      "___________________________________________________________________________\n",
      "{'is it a correct name': False, 'name recieved': '<sos> الكرة المصرية تفوز <eos>', 'name tokens': [[1, 13584, 1, 1, 1]], 'prediction': '0.015'}\n",
      "___________________________________________________________________________\n",
      "{'is it a correct name': False, 'name recieved': '<sos> انه حقا زكى <eos>', 'name tokens': [[1, 1, 1, 1053, 1]], 'prediction': '0.241'}\n",
      "___________________________________________________________________________\n",
      "{'is it a correct name': False, 'name recieved': '<sos> انه حقا مثابر <eos>', 'name tokens': [[1, 1, 1, 1, 1]], 'prediction': '0.015'}\n",
      "___________________________________________________________________________\n",
      "{'is it a correct name': False, 'name recieved': '<sos> لا اكره الكرة <eos>', 'name tokens': [[1, 656, 1, 13584, 1]], 'prediction': '0.531'}\n",
      "___________________________________________________________________________\n"
     ]
    }
   ],
   "source": [
    "# list of names\n",
    "\n",
    "list_names = [\n",
    "    \"معاذ طه عوض\",\n",
    "    \"باسم وحيد السيد\",\n",
    "    \"باسمم وحةد السد\",\n",
    "    \"شسي شسي شسي\",\n",
    "    \"مريم محمد محمد\",\n",
    "    \"زيادد عبدالرحمنت محمد\",\n",
    "    \"الكرة المصرية تفوز\",\n",
    "    \"انه حقا زكى\",\n",
    "    \"انه حقا مثابر\",\n",
    "    \"لا اكره الكرة\"\n",
    "    \n",
    "]\n",
    "responses = []\n",
    "\n",
    "for name in list_names:\n",
    "    payload = {\"name\": name}\n",
    "\n",
    "    # headers = {'accept': 'application/json'}\n",
    "    response = requests.post(BASE + 'name', json=payload)\n",
    "    responses.append(response.json()['is it a correct name'])\n",
    "    \n",
    "    print(response.json())\n",
    "    print('_'*75)"
   ]
  },
  {
   "cell_type": "code",
   "execution_count": 38,
   "id": "d21254bc-0cb9-480e-9941-800e101e5395",
   "metadata": {},
   "outputs": [],
   "source": [
    "expected_responses = [True, True, False, False, True, False, False, False, False, False]"
   ]
  },
  {
   "cell_type": "code",
   "execution_count": 39,
   "id": "7a5ad126-ab46-47bb-be8b-da8b453d7f45",
   "metadata": {},
   "outputs": [],
   "source": [
    "assert responses == expected_responses, \"Some or all test examples are wrong\""
   ]
  }
 ],
 "metadata": {
  "kernelspec": {
   "display_name": "Python 3 (ipykernel)",
   "language": "python",
   "name": "python3"
  },
  "language_info": {
   "codemirror_mode": {
    "name": "ipython",
    "version": 3
   },
   "file_extension": ".py",
   "mimetype": "text/x-python",
   "name": "python",
   "nbconvert_exporter": "python",
   "pygments_lexer": "ipython3",
   "version": "3.10.8"
  }
 },
 "nbformat": 4,
 "nbformat_minor": 5
}
