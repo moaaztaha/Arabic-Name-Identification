{
 "cells": [
  {
   "cell_type": "markdown",
   "id": "bef6e88f-b39f-49f3-b715-c3cd16cdad66",
   "metadata": {
    "tags": []
   },
   "source": [
    "# Generating Correct Names\n",
    "using real data collected from student name - [dataset url](https://forums.madrsa-online.com/threads/3264/)\n",
    "#### Rules for data proivded (it has males and females separated not applicable for my collected data)\n",
    "- 3 words\n",
    "- First word can be male/female\n",
    "- Second and third words must be males"
   ]
  },
  {
   "cell_type": "code",
   "execution_count": 1,
   "id": "ac9d1715-87b7-48fb-b8aa-a4a3aae6e907",
   "metadata": {},
   "outputs": [],
   "source": [
    "from typing import List\n",
    "import pandas as pd\n",
    "import random\n",
    "import string\n",
    "\n",
    "from collections import Counter\n",
    "from tqdm import tqdm\n",
    "\n",
    "random.seed(23)"
   ]
  },
  {
   "cell_type": "code",
   "execution_count": 2,
   "id": "7cc470de-9119-4e08-b6d6-0cee745ed931",
   "metadata": {},
   "outputs": [],
   "source": [
    "ds_name = 'both_generated_using_correct_names_40k_better_repeatedfunction'\n",
    "ds_size = 40_000"
   ]
  },
  {
   "cell_type": "markdown",
   "id": "7872b43e-5e4d-47c7-9efc-2a14b5d2f054",
   "metadata": {
    "tags": []
   },
   "source": [
    "## Generate Correct names"
   ]
  },
  {
   "cell_type": "code",
   "execution_count": 3,
   "id": "1f7238d7-29b7-4974-97aa-04afa5ce4b32",
   "metadata": {},
   "outputs": [
    {
     "name": "stdout",
     "output_type": "stream",
     "text": [
      "(3729, 1)\n"
     ]
    },
    {
     "data": {
      "text/html": [
       "<div>\n",
       "<style scoped>\n",
       "    .dataframe tbody tr th:only-of-type {\n",
       "        vertical-align: middle;\n",
       "    }\n",
       "\n",
       "    .dataframe tbody tr th {\n",
       "        vertical-align: top;\n",
       "    }\n",
       "\n",
       "    .dataframe thead th {\n",
       "        text-align: right;\n",
       "    }\n",
       "</style>\n",
       "<table border=\"1\" class=\"dataframe\">\n",
       "  <thead>\n",
       "    <tr style=\"text-align: right;\">\n",
       "      <th></th>\n",
       "      <th>name</th>\n",
       "    </tr>\n",
       "  </thead>\n",
       "  <tbody>\n",
       "    <tr>\n",
       "      <th>1838</th>\n",
       "      <td>ياسر</td>\n",
       "    </tr>\n",
       "    <tr>\n",
       "      <th>1823</th>\n",
       "      <td>العتبانى</td>\n",
       "    </tr>\n",
       "    <tr>\n",
       "      <th>3108</th>\n",
       "      <td>مندور</td>\n",
       "    </tr>\n",
       "    <tr>\n",
       "      <th>3373</th>\n",
       "      <td>قاسم</td>\n",
       "    </tr>\n",
       "    <tr>\n",
       "      <th>3116</th>\n",
       "      <td>شيماء</td>\n",
       "    </tr>\n",
       "    <tr>\n",
       "      <th>639</th>\n",
       "      <td>عبدالعليم</td>\n",
       "    </tr>\n",
       "    <tr>\n",
       "      <th>655</th>\n",
       "      <td>هاتم</td>\n",
       "    </tr>\n",
       "    <tr>\n",
       "      <th>257</th>\n",
       "      <td>عيناء</td>\n",
       "    </tr>\n",
       "    <tr>\n",
       "      <th>1101</th>\n",
       "      <td>جنيدى</td>\n",
       "    </tr>\n",
       "    <tr>\n",
       "      <th>2855</th>\n",
       "      <td>لبيب</td>\n",
       "    </tr>\n",
       "  </tbody>\n",
       "</table>\n",
       "</div>"
      ],
      "text/plain": [
       "           name\n",
       "1838       ياسر\n",
       "1823   العتبانى\n",
       "3108      مندور\n",
       "3373       قاسم\n",
       "3116      شيماء\n",
       "639   عبدالعليم\n",
       "655        هاتم\n",
       "257       عيناء\n",
       "1101      جنيدى\n",
       "2855       لبيب"
      ]
     },
     "execution_count": 3,
     "metadata": {},
     "output_type": "execute_result"
    }
   ],
   "source": [
    "names_df = pd.read_csv(\"data/all_names.txt\", names=['name'])\n",
    "print(names_df.shape)\n",
    "names_df.sample(10)"
   ]
  },
  {
   "cell_type": "code",
   "execution_count": 4,
   "id": "c0d7b1d5-3b40-450d-8257-eb0c67b62016",
   "metadata": {},
   "outputs": [],
   "source": [
    "correct_names = names_df['name'].tolist()"
   ]
  },
  {
   "cell_type": "code",
   "execution_count": 5,
   "id": "a1f3c78e-5594-485e-9b39-bb1cd5d39c5b",
   "metadata": {},
   "outputs": [],
   "source": [
    "def generate_fullnames(male_names: List[str], female_list: List[str] = None, num_names = 1000) -> List[str]:\n",
    "    \"\"\"\n",
    "    Generates full names where second and third names must always be males.\n",
    "    \"\"\"\n",
    "    names = []\n",
    "\n",
    "    for _ in range(num_names):\n",
    "        # males\n",
    "        names.append(\" \".join(random.sample(male_names, 3)))\n",
    "        # females\n",
    "        if female_list:\n",
    "            names.append(random.sample(female_names, 1)[0] + \" \" + \" \".join(random.sample(male_names, 2)))\n",
    "    \n",
    "    return names"
   ]
  },
  {
   "cell_type": "code",
   "execution_count": 6,
   "id": "7de68207-c025-4e9d-ab21-21794fd95dbb",
   "metadata": {},
   "outputs": [
    {
     "name": "stdout",
     "output_type": "stream",
     "text": [
      "Number of names generated: 20000\n"
     ]
    },
    {
     "data": {
      "text/plain": [
       "['حمايه تيسير لاوند', 'سعداحمد ابراهبم برى', 'مكة ولاء كريمه']"
      ]
     },
     "execution_count": 6,
     "metadata": {},
     "output_type": "execute_result"
    }
   ],
   "source": [
    "names = generate_fullnames(correct_names, num_names=ds_size//2)\n",
    "print(f\"Number of names generated: {len(names)}\")\n",
    "names[:3]"
   ]
  },
  {
   "cell_type": "code",
   "execution_count": 7,
   "id": "8db6f0e7-23cb-49b6-9fca-d04f15b721de",
   "metadata": {},
   "outputs": [],
   "source": [
    "pd.DataFrame(names, columns=[\"Name\"]).to_csv(\"data/full_correct_names.csv\", index=None)"
   ]
  },
  {
   "cell_type": "code",
   "execution_count": 8,
   "id": "1d4e2364-abfa-4161-adbc-759df41264a5",
   "metadata": {},
   "outputs": [
    {
     "data": {
      "text/html": [
       "<div>\n",
       "<style scoped>\n",
       "    .dataframe tbody tr th:only-of-type {\n",
       "        vertical-align: middle;\n",
       "    }\n",
       "\n",
       "    .dataframe tbody tr th {\n",
       "        vertical-align: top;\n",
       "    }\n",
       "\n",
       "    .dataframe thead th {\n",
       "        text-align: right;\n",
       "    }\n",
       "</style>\n",
       "<table border=\"1\" class=\"dataframe\">\n",
       "  <thead>\n",
       "    <tr style=\"text-align: right;\">\n",
       "      <th></th>\n",
       "      <th>Name</th>\n",
       "    </tr>\n",
       "  </thead>\n",
       "  <tbody>\n",
       "    <tr>\n",
       "      <th>0</th>\n",
       "      <td>حمايه تيسير لاوند</td>\n",
       "    </tr>\n",
       "    <tr>\n",
       "      <th>1</th>\n",
       "      <td>سعداحمد ابراهبم برى</td>\n",
       "    </tr>\n",
       "    <tr>\n",
       "      <th>2</th>\n",
       "      <td>مكة ولاء كريمه</td>\n",
       "    </tr>\n",
       "    <tr>\n",
       "      <th>3</th>\n",
       "      <td>زايد ثراء سحاق</td>\n",
       "    </tr>\n",
       "    <tr>\n",
       "      <th>4</th>\n",
       "      <td>الاسمر الشندى العوضى</td>\n",
       "    </tr>\n",
       "  </tbody>\n",
       "</table>\n",
       "</div>"
      ],
      "text/plain": [
       "                   Name\n",
       "0     حمايه تيسير لاوند\n",
       "1   سعداحمد ابراهبم برى\n",
       "2        مكة ولاء كريمه\n",
       "3        زايد ثراء سحاق\n",
       "4  الاسمر الشندى العوضى"
      ]
     },
     "execution_count": 8,
     "metadata": {},
     "output_type": "execute_result"
    }
   ],
   "source": [
    "temp_df = pd.read_csv(\"data/full_correct_names.csv\")\n",
    "temp_df.head()"
   ]
  },
  {
   "cell_type": "markdown",
   "id": "cf332f35-c569-44d4-abeb-b1fea84b1577",
   "metadata": {
    "tags": []
   },
   "source": [
    "### Stats about our names "
   ]
  },
  {
   "cell_type": "code",
   "execution_count": 9,
   "id": "5ce31170-1d7b-494c-a4cb-b8609583cc04",
   "metadata": {},
   "outputs": [
    {
     "name": "stdout",
     "output_type": "stream",
     "text": [
      "(Max, Min, Mean)\n"
     ]
    },
    {
     "data": {
      "text/plain": [
       "(3, 3, 3.0)"
      ]
     },
     "execution_count": 9,
     "metadata": {},
     "output_type": "execute_result"
    },
    {
     "data": {
      "image/png": "[encoded data removed]",
      "text/plain": [
       "<Figure size 640x480 with 1 Axes>"
      ]
     },
     "metadata": {},
     "output_type": "display_data"
    }
   ],
   "source": [
    "temp_df['Name'].str.split().map(len).value_counts().plot.bar()\n",
    "print(\"(Max, Min, Mean)\")\n",
    "temp_df['Name'].str.split().map(len).max(), temp_df['Name'].str.split().map(len).min(), temp_df['Name'].str.split().map(len).mean()"
   ]
  },
  {
   "cell_type": "markdown",
   "id": "0a8f85d5-f2c0-4f8f-b659-f1ef2b2d24cd",
   "metadata": {
    "tags": []
   },
   "source": [
    "# Generating Bad Names (over engineered)\n",
    "generate individual full names:\n",
    "- total garbage\n",
    "  - we can randomly shuffle the correct names\n",
    "- mistype names\n",
    "  - repeat random characters\n",
    "  - remove random characters\n",
    "- other correct words but not names\n",
    "- mix of all of above\n",
    "- mix bad and good names"
   ]
  },
  {
   "cell_type": "markdown",
   "id": "0e36f797-371a-4c91-93f6-e744fa8d5878",
   "metadata": {},
   "source": [
    "### Helper functions "
   ]
  },
  {
   "cell_type": "markdown",
   "id": "b0dd85de-6ae7-4a74-8b67-d629ecdc0c1a",
   "metadata": {},
   "source": [
    "### Generate names with repeated and or mistyped characters between 1, 2"
   ]
  },
  {
   "cell_type": "code",
   "execution_count": 10,
   "id": "57217579-4900-4e1e-aff3-57bb07b9b1a1",
   "metadata": {},
   "outputs": [],
   "source": [
    "def mistype_characters(name: str, num_repeats: int) -> str:\n",
    "    \"\"\"\n",
    "    Repeat random characters for a num of repeats, randomly turned off(to reduce the number of repeats) so words are not recognizably long.\n",
    "    \"\"\"\n",
    "    new_name: str = \"\"\n",
    "    for idx, ch in enumerate(name):\n",
    "        new_name += ch * random.randint(0, num_repeats)\n",
    "    \n",
    "    return new_name"
   ]
  },
  {
   "cell_type": "code",
   "execution_count": 11,
   "id": "46873888-4552-4dc0-b655-3fbc3a1c0077",
   "metadata": {},
   "outputs": [
    {
     "data": {
      "text/plain": [
       "'مرييم'"
      ]
     },
     "execution_count": 11,
     "metadata": {},
     "output_type": "execute_result"
    }
   ],
   "source": [
    "mistype_characters(\"مريم\", 2)"
   ]
  },
  {
   "cell_type": "code",
   "execution_count": 12,
   "id": "3eb0ab27-37df-4e8d-b0ff-bd36803d48b5",
   "metadata": {},
   "outputs": [
    {
     "data": {
      "text/plain": [
       "['ززيير',\n",
       " 'صصففوح',\n",
       " 'عللا',\n",
       " 'بر',\n",
       " 'زاا',\n",
       " 'ننررةة',\n",
       " 'ععببددللنااعع',\n",
       " 'خخللو',\n",
       " 'مريم',\n",
       " 'اابب']"
      ]
     },
     "execution_count": 12,
     "metadata": {},
     "output_type": "execute_result"
    }
   ],
   "source": [
    "mistyped_names = []\n",
    "for name in names_df.iloc[:, 0].values:\n",
    "    mistyped_names.append(mistype_characters(name, 2))\n",
    "    \n",
    "mistyped_names[:10]"
   ]
  },
  {
   "cell_type": "markdown",
   "id": "e6e65d54-0e98-44c7-bff5-a35330fb3a69",
   "metadata": {},
   "source": [
    "### Get some random but correct words from the internet"
   ]
  },
  {
   "cell_type": "code",
   "execution_count": 13,
   "id": "e210beb7-66de-4900-9a95-820b42b23cc6",
   "metadata": {},
   "outputs": [
    {
     "data": {
      "text/html": [
       "<div>\n",
       "<style scoped>\n",
       "    .dataframe tbody tr th:only-of-type {\n",
       "        vertical-align: middle;\n",
       "    }\n",
       "\n",
       "    .dataframe tbody tr th {\n",
       "        vertical-align: top;\n",
       "    }\n",
       "\n",
       "    .dataframe thead th {\n",
       "        text-align: right;\n",
       "    }\n",
       "</style>\n",
       "<table border=\"1\" class=\"dataframe\">\n",
       "  <thead>\n",
       "    <tr style=\"text-align: right;\">\n",
       "      <th></th>\n",
       "      <th>label</th>\n",
       "      <th>text</th>\n",
       "    </tr>\n",
       "  </thead>\n",
       "  <tbody>\n",
       "    <tr>\n",
       "      <th>0</th>\n",
       "      <td>Positive</td>\n",
       "      <td>ممتاز نوعا ما . النظافة والموقع والتجهيز والشا...</td>\n",
       "    </tr>\n",
       "    <tr>\n",
       "      <th>1</th>\n",
       "      <td>Positive</td>\n",
       "      <td>أحد أسباب نجاح الإمارات أن كل شخص في هذه الدول...</td>\n",
       "    </tr>\n",
       "    <tr>\n",
       "      <th>2</th>\n",
       "      <td>Positive</td>\n",
       "      <td>هادفة .. وقوية. تنقلك من صخب شوارع القاهرة الى...</td>\n",
       "    </tr>\n",
       "    <tr>\n",
       "      <th>3</th>\n",
       "      <td>Positive</td>\n",
       "      <td>خلصنا .. مبدئيا اللي مستني ابهار زي الفيل الاز...</td>\n",
       "    </tr>\n",
       "    <tr>\n",
       "      <th>4</th>\n",
       "      <td>Positive</td>\n",
       "      <td>ياسات جلوريا جزء لا يتجزأ من دبي . فندق متكامل...</td>\n",
       "    </tr>\n",
       "  </tbody>\n",
       "</table>\n",
       "</div>"
      ],
      "text/plain": [
       "      label                                               text\n",
       "0  Positive  ممتاز نوعا ما . النظافة والموقع والتجهيز والشا...\n",
       "1  Positive  أحد أسباب نجاح الإمارات أن كل شخص في هذه الدول...\n",
       "2  Positive  هادفة .. وقوية. تنقلك من صخب شوارع القاهرة الى...\n",
       "3  Positive  خلصنا .. مبدئيا اللي مستني ابهار زي الفيل الاز...\n",
       "4  Positive  ياسات جلوريا جزء لا يتجزأ من دبي . فندق متكامل..."
      ]
     },
     "execution_count": 13,
     "metadata": {},
     "output_type": "execute_result"
    }
   ],
   "source": [
    "df = pd.read_csv(\"data/ar_reviews_100k.tsv\", sep=\"\\t\")\n",
    "df.head()"
   ]
  },
  {
   "cell_type": "code",
   "execution_count": 14,
   "id": "dbd21e4e-93b3-44ff-8b8b-f7f39b12d489",
   "metadata": {},
   "outputs": [
    {
     "name": "stderr",
     "output_type": "stream",
     "text": [
      "100%|████████████████████████████████████████████████████████████████████████████████████████████████████████████████████| 99999/99999 [00:03<00:00, 25394.32it/s]"
     ]
    },
    {
     "name": "stdout",
     "output_type": "stream",
     "text": [
      "Number of words: 351992\n"
     ]
    },
    {
     "name": "stderr",
     "output_type": "stream",
     "text": [
      "\n"
     ]
    }
   ],
   "source": [
    "word_counter = Counter()\n",
    "\n",
    "for sent in tqdm(df.iloc[:, 1], total=df.shape[0]):\n",
    "    # remove Punctuation first\n",
    "    sent = sent.translate(str.maketrans('', '', string.punctuation))\n",
    "    word_counter.update(sent.split())\n",
    "\n",
    "print(f\"Number of words: {len(word_counter)}\")\n",
    "some_common_words = word_counter.most_common()[10_000: 15_000]\n",
    "some_common_words = [i[0] for i in some_common_words]"
   ]
  },
  {
   "cell_type": "markdown",
   "id": "658c9342-1229-4076-abef-13d2ba7e465e",
   "metadata": {},
   "source": [
    "### Total Garabage"
   ]
  },
  {
   "cell_type": "code",
   "execution_count": 15,
   "id": "a68e7150-52a4-47bb-9c1c-723147c00856",
   "metadata": {},
   "outputs": [
    {
     "data": {
      "text/plain": [
       "['رهزي',\n",
       " 'فوحص',\n",
       " 'عيلاا',\n",
       " 'رجوب',\n",
       " 'ازهى',\n",
       " 'ورنة',\n",
       " 'عدانفبعال',\n",
       " 'لوخد',\n",
       " 'ممري',\n",
       " 'عارب']"
      ]
     },
     "execution_count": 15,
     "metadata": {},
     "output_type": "execute_result"
    }
   ],
   "source": [
    "garbage_names = []\n",
    "\n",
    "for name in names_df.iloc[:, 0].values:\n",
    "    name = list(name)\n",
    "    random.shuffle(name)\n",
    "    garbage_names.append(\"\".join(name))\n",
    "    \n",
    "garbage_names[:10]"
   ]
  },
  {
   "cell_type": "markdown",
   "id": "35d3f983-8b38-4c31-858c-6dc1e7e9f15f",
   "metadata": {},
   "source": [
    "## Generating Bad Names\n",
    "- [x] total garbage\n",
    "- [x] mistype\n",
    "- [x] correct words but not names\n",
    "- [x] mix bad names\n",
    "- [x] mix good and bad names\n",
    "    - 1 or 2 good names"
   ]
  },
  {
   "cell_type": "code",
   "execution_count": 16,
   "id": "a172bd24-fed0-47e9-83d8-3348fff36259",
   "metadata": {},
   "outputs": [],
   "source": [
    "def generate_mix(bad_names: List[str], good_names: List[str], num_names: int = 500) -> List[str]:\n",
    "    \"\"\"\n",
    "    Generate 3-words names that have 1 or 2 correct names in it.\n",
    "    \"\"\"\n",
    "    \n",
    "    names = []\n",
    "    for _ in range(num_names):\n",
    "        # pick 1 or 2 good names\n",
    "        num_good = random.randint(1, 2)\n",
    "        num_bad = 3 - num_good\n",
    "\n",
    "        name_words = []\n",
    "        name_words.extend(random.sample(good_names, num_good)) # good names\n",
    "        name_words.extend(random.sample(bad_names, num_bad)) # bad names\n",
    "        random.shuffle(name_words)\n",
    "        names.append(\" \".join(name_words))\n",
    "        \n",
    "    return names"
   ]
  },
  {
   "cell_type": "code",
   "execution_count": 19,
   "id": "d6ad45a5-175b-4a09-a8f6-27d921a87670",
   "metadata": {},
   "outputs": [
    {
     "name": "stdout",
     "output_type": "stream",
     "text": [
      "Number of bad names: 20000\n"
     ]
    }
   ],
   "source": [
    "# garbage\n",
    "n = ds_size//2//5\n",
    "\n",
    "bad_names = []\n",
    "bad_names.extend(generate_fullnames(garbage_names, num_names=n))\n",
    "\n",
    "# mistyped\n",
    "bad_names.extend(generate_fullnames(mistyped_names, num_names=n))\n",
    "\n",
    "# correct but not names\n",
    "bad_names.extend(generate_fullnames(some_common_words, num_names=n))\n",
    "\n",
    "# mix bad names\n",
    "bad_names.extend(generate_fullnames(garbage_names+mistyped_names+some_common_words, num_names=n))\n",
    "\n",
    "# mix good and bad names\n",
    "bad_names.extend(generate_mix(garbage_names+mistyped_names+some_common_words, correct_names, num_names=n))\n",
    "\n",
    "print(f\"Number of bad names: {len(bad_names)}\")"
   ]
  },
  {
   "cell_type": "code",
   "execution_count": 20,
   "id": "2c7b20fe-0fbb-4de9-8530-c7429322fcaf",
   "metadata": {},
   "outputs": [],
   "source": [
    "pd.DataFrame(bad_names, columns=[\"Name\"]).to_csv(\"data/full_bad_names.csv\", index=None)"
   ]
  },
  {
   "cell_type": "code",
   "execution_count": 21,
   "id": "55a0d64c-efbd-46c0-8a98-e966aac986e9",
   "metadata": {},
   "outputs": [
    {
     "data": {
      "text/html": [
       "<div>\n",
       "<style scoped>\n",
       "    .dataframe tbody tr th:only-of-type {\n",
       "        vertical-align: middle;\n",
       "    }\n",
       "\n",
       "    .dataframe tbody tr th {\n",
       "        vertical-align: top;\n",
       "    }\n",
       "\n",
       "    .dataframe thead th {\n",
       "        text-align: right;\n",
       "    }\n",
       "</style>\n",
       "<table border=\"1\" class=\"dataframe\">\n",
       "  <thead>\n",
       "    <tr style=\"text-align: right;\">\n",
       "      <th></th>\n",
       "      <th>Name</th>\n",
       "    </tr>\n",
       "  </thead>\n",
       "  <tbody>\n",
       "    <tr>\n",
       "      <th>14193</th>\n",
       "      <td>بحصى دالل نحيسه</td>\n",
       "    </tr>\n",
       "    <tr>\n",
       "      <th>19965</th>\n",
       "      <td>شوف عمرمنصور جزر</td>\n",
       "    </tr>\n",
       "    <tr>\n",
       "      <th>18974</th>\n",
       "      <td>اابهسىنلو مصلحى حنفى</td>\n",
       "    </tr>\n",
       "    <tr>\n",
       "      <th>5328</th>\n",
       "      <td>ووههدىى ييسسميننه اا</td>\n",
       "    </tr>\n",
       "    <tr>\n",
       "      <th>447</th>\n",
       "      <td>ادهسع شباع مىعر</td>\n",
       "    </tr>\n",
       "  </tbody>\n",
       "</table>\n",
       "</div>"
      ],
      "text/plain": [
       "                       Name\n",
       "14193       بحصى دالل نحيسه\n",
       "19965      شوف عمرمنصور جزر\n",
       "18974  اابهسىنلو مصلحى حنفى\n",
       "5328   ووههدىى ييسسميننه اا\n",
       "447         ادهسع شباع مىعر"
      ]
     },
     "execution_count": 21,
     "metadata": {},
     "output_type": "execute_result"
    }
   ],
   "source": [
    "temp_df = pd.read_csv(\"data/full_bad_names.csv\")\n",
    "temp_df.sample(5)"
   ]
  },
  {
   "cell_type": "markdown",
   "id": "577ada31-e1e0-4f43-a3cd-89d4ebe7083d",
   "metadata": {
    "tags": []
   },
   "source": [
    "# Making the Dataset"
   ]
  },
  {
   "cell_type": "code",
   "execution_count": 22,
   "id": "d6ca067f-a4d1-43dd-b4c2-20adbf6ad04f",
   "metadata": {},
   "outputs": [],
   "source": [
    "df_correct = pd.read_csv(\"data/full_correct_names.csv\")\n",
    "df_incorrect = pd.read_csv(\"data/full_bad_names.csv\")"
   ]
  },
  {
   "cell_type": "code",
   "execution_count": 23,
   "id": "2a671937-45dc-41a1-a8bb-36160a3e74d9",
   "metadata": {},
   "outputs": [
    {
     "data": {
      "text/html": [
       "<div>\n",
       "<style scoped>\n",
       "    .dataframe tbody tr th:only-of-type {\n",
       "        vertical-align: middle;\n",
       "    }\n",
       "\n",
       "    .dataframe tbody tr th {\n",
       "        vertical-align: top;\n",
       "    }\n",
       "\n",
       "    .dataframe thead th {\n",
       "        text-align: right;\n",
       "    }\n",
       "</style>\n",
       "<table border=\"1\" class=\"dataframe\">\n",
       "  <thead>\n",
       "    <tr style=\"text-align: right;\">\n",
       "      <th></th>\n",
       "      <th>Name</th>\n",
       "      <th>class</th>\n",
       "    </tr>\n",
       "  </thead>\n",
       "  <tbody>\n",
       "    <tr>\n",
       "      <th>0</th>\n",
       "      <td>حمايه تيسير لاوند</td>\n",
       "      <td>1.0</td>\n",
       "    </tr>\n",
       "    <tr>\n",
       "      <th>1</th>\n",
       "      <td>سعداحمد ابراهبم برى</td>\n",
       "      <td>1.0</td>\n",
       "    </tr>\n",
       "    <tr>\n",
       "      <th>2</th>\n",
       "      <td>مكة ولاء كريمه</td>\n",
       "      <td>1.0</td>\n",
       "    </tr>\n",
       "    <tr>\n",
       "      <th>3</th>\n",
       "      <td>زايد ثراء سحاق</td>\n",
       "      <td>1.0</td>\n",
       "    </tr>\n",
       "    <tr>\n",
       "      <th>4</th>\n",
       "      <td>الاسمر الشندى العوضى</td>\n",
       "      <td>1.0</td>\n",
       "    </tr>\n",
       "    <tr>\n",
       "      <th>...</th>\n",
       "      <td>...</td>\n",
       "      <td>...</td>\n",
       "    </tr>\n",
       "    <tr>\n",
       "      <th>39995</th>\n",
       "      <td>حامد قطار عزيزة</td>\n",
       "      <td>0.0</td>\n",
       "    </tr>\n",
       "    <tr>\n",
       "      <th>39996</th>\n",
       "      <td>ععددوو خليفة اسماء</td>\n",
       "      <td>0.0</td>\n",
       "    </tr>\n",
       "    <tr>\n",
       "      <th>39997</th>\n",
       "      <td>العسوى رحاب وه</td>\n",
       "      <td>0.0</td>\n",
       "    </tr>\n",
       "    <tr>\n",
       "      <th>39998</th>\n",
       "      <td>خادم بشاره لب</td>\n",
       "      <td>0.0</td>\n",
       "    </tr>\n",
       "    <tr>\n",
       "      <th>39999</th>\n",
       "      <td>تتأثر الباز الورادنى</td>\n",
       "      <td>0.0</td>\n",
       "    </tr>\n",
       "  </tbody>\n",
       "</table>\n",
       "<p>40000 rows × 2 columns</p>\n",
       "</div>"
      ],
      "text/plain": [
       "                       Name  class\n",
       "0         حمايه تيسير لاوند    1.0\n",
       "1       سعداحمد ابراهبم برى    1.0\n",
       "2            مكة ولاء كريمه    1.0\n",
       "3            زايد ثراء سحاق    1.0\n",
       "4      الاسمر الشندى العوضى    1.0\n",
       "...                     ...    ...\n",
       "39995       حامد قطار عزيزة    0.0\n",
       "39996    ععددوو خليفة اسماء    0.0\n",
       "39997        العسوى رحاب وه    0.0\n",
       "39998         خادم بشاره لب    0.0\n",
       "39999  تتأثر الباز الورادنى    0.0\n",
       "\n",
       "[40000 rows x 2 columns]"
      ]
     },
     "execution_count": 23,
     "metadata": {},
     "output_type": "execute_result"
    }
   ],
   "source": [
    "full_df = df_correct.copy()\n",
    "full_df['class'] = 1\n",
    "full_df = pd.concat([full_df, df_incorrect], ignore_index=True)\n",
    "full_df.fillna(0, inplace=True)\n",
    "full_df"
   ]
  },
  {
   "cell_type": "code",
   "execution_count": 24,
   "id": "b022bf4b-9e78-4ac7-9ccd-4d302e39ee33",
   "metadata": {},
   "outputs": [
    {
     "name": "stdout",
     "output_type": "stream",
     "text": [
      "(40000, 2)\n"
     ]
    },
    {
     "data": {
      "text/html": [
       "<div>\n",
       "<style scoped>\n",
       "    .dataframe tbody tr th:only-of-type {\n",
       "        vertical-align: middle;\n",
       "    }\n",
       "\n",
       "    .dataframe tbody tr th {\n",
       "        vertical-align: top;\n",
       "    }\n",
       "\n",
       "    .dataframe thead th {\n",
       "        text-align: right;\n",
       "    }\n",
       "</style>\n",
       "<table border=\"1\" class=\"dataframe\">\n",
       "  <thead>\n",
       "    <tr style=\"text-align: right;\">\n",
       "      <th></th>\n",
       "      <th>Name</th>\n",
       "      <th>class</th>\n",
       "    </tr>\n",
       "  </thead>\n",
       "  <tbody>\n",
       "    <tr>\n",
       "      <th>32958</th>\n",
       "      <td>حزم الاختلاط لسسعع</td>\n",
       "      <td>0.0</td>\n",
       "    </tr>\n",
       "    <tr>\n",
       "      <th>14925</th>\n",
       "      <td>غيداء سعاد مشيره</td>\n",
       "      <td>1.0</td>\n",
       "    </tr>\n",
       "    <tr>\n",
       "      <th>10017</th>\n",
       "      <td>باسل معاز السلاوى</td>\n",
       "      <td>1.0</td>\n",
       "    </tr>\n",
       "    <tr>\n",
       "      <th>12709</th>\n",
       "      <td>عبدالعالم اسمى امال</td>\n",
       "      <td>1.0</td>\n",
       "    </tr>\n",
       "    <tr>\n",
       "      <th>38670</th>\n",
       "      <td>وروعة راوية جوهرة</td>\n",
       "      <td>0.0</td>\n",
       "    </tr>\n",
       "  </tbody>\n",
       "</table>\n",
       "</div>"
      ],
      "text/plain": [
       "                      Name  class\n",
       "32958   حزم الاختلاط لسسعع    0.0\n",
       "14925     غيداء سعاد مشيره    1.0\n",
       "10017    باسل معاز السلاوى    1.0\n",
       "12709  عبدالعالم اسمى امال    1.0\n",
       "38670    وروعة راوية جوهرة    0.0"
      ]
     },
     "execution_count": 24,
     "metadata": {},
     "output_type": "execute_result"
    }
   ],
   "source": [
    "full_df.to_csv(f\"data/{ds_name}.csv\", index=False)\n",
    "temp_df = pd.read_csv(f\"data/{ds_name}.csv\")\n",
    "print(temp_df.shape)\n",
    "temp_df.sample(5)"
   ]
  }
 ],
 "metadata": {
  "kernelspec": {
   "display_name": "Python 3 (ipykernel)",
   "language": "python",
   "name": "python3"
  },
  "language_info": {
   "codemirror_mode": {
    "name": "ipython",
    "version": 3
   },
   "file_extension": ".py",
   "mimetype": "text/x-python",
   "name": "python",
   "nbconvert_exporter": "python",
   "pygments_lexer": "ipython3",
   "version": "3.10.8"
  }
 },
 "nbformat": 4,
 "nbformat_minor": 5
}
