{
 "cells": [
  {
   "cell_type": "markdown",
   "id": "bef6e88f-b39f-49f3-b715-c3cd16cdad66",
   "metadata": {
    "tags": []
   },
   "source": [
    "# Generating Correct Names\n",
    "#### Rules\n",
    "- 3 words\n",
    "- First word can be male/female\n",
    "- Second and third words must be males"
   ]
  },
  {
   "cell_type": "code",
   "execution_count": 1,
   "id": "ac9d1715-87b7-48fb-b8aa-a4a3aae6e907",
   "metadata": {},
   "outputs": [],
   "source": [
    "from typing import List\n",
    "import pandas as pd\n",
    "import random\n",
    "import string\n",
    "\n",
    "from collections import Counter\n",
    "from tqdm import tqdm\n",
    "\n",
    "random.seed(23)"
   ]
  },
  {
   "cell_type": "code",
   "execution_count": 7,
   "id": "7cc470de-9119-4e08-b6d6-0cee745ed931",
   "metadata": {},
   "outputs": [],
   "source": [
    "ds_name = 'both_generated_using_correct_names_20k'\n",
    "ds_size = 20_000"
   ]
  },
  {
   "cell_type": "markdown",
   "id": "7872b43e-5e4d-47c7-9efc-2a14b5d2f054",
   "metadata": {
    "tags": []
   },
   "source": [
    "## Generate Correct names"
   ]
  },
  {
   "cell_type": "code",
   "execution_count": 8,
   "id": "1f7238d7-29b7-4974-97aa-04afa5ce4b32",
   "metadata": {},
   "outputs": [
    {
     "name": "stdout",
     "output_type": "stream",
     "text": [
      "(3729, 1)\n"
     ]
    },
    {
     "data": {
      "text/html": [
       "<div>\n",
       "<style scoped>\n",
       "    .dataframe tbody tr th:only-of-type {\n",
       "        vertical-align: middle;\n",
       "    }\n",
       "\n",
       "    .dataframe tbody tr th {\n",
       "        vertical-align: top;\n",
       "    }\n",
       "\n",
       "    .dataframe thead th {\n",
       "        text-align: right;\n",
       "    }\n",
       "</style>\n",
       "<table border=\"1\" class=\"dataframe\">\n",
       "  <thead>\n",
       "    <tr style=\"text-align: right;\">\n",
       "      <th></th>\n",
       "      <th>name</th>\n",
       "    </tr>\n",
       "  </thead>\n",
       "  <tbody>\n",
       "    <tr>\n",
       "      <th>23</th>\n",
       "      <td>صلاتة</td>\n",
       "    </tr>\n",
       "    <tr>\n",
       "      <th>2105</th>\n",
       "      <td>جعفر</td>\n",
       "    </tr>\n",
       "    <tr>\n",
       "      <th>806</th>\n",
       "      <td>عليم</td>\n",
       "    </tr>\n",
       "    <tr>\n",
       "      <th>863</th>\n",
       "      <td>الريات</td>\n",
       "    </tr>\n",
       "    <tr>\n",
       "      <th>3394</th>\n",
       "      <td>هشامم</td>\n",
       "    </tr>\n",
       "    <tr>\n",
       "      <th>2712</th>\n",
       "      <td>طنيب</td>\n",
       "    </tr>\n",
       "    <tr>\n",
       "      <th>449</th>\n",
       "      <td>البهنساوى</td>\n",
       "    </tr>\n",
       "    <tr>\n",
       "      <th>2337</th>\n",
       "      <td>رميح</td>\n",
       "    </tr>\n",
       "    <tr>\n",
       "      <th>3143</th>\n",
       "      <td>ارزق</td>\n",
       "    </tr>\n",
       "    <tr>\n",
       "      <th>2789</th>\n",
       "      <td>سمعان</td>\n",
       "    </tr>\n",
       "  </tbody>\n",
       "</table>\n",
       "</div>"
      ],
      "text/plain": [
       "           name\n",
       "23        صلاتة\n",
       "2105       جعفر\n",
       "806        عليم\n",
       "863      الريات\n",
       "3394      هشامم\n",
       "2712       طنيب\n",
       "449   البهنساوى\n",
       "2337       رميح\n",
       "3143       ارزق\n",
       "2789      سمعان"
      ]
     },
     "execution_count": 8,
     "metadata": {},
     "output_type": "execute_result"
    }
   ],
   "source": [
    "names_df = pd.read_csv(\"data/all_names.txt\", names=['name'])\n",
    "print(names_df.shape)\n",
    "names_df.sample(10)"
   ]
  },
  {
   "cell_type": "code",
   "execution_count": 9,
   "id": "c0d7b1d5-3b40-450d-8257-eb0c67b62016",
   "metadata": {},
   "outputs": [],
   "source": [
    "correct_names = names_df['name'].tolist()"
   ]
  },
  {
   "cell_type": "code",
   "execution_count": 10,
   "id": "a1f3c78e-5594-485e-9b39-bb1cd5d39c5b",
   "metadata": {},
   "outputs": [],
   "source": [
    "def generate_fullnames(male_names: List[str], female_list: List[str] = None, num_names = 1000) -> List[str]:\n",
    "    \"\"\"\n",
    "    Generates full names where second and third names must always be males.\n",
    "    \"\"\"\n",
    "    names = []\n",
    "\n",
    "    for _ in range(num_names):\n",
    "        # males\n",
    "        names.append(\" \".join(random.sample(male_names, 3)))\n",
    "        # females\n",
    "        if female_list:\n",
    "            names.append(random.sample(female_names, 1)[0] + \" \" + \" \".join(random.sample(male_names, 2)))\n",
    "    \n",
    "    return names"
   ]
  },
  {
   "cell_type": "code",
   "execution_count": 11,
   "id": "7de68207-c025-4e9d-ab21-21794fd95dbb",
   "metadata": {},
   "outputs": [
    {
     "name": "stdout",
     "output_type": "stream",
     "text": [
      "Number of names generated: 10000\n"
     ]
    },
    {
     "data": {
      "text/plain": [
       "['حمايه تيسير لاوند', 'سعداحمد ابراهبم برى', 'مكة ولاء كريمه']"
      ]
     },
     "execution_count": 11,
     "metadata": {},
     "output_type": "execute_result"
    }
   ],
   "source": [
    "names = generate_fullnames(correct_names, num_names=ds_size//2)\n",
    "print(f\"Number of names generated: {len(names)}\")\n",
    "names[:3]"
   ]
  },
  {
   "cell_type": "code",
   "execution_count": 12,
   "id": "8db6f0e7-23cb-49b6-9fca-d04f15b721de",
   "metadata": {},
   "outputs": [],
   "source": [
    "pd.DataFrame(names, columns=[\"Name\"]).to_csv(\"data/full_correct_names.csv\", index=None)"
   ]
  },
  {
   "cell_type": "code",
   "execution_count": 13,
   "id": "1d4e2364-abfa-4161-adbc-759df41264a5",
   "metadata": {},
   "outputs": [
    {
     "data": {
      "text/html": [
       "<div>\n",
       "<style scoped>\n",
       "    .dataframe tbody tr th:only-of-type {\n",
       "        vertical-align: middle;\n",
       "    }\n",
       "\n",
       "    .dataframe tbody tr th {\n",
       "        vertical-align: top;\n",
       "    }\n",
       "\n",
       "    .dataframe thead th {\n",
       "        text-align: right;\n",
       "    }\n",
       "</style>\n",
       "<table border=\"1\" class=\"dataframe\">\n",
       "  <thead>\n",
       "    <tr style=\"text-align: right;\">\n",
       "      <th></th>\n",
       "      <th>Name</th>\n",
       "    </tr>\n",
       "  </thead>\n",
       "  <tbody>\n",
       "    <tr>\n",
       "      <th>0</th>\n",
       "      <td>حمايه تيسير لاوند</td>\n",
       "    </tr>\n",
       "    <tr>\n",
       "      <th>1</th>\n",
       "      <td>سعداحمد ابراهبم برى</td>\n",
       "    </tr>\n",
       "    <tr>\n",
       "      <th>2</th>\n",
       "      <td>مكة ولاء كريمه</td>\n",
       "    </tr>\n",
       "    <tr>\n",
       "      <th>3</th>\n",
       "      <td>زايد ثراء سحاق</td>\n",
       "    </tr>\n",
       "    <tr>\n",
       "      <th>4</th>\n",
       "      <td>الاسمر الشندى العوضى</td>\n",
       "    </tr>\n",
       "  </tbody>\n",
       "</table>\n",
       "</div>"
      ],
      "text/plain": [
       "                   Name\n",
       "0     حمايه تيسير لاوند\n",
       "1   سعداحمد ابراهبم برى\n",
       "2        مكة ولاء كريمه\n",
       "3        زايد ثراء سحاق\n",
       "4  الاسمر الشندى العوضى"
      ]
     },
     "execution_count": 13,
     "metadata": {},
     "output_type": "execute_result"
    }
   ],
   "source": [
    "temp_df = pd.read_csv(\"data/full_correct_names.csv\")\n",
    "temp_df.head()"
   ]
  },
  {
   "cell_type": "markdown",
   "id": "cf332f35-c569-44d4-abeb-b1fea84b1577",
   "metadata": {
    "tags": []
   },
   "source": [
    "### Stats about our names "
   ]
  },
  {
   "cell_type": "code",
   "execution_count": 14,
   "id": "5ce31170-1d7b-494c-a4cb-b8609583cc04",
   "metadata": {},
   "outputs": [
    {
     "name": "stdout",
     "output_type": "stream",
     "text": [
      "(Max, Min, Mean)\n"
     ]
    },
    {
     "data": {
      "text/plain": [
       "(3, 3, 3.0)"
      ]
     },
     "execution_count": 14,
     "metadata": {},
     "output_type": "execute_result"
    },
    {
     "data": {
      "image/png": "[encoded data removed]",
      "text/plain": [
       "<Figure size 640x480 with 1 Axes>"
      ]
     },
     "metadata": {},
     "output_type": "display_data"
    }
   ],
   "source": [
    "temp_df['Name'].str.split().map(len).value_counts().plot.bar()\n",
    "print(\"(Max, Min, Mean)\")\n",
    "temp_df['Name'].str.split().map(len).max(), temp_df['Name'].str.split().map(len).min(), temp_df['Name'].str.split().map(len).mean()"
   ]
  },
  {
   "cell_type": "markdown",
   "id": "0a8f85d5-f2c0-4f8f-b659-f1ef2b2d24cd",
   "metadata": {
    "tags": []
   },
   "source": [
    "# Generating Bad Names\n",
    "generate individual full names:\n",
    "- total garbage - 500\n",
    "  - we can randomly shuffle the correct names\n",
    "- mistype names - 500\n",
    "  - repeat random characters\n",
    "- other correct words but not names - 500\n",
    "- mix of all of above - 500"
   ]
  },
  {
   "cell_type": "markdown",
   "id": "0e36f797-371a-4c91-93f6-e744fa8d5878",
   "metadata": {},
   "source": [
    "### Helper functions "
   ]
  },
  {
   "cell_type": "markdown",
   "id": "b0dd85de-6ae7-4a74-8b67-d629ecdc0c1a",
   "metadata": {},
   "source": [
    "### Generate names with repeated characters between 1, 2"
   ]
  },
  {
   "cell_type": "code",
   "execution_count": 15,
   "id": "57217579-4900-4e1e-aff3-57bb07b9b1a1",
   "metadata": {},
   "outputs": [],
   "source": [
    "def repeat_characters(name: str, num_repeats: int) -> str:\n",
    "    \"\"\"\n",
    "    Repeat random characters for a num of repeats, randomly turned off(to reduce the number of repeats) so words are not recognizably long.\n",
    "    \"\"\"\n",
    "    new_name: str = \"\"\n",
    "    for idx, ch in enumerate(name):\n",
    "        if random.randint(0, 1):\n",
    "            reps = num_repeats\n",
    "        else:\n",
    "            reps = 1\n",
    "        new_name += ch * random.randint(1, reps)\n",
    "    \n",
    "    return new_name"
   ]
  },
  {
   "cell_type": "code",
   "execution_count": 16,
   "id": "46873888-4552-4dc0-b655-3fbc3a1c0077",
   "metadata": {},
   "outputs": [
    {
     "data": {
      "text/plain": [
       "'مريم'"
      ]
     },
     "execution_count": 16,
     "metadata": {},
     "output_type": "execute_result"
    }
   ],
   "source": [
    "repeat_characters(\"مريم\", 2)"
   ]
  },
  {
   "cell_type": "code",
   "execution_count": 22,
   "id": "3eb0ab27-37df-4e8d-b0ff-bd36803d48b5",
   "metadata": {},
   "outputs": [
    {
     "data": {
      "text/plain": [
       "['زهير',\n",
       " 'صصفووحح',\n",
       " 'ععالليا',\n",
       " 'برروج',\n",
       " 'ززااهى',\n",
       " 'نورة',\n",
       " 'عبدداالناففع',\n",
       " 'خللود',\n",
       " 'مريم',\n",
       " 'عابرر']"
      ]
     },
     "execution_count": 22,
     "metadata": {},
     "output_type": "execute_result"
    }
   ],
   "source": [
    "repeated_names = []\n",
    "for name in names_df.iloc[:, 0].values:\n",
    "    repeated_names.append(repeat_characters(name, 2))\n",
    "    \n",
    "repeated_names[:10]"
   ]
  },
  {
   "cell_type": "markdown",
   "id": "e6e65d54-0e98-44c7-bff5-a35330fb3a69",
   "metadata": {},
   "source": [
    "### Get some random but correct words from the internet"
   ]
  },
  {
   "cell_type": "code",
   "execution_count": 23,
   "id": "e210beb7-66de-4900-9a95-820b42b23cc6",
   "metadata": {},
   "outputs": [
    {
     "data": {
      "text/html": [
       "<div>\n",
       "<style scoped>\n",
       "    .dataframe tbody tr th:only-of-type {\n",
       "        vertical-align: middle;\n",
       "    }\n",
       "\n",
       "    .dataframe tbody tr th {\n",
       "        vertical-align: top;\n",
       "    }\n",
       "\n",
       "    .dataframe thead th {\n",
       "        text-align: right;\n",
       "    }\n",
       "</style>\n",
       "<table border=\"1\" class=\"dataframe\">\n",
       "  <thead>\n",
       "    <tr style=\"text-align: right;\">\n",
       "      <th></th>\n",
       "      <th>label</th>\n",
       "      <th>text</th>\n",
       "    </tr>\n",
       "  </thead>\n",
       "  <tbody>\n",
       "    <tr>\n",
       "      <th>0</th>\n",
       "      <td>Positive</td>\n",
       "      <td>ممتاز نوعا ما . النظافة والموقع والتجهيز والشا...</td>\n",
       "    </tr>\n",
       "    <tr>\n",
       "      <th>1</th>\n",
       "      <td>Positive</td>\n",
       "      <td>أحد أسباب نجاح الإمارات أن كل شخص في هذه الدول...</td>\n",
       "    </tr>\n",
       "    <tr>\n",
       "      <th>2</th>\n",
       "      <td>Positive</td>\n",
       "      <td>هادفة .. وقوية. تنقلك من صخب شوارع القاهرة الى...</td>\n",
       "    </tr>\n",
       "    <tr>\n",
       "      <th>3</th>\n",
       "      <td>Positive</td>\n",
       "      <td>خلصنا .. مبدئيا اللي مستني ابهار زي الفيل الاز...</td>\n",
       "    </tr>\n",
       "    <tr>\n",
       "      <th>4</th>\n",
       "      <td>Positive</td>\n",
       "      <td>ياسات جلوريا جزء لا يتجزأ من دبي . فندق متكامل...</td>\n",
       "    </tr>\n",
       "  </tbody>\n",
       "</table>\n",
       "</div>"
      ],
      "text/plain": [
       "      label                                               text\n",
       "0  Positive  ممتاز نوعا ما . النظافة والموقع والتجهيز والشا...\n",
       "1  Positive  أحد أسباب نجاح الإمارات أن كل شخص في هذه الدول...\n",
       "2  Positive  هادفة .. وقوية. تنقلك من صخب شوارع القاهرة الى...\n",
       "3  Positive  خلصنا .. مبدئيا اللي مستني ابهار زي الفيل الاز...\n",
       "4  Positive  ياسات جلوريا جزء لا يتجزأ من دبي . فندق متكامل..."
      ]
     },
     "execution_count": 23,
     "metadata": {},
     "output_type": "execute_result"
    }
   ],
   "source": [
    "df = pd.read_csv(\"data/ar_reviews_100k.tsv\", sep=\"\\t\")\n",
    "df.head()"
   ]
  },
  {
   "cell_type": "code",
   "execution_count": 24,
   "id": "dbd21e4e-93b3-44ff-8b8b-f7f39b12d489",
   "metadata": {},
   "outputs": [
    {
     "name": "stderr",
     "output_type": "stream",
     "text": [
      "100%|████████████████████████████████████████████████████████████████████████████████████████████████████████████████████| 99999/99999 [00:03<00:00, 25906.21it/s]"
     ]
    },
    {
     "name": "stdout",
     "output_type": "stream",
     "text": [
      "Number of words: 351992\n"
     ]
    },
    {
     "name": "stderr",
     "output_type": "stream",
     "text": [
      "\n"
     ]
    }
   ],
   "source": [
    "word_counter = Counter()\n",
    "\n",
    "for sent in tqdm(df.iloc[:, 1], total=df.shape[0]):\n",
    "    # remove Punctuation first\n",
    "    sent = sent.translate(str.maketrans('', '', string.punctuation))\n",
    "    word_counter.update(sent.split())\n",
    "\n",
    "print(f\"Number of words: {len(word_counter)}\")\n",
    "some_common_words = word_counter.most_common()[10_000: 15_000]\n",
    "some_common_words = [i[0] for i in some_common_words]"
   ]
  },
  {
   "cell_type": "markdown",
   "id": "658c9342-1229-4076-abef-13d2ba7e465e",
   "metadata": {},
   "source": [
    "### Total Garabage"
   ]
  },
  {
   "cell_type": "code",
   "execution_count": 25,
   "id": "a68e7150-52a4-47bb-9c1c-723147c00856",
   "metadata": {},
   "outputs": [
    {
     "data": {
      "text/plain": [
       "['ريهز',\n",
       " 'فحوص',\n",
       " 'لاعاي',\n",
       " 'جروب',\n",
       " 'هىزا',\n",
       " 'وةرن',\n",
       " 'بافاعدعلن',\n",
       " 'خدول',\n",
       " 'ريمم',\n",
       " 'ارعب']"
      ]
     },
     "execution_count": 25,
     "metadata": {},
     "output_type": "execute_result"
    }
   ],
   "source": [
    "garbage_names = []\n",
    "\n",
    "for name in names_df.iloc[:, 0].values:\n",
    "    name = list(name)\n",
    "    random.shuffle(name)\n",
    "    garbage_names.append(\"\".join(name))\n",
    "    \n",
    "garbage_names[:10]"
   ]
  },
  {
   "cell_type": "markdown",
   "id": "35d3f983-8b38-4c31-858c-6dc1e7e9f15f",
   "metadata": {},
   "source": [
    "## Generating Bad Names\n",
    "- [x] total garbage\n",
    "- [x] repeated\n",
    "- [x] correct words but not names\n",
    "- [x] mix bad names\n",
    "- [x] mix good and bad names\n",
    "    - 1 or 2 good names"
   ]
  },
  {
   "cell_type": "code",
   "execution_count": 26,
   "id": "a172bd24-fed0-47e9-83d8-3348fff36259",
   "metadata": {},
   "outputs": [],
   "source": [
    "def generate_mix(bad_names: List[str], good_names: List[str], num_names: int = 500) -> List[str]:\n",
    "    \"\"\"\n",
    "    Generate 3-words names that have 1 or 2 correct names in it.\n",
    "    \"\"\"\n",
    "    \n",
    "    names = []\n",
    "    for _ in range(num_names):\n",
    "        # pick 1 or 2 good names\n",
    "        num_good = random.randint(1, 2)\n",
    "        num_bad = 3 - num_good\n",
    "\n",
    "        name_words = []\n",
    "        name_words.extend(random.sample(good_names, num_good)) # good names\n",
    "        name_words.extend(random.sample(bad_names, num_bad)) # bad names\n",
    "        random.shuffle(name_words)\n",
    "        names.append(\" \".join(name_words))\n",
    "        \n",
    "    return names"
   ]
  },
  {
   "cell_type": "code",
   "execution_count": 27,
   "id": "d6ad45a5-175b-4a09-a8f6-27d921a87670",
   "metadata": {},
   "outputs": [
    {
     "name": "stdout",
     "output_type": "stream",
     "text": [
      "Number of bad names: 10000\n"
     ]
    }
   ],
   "source": [
    "# garbage\n",
    "n = ds_size//2//5\n",
    "\n",
    "bad_names = []\n",
    "bad_names.extend(generate_fullnames(garbage_names, num_names=n))\n",
    "\n",
    "# repeated\n",
    "bad_names.extend(generate_fullnames(repeated_names, num_names=n))\n",
    "\n",
    "# correct but not names\n",
    "bad_names.extend(generate_fullnames(some_common_words, num_names=n))\n",
    "\n",
    "# mix bad names\n",
    "bad_names.extend(generate_fullnames(garbage_names+repeated_names+some_common_words, num_names=n))\n",
    "\n",
    "# mix good and bad names\n",
    "bad_names.extend(generate_mix(garbage_names+repeated_names+some_common_words, correct_names, num_names=n))\n",
    "\n",
    "print(f\"Number of bad names: {len(bad_names)}\")"
   ]
  },
  {
   "cell_type": "code",
   "execution_count": 28,
   "id": "2c7b20fe-0fbb-4de9-8530-c7429322fcaf",
   "metadata": {},
   "outputs": [],
   "source": [
    "pd.DataFrame(bad_names, columns=[\"Name\"]).to_csv(\"data/full_bad_names.csv\", index=None)"
   ]
  },
  {
   "cell_type": "code",
   "execution_count": 29,
   "id": "55a0d64c-efbd-46c0-8a98-e966aac986e9",
   "metadata": {},
   "outputs": [
    {
     "data": {
      "text/html": [
       "<div>\n",
       "<style scoped>\n",
       "    .dataframe tbody tr th:only-of-type {\n",
       "        vertical-align: middle;\n",
       "    }\n",
       "\n",
       "    .dataframe tbody tr th {\n",
       "        vertical-align: top;\n",
       "    }\n",
       "\n",
       "    .dataframe thead th {\n",
       "        text-align: right;\n",
       "    }\n",
       "</style>\n",
       "<table border=\"1\" class=\"dataframe\">\n",
       "  <thead>\n",
       "    <tr style=\"text-align: right;\">\n",
       "      <th></th>\n",
       "      <th>Name</th>\n",
       "    </tr>\n",
       "  </thead>\n",
       "  <tbody>\n",
       "    <tr>\n",
       "      <th>4499</th>\n",
       "      <td>يضفي يرمز ويزيد</td>\n",
       "    </tr>\n",
       "    <tr>\n",
       "      <th>7918</th>\n",
       "      <td>الخضوع المغورى حاكم</td>\n",
       "    </tr>\n",
       "    <tr>\n",
       "      <th>706</th>\n",
       "      <td>رمض اوسىطب الرمي</td>\n",
       "    </tr>\n",
       "    <tr>\n",
       "      <th>1870</th>\n",
       "      <td>رعيننو للعدا رناهد</td>\n",
       "    </tr>\n",
       "    <tr>\n",
       "      <th>9263</th>\n",
       "      <td>محبب فيض خلهه</td>\n",
       "    </tr>\n",
       "  </tbody>\n",
       "</table>\n",
       "</div>"
      ],
      "text/plain": [
       "                     Name\n",
       "4499      يضفي يرمز ويزيد\n",
       "7918  الخضوع المغورى حاكم\n",
       "706      رمض اوسىطب الرمي\n",
       "1870   رعيننو للعدا رناهد\n",
       "9263        محبب فيض خلهه"
      ]
     },
     "execution_count": 29,
     "metadata": {},
     "output_type": "execute_result"
    }
   ],
   "source": [
    "temp_df = pd.read_csv(\"data/full_bad_names.csv\")\n",
    "temp_df.sample(5)"
   ]
  },
  {
   "cell_type": "markdown",
   "id": "577ada31-e1e0-4f43-a3cd-89d4ebe7083d",
   "metadata": {
    "tags": []
   },
   "source": [
    "# Making the Dataset"
   ]
  },
  {
   "cell_type": "code",
   "execution_count": 30,
   "id": "d6ca067f-a4d1-43dd-b4c2-20adbf6ad04f",
   "metadata": {},
   "outputs": [],
   "source": [
    "df_correct = pd.read_csv(\"data/full_correct_names.csv\")\n",
    "df_incorrect = pd.read_csv(\"data/full_bad_names.csv\")"
   ]
  },
  {
   "cell_type": "code",
   "execution_count": 31,
   "id": "2a671937-45dc-41a1-a8bb-36160a3e74d9",
   "metadata": {},
   "outputs": [
    {
     "data": {
      "text/html": [
       "<div>\n",
       "<style scoped>\n",
       "    .dataframe tbody tr th:only-of-type {\n",
       "        vertical-align: middle;\n",
       "    }\n",
       "\n",
       "    .dataframe tbody tr th {\n",
       "        vertical-align: top;\n",
       "    }\n",
       "\n",
       "    .dataframe thead th {\n",
       "        text-align: right;\n",
       "    }\n",
       "</style>\n",
       "<table border=\"1\" class=\"dataframe\">\n",
       "  <thead>\n",
       "    <tr style=\"text-align: right;\">\n",
       "      <th></th>\n",
       "      <th>Name</th>\n",
       "      <th>class</th>\n",
       "    </tr>\n",
       "  </thead>\n",
       "  <tbody>\n",
       "    <tr>\n",
       "      <th>0</th>\n",
       "      <td>حمايه تيسير لاوند</td>\n",
       "      <td>1.0</td>\n",
       "    </tr>\n",
       "    <tr>\n",
       "      <th>1</th>\n",
       "      <td>سعداحمد ابراهبم برى</td>\n",
       "      <td>1.0</td>\n",
       "    </tr>\n",
       "    <tr>\n",
       "      <th>2</th>\n",
       "      <td>مكة ولاء كريمه</td>\n",
       "      <td>1.0</td>\n",
       "    </tr>\n",
       "    <tr>\n",
       "      <th>3</th>\n",
       "      <td>زايد ثراء سحاق</td>\n",
       "      <td>1.0</td>\n",
       "    </tr>\n",
       "    <tr>\n",
       "      <th>4</th>\n",
       "      <td>الاسمر الشندى العوضى</td>\n",
       "      <td>1.0</td>\n",
       "    </tr>\n",
       "    <tr>\n",
       "      <th>...</th>\n",
       "      <td>...</td>\n",
       "      <td>...</td>\n",
       "    </tr>\n",
       "    <tr>\n",
       "      <th>19995</th>\n",
       "      <td>الزهايمر حارب ره</td>\n",
       "      <td>0.0</td>\n",
       "    </tr>\n",
       "    <tr>\n",
       "      <th>19996</th>\n",
       "      <td>عدروس طىماسبلا رهولنن</td>\n",
       "      <td>0.0</td>\n",
       "    </tr>\n",
       "    <tr>\n",
       "      <th>19997</th>\n",
       "      <td>الإنجليز منيره احدد</td>\n",
       "      <td>0.0</td>\n",
       "    </tr>\n",
       "    <tr>\n",
       "      <th>19998</th>\n",
       "      <td>جهان كذبة رانا</td>\n",
       "      <td>0.0</td>\n",
       "    </tr>\n",
       "    <tr>\n",
       "      <th>19999</th>\n",
       "      <td>هصرب ميان وليدالدين</td>\n",
       "      <td>0.0</td>\n",
       "    </tr>\n",
       "  </tbody>\n",
       "</table>\n",
       "<p>20000 rows × 2 columns</p>\n",
       "</div>"
      ],
      "text/plain": [
       "                        Name  class\n",
       "0          حمايه تيسير لاوند    1.0\n",
       "1        سعداحمد ابراهبم برى    1.0\n",
       "2             مكة ولاء كريمه    1.0\n",
       "3             زايد ثراء سحاق    1.0\n",
       "4       الاسمر الشندى العوضى    1.0\n",
       "...                      ...    ...\n",
       "19995       الزهايمر حارب ره    0.0\n",
       "19996  عدروس طىماسبلا رهولنن    0.0\n",
       "19997    الإنجليز منيره احدد    0.0\n",
       "19998         جهان كذبة رانا    0.0\n",
       "19999    هصرب ميان وليدالدين    0.0\n",
       "\n",
       "[20000 rows x 2 columns]"
      ]
     },
     "execution_count": 31,
     "metadata": {},
     "output_type": "execute_result"
    }
   ],
   "source": [
    "full_df = df_correct.copy()\n",
    "full_df['class'] = 1\n",
    "full_df = pd.concat([full_df, df_incorrect], ignore_index=True)\n",
    "full_df.fillna(0, inplace=True)\n",
    "full_df"
   ]
  },
  {
   "cell_type": "code",
   "execution_count": 32,
   "id": "b022bf4b-9e78-4ac7-9ccd-4d302e39ee33",
   "metadata": {},
   "outputs": [
    {
     "name": "stdout",
     "output_type": "stream",
     "text": [
      "(20000, 2)\n"
     ]
    },
    {
     "data": {
      "text/html": [
       "<div>\n",
       "<style scoped>\n",
       "    .dataframe tbody tr th:only-of-type {\n",
       "        vertical-align: middle;\n",
       "    }\n",
       "\n",
       "    .dataframe tbody tr th {\n",
       "        vertical-align: top;\n",
       "    }\n",
       "\n",
       "    .dataframe thead th {\n",
       "        text-align: right;\n",
       "    }\n",
       "</style>\n",
       "<table border=\"1\" class=\"dataframe\">\n",
       "  <thead>\n",
       "    <tr style=\"text-align: right;\">\n",
       "      <th></th>\n",
       "      <th>Name</th>\n",
       "      <th>class</th>\n",
       "    </tr>\n",
       "  </thead>\n",
       "  <tbody>\n",
       "    <tr>\n",
       "      <th>15699</th>\n",
       "      <td>فجة وعندها يفكرون</td>\n",
       "      <td>0.0</td>\n",
       "    </tr>\n",
       "    <tr>\n",
       "      <th>9300</th>\n",
       "      <td>اسمة الربيع مارى</td>\n",
       "      <td>1.0</td>\n",
       "    </tr>\n",
       "    <tr>\n",
       "      <th>3342</th>\n",
       "      <td>ارزق ر سلوع</td>\n",
       "      <td>1.0</td>\n",
       "    </tr>\n",
       "    <tr>\n",
       "      <th>8868</th>\n",
       "      <td>صبرين حمده المطراوى</td>\n",
       "      <td>1.0</td>\n",
       "    </tr>\n",
       "    <tr>\n",
       "      <th>16819</th>\n",
       "      <td>أشوف صصابححه عبيش</td>\n",
       "      <td>0.0</td>\n",
       "    </tr>\n",
       "  </tbody>\n",
       "</table>\n",
       "</div>"
      ],
      "text/plain": [
       "                      Name  class\n",
       "15699    فجة وعندها يفكرون    0.0\n",
       "9300      اسمة الربيع مارى    1.0\n",
       "3342           ارزق ر سلوع    1.0\n",
       "8868   صبرين حمده المطراوى    1.0\n",
       "16819    أشوف صصابححه عبيش    0.0"
      ]
     },
     "execution_count": 32,
     "metadata": {},
     "output_type": "execute_result"
    }
   ],
   "source": [
    "full_df.to_csv(f\"data/{ds_name}.csv\", index=False)\n",
    "temp_df = pd.read_csv(f\"data/{ds_name}.csv\")\n",
    "print(temp_df.shape)\n",
    "temp_df.sample(5)"
   ]
  }
 ],
 "metadata": {
  "kernelspec": {
   "display_name": "Python 3 (ipykernel)",
   "language": "python",
   "name": "python3"
  },
  "language_info": {
   "codemirror_mode": {
    "name": "ipython",
    "version": 3
   },
   "file_extension": ".py",
   "mimetype": "text/x-python",
   "name": "python",
   "nbconvert_exporter": "python",
   "pygments_lexer": "ipython3",
   "version": "3.10.8"
  }
 },
 "nbformat": 4,
 "nbformat_minor": 5
}
