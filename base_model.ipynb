{
 "cells": [
  {
   "cell_type": "code",
   "execution_count": 1,
   "metadata": {},
   "outputs": [],
   "source": [
    "# autoreload\n",
    "%load_ext autoreload\n",
    "%autoreload 2"
   ]
  },
  {
   "cell_type": "code",
   "execution_count": 2,
   "metadata": {
    "id": "kWXtTvGk6fxU"
   },
   "outputs": [
    {
     "name": "stderr",
     "output_type": "stream",
     "text": [
      "2022-12-15 21:08:37.709396: I tensorflow/core/platform/cpu_feature_guard.cc:193] This TensorFlow binary is optimized with oneAPI Deep Neural Network Library (oneDNN) to use the following CPU instructions in performance-critical operations:  SSE4.1 SSE4.2 AVX AVX2 FMA\n",
      "To enable them in other operations, rebuild TensorFlow with the appropriate compiler flags.\n"
     ]
    }
   ],
   "source": [
    "# imports\n",
    "import tensorflow as tf\n",
    "import keras.layers as layers\n",
    "from tensorflow.keras.utils import plot_model\n",
    "from keras.preprocessing.text import Tokenizer\n",
    "from tensorflow.keras.callbacks import EarlyStopping\n",
    "from keras.models import Sequential\n",
    "from sklearn.preprocessing import LabelEncoder\n",
    "from sklearn.model_selection import train_test_split\n",
    "import re\n",
    "import string\n",
    "import numpy as np\n",
    "import pandas as pd"
   ]
  },
  {
   "cell_type": "code",
   "execution_count": 3,
   "metadata": {},
   "outputs": [],
   "source": [
    "# experiment name\n",
    "name = 'both_generated_using_correct_names_40k_better_repeatedfunction'"
   ]
  },
  {
   "cell_type": "markdown",
   "metadata": {
    "id": "hVm9yUiMVvaq"
   },
   "source": [
    "# Dataset"
   ]
  },
  {
   "cell_type": "code",
   "execution_count": 4,
   "metadata": {
    "colab": {
     "base_uri": "https://localhost:8080/",
     "height": 381
    },
    "id": "i_-_gLHL6fxZ",
    "outputId": "5a2e4264-0335-4bf3-e06e-beddbf2d5d20"
   },
   "outputs": [
    {
     "name": "stdout",
     "output_type": "stream",
     "text": [
      "(40000, 2)\n"
     ]
    },
    {
     "data": {
      "text/html": [
       "<div>\n",
       "<style scoped>\n",
       "    .dataframe tbody tr th:only-of-type {\n",
       "        vertical-align: middle;\n",
       "    }\n",
       "\n",
       "    .dataframe tbody tr th {\n",
       "        vertical-align: top;\n",
       "    }\n",
       "\n",
       "    .dataframe thead th {\n",
       "        text-align: right;\n",
       "    }\n",
       "</style>\n",
       "<table border=\"1\" class=\"dataframe\">\n",
       "  <thead>\n",
       "    <tr style=\"text-align: right;\">\n",
       "      <th></th>\n",
       "      <th>Name</th>\n",
       "      <th>class</th>\n",
       "    </tr>\n",
       "  </thead>\n",
       "  <tbody>\n",
       "    <tr>\n",
       "      <th>30439</th>\n",
       "      <td>للحياء ومكانه أسعاره</td>\n",
       "      <td>0.0</td>\n",
       "    </tr>\n",
       "    <tr>\n",
       "      <th>7850</th>\n",
       "      <td>شعلان مارفين حميدوا</td>\n",
       "      <td>1.0</td>\n",
       "    </tr>\n",
       "    <tr>\n",
       "      <th>8864</th>\n",
       "      <td>محمديوسف رايه جنةالله</td>\n",
       "      <td>1.0</td>\n",
       "    </tr>\n",
       "    <tr>\n",
       "      <th>38141</th>\n",
       "      <td>طارق غغنندوور سيدرا</td>\n",
       "      <td>0.0</td>\n",
       "    </tr>\n",
       "    <tr>\n",
       "      <th>619</th>\n",
       "      <td>ادوارد طمه عبير</td>\n",
       "      <td>1.0</td>\n",
       "    </tr>\n",
       "    <tr>\n",
       "      <th>29555</th>\n",
       "      <td>ويعود أعداد واليأس</td>\n",
       "      <td>0.0</td>\n",
       "    </tr>\n",
       "    <tr>\n",
       "      <th>32198</th>\n",
       "      <td>ددععهه ندييللاا لننا</td>\n",
       "      <td>0.0</td>\n",
       "    </tr>\n",
       "    <tr>\n",
       "      <th>39182</th>\n",
       "      <td>الحلوجى مم فيلو</td>\n",
       "      <td>0.0</td>\n",
       "    </tr>\n",
       "    <tr>\n",
       "      <th>26047</th>\n",
       "      <td>سععععل صصلاة اا</td>\n",
       "      <td>0.0</td>\n",
       "    </tr>\n",
       "    <tr>\n",
       "      <th>11313</th>\n",
       "      <td>عبدالملك الزير عطاء</td>\n",
       "      <td>1.0</td>\n",
       "    </tr>\n",
       "  </tbody>\n",
       "</table>\n",
       "</div>"
      ],
      "text/plain": [
       "                        Name  class\n",
       "30439   للحياء ومكانه أسعاره    0.0\n",
       "7850     شعلان مارفين حميدوا    1.0\n",
       "8864   محمديوسف رايه جنةالله    1.0\n",
       "38141    طارق غغنندوور سيدرا    0.0\n",
       "619          ادوارد طمه عبير    1.0\n",
       "29555     ويعود أعداد واليأس    0.0\n",
       "32198   ددععهه ندييللاا لننا    0.0\n",
       "39182        الحلوجى مم فيلو    0.0\n",
       "26047        سععععل صصلاة اا    0.0\n",
       "11313    عبدالملك الزير عطاء    1.0"
      ]
     },
     "execution_count": 4,
     "metadata": {},
     "output_type": "execute_result"
    }
   ],
   "source": [
    "df = pd.read_csv(f\"data/{name}.csv\")\n",
    "print(df.shape)\n",
    "df.sample(10)"
   ]
  },
  {
   "cell_type": "code",
   "execution_count": 5,
   "metadata": {
    "colab": {
     "base_uri": "https://localhost:8080/"
    },
    "id": "aZwHLSn2YlwZ",
    "outputId": "4404909f-d4e1-444f-ea98-bf39fa0bb314"
   },
   "outputs": [
    {
     "data": {
      "text/plain": [
       "3"
      ]
     },
     "execution_count": 5,
     "metadata": {},
     "output_type": "execute_result"
    }
   ],
   "source": [
    "# max number of words per name\n",
    "df['Name'].str.split().str.len().max()"
   ]
  },
  {
   "cell_type": "code",
   "execution_count": 6,
   "metadata": {},
   "outputs": [
    {
     "data": {
      "text/html": [
       "<div>\n",
       "<style scoped>\n",
       "    .dataframe tbody tr th:only-of-type {\n",
       "        vertical-align: middle;\n",
       "    }\n",
       "\n",
       "    .dataframe tbody tr th {\n",
       "        vertical-align: top;\n",
       "    }\n",
       "\n",
       "    .dataframe thead th {\n",
       "        text-align: right;\n",
       "    }\n",
       "</style>\n",
       "<table border=\"1\" class=\"dataframe\">\n",
       "  <thead>\n",
       "    <tr style=\"text-align: right;\">\n",
       "      <th></th>\n",
       "      <th>Name</th>\n",
       "      <th>class</th>\n",
       "    </tr>\n",
       "  </thead>\n",
       "  <tbody>\n",
       "    <tr>\n",
       "      <th>0</th>\n",
       "      <td>حمايه تيسير لاوند</td>\n",
       "      <td>1.0</td>\n",
       "    </tr>\n",
       "    <tr>\n",
       "      <th>1</th>\n",
       "      <td>سعداحمد ابراهبم برى</td>\n",
       "      <td>1.0</td>\n",
       "    </tr>\n",
       "    <tr>\n",
       "      <th>2</th>\n",
       "      <td>مكة ولاء كريمه</td>\n",
       "      <td>1.0</td>\n",
       "    </tr>\n",
       "    <tr>\n",
       "      <th>3</th>\n",
       "      <td>زايد ثراء سحاق</td>\n",
       "      <td>1.0</td>\n",
       "    </tr>\n",
       "    <tr>\n",
       "      <th>4</th>\n",
       "      <td>الاسمر الشندى العوضى</td>\n",
       "      <td>1.0</td>\n",
       "    </tr>\n",
       "  </tbody>\n",
       "</table>\n",
       "</div>"
      ],
      "text/plain": [
       "                   Name  class\n",
       "0     حمايه تيسير لاوند    1.0\n",
       "1   سعداحمد ابراهبم برى    1.0\n",
       "2        مكة ولاء كريمه    1.0\n",
       "3        زايد ثراء سحاق    1.0\n",
       "4  الاسمر الشندى العوضى    1.0"
      ]
     },
     "execution_count": 6,
     "metadata": {},
     "output_type": "execute_result"
    }
   ],
   "source": [
    "df.head(5)"
   ]
  },
  {
   "cell_type": "code",
   "execution_count": 7,
   "metadata": {},
   "outputs": [
    {
     "data": {
      "text/html": [
       "<div>\n",
       "<style scoped>\n",
       "    .dataframe tbody tr th:only-of-type {\n",
       "        vertical-align: middle;\n",
       "    }\n",
       "\n",
       "    .dataframe tbody tr th {\n",
       "        vertical-align: top;\n",
       "    }\n",
       "\n",
       "    .dataframe thead th {\n",
       "        text-align: right;\n",
       "    }\n",
       "</style>\n",
       "<table border=\"1\" class=\"dataframe\">\n",
       "  <thead>\n",
       "    <tr style=\"text-align: right;\">\n",
       "      <th></th>\n",
       "      <th>Name</th>\n",
       "      <th>class</th>\n",
       "    </tr>\n",
       "  </thead>\n",
       "  <tbody>\n",
       "    <tr>\n",
       "      <th>0</th>\n",
       "      <td>هةة ااب ااسسنن</td>\n",
       "      <td>0.0</td>\n",
       "    </tr>\n",
       "    <tr>\n",
       "      <th>1</th>\n",
       "      <td>للزوار صحيفة شرير</td>\n",
       "      <td>0.0</td>\n",
       "    </tr>\n",
       "    <tr>\n",
       "      <th>2</th>\n",
       "      <td>شحاته رضى بريقع</td>\n",
       "      <td>1.0</td>\n",
       "    </tr>\n",
       "    <tr>\n",
       "      <th>3</th>\n",
       "      <td>المغازى رابحه ايمن</td>\n",
       "      <td>1.0</td>\n",
       "    </tr>\n",
       "    <tr>\n",
       "      <th>4</th>\n",
       "      <td>ىصوا ىافاوئل نلاارو</td>\n",
       "      <td>0.0</td>\n",
       "    </tr>\n",
       "  </tbody>\n",
       "</table>\n",
       "</div>"
      ],
      "text/plain": [
       "                  Name  class\n",
       "0       هةة ااب ااسسنن    0.0\n",
       "1    للزوار صحيفة شرير    0.0\n",
       "2      شحاته رضى بريقع    1.0\n",
       "3   المغازى رابحه ايمن    1.0\n",
       "4  ىصوا ىافاوئل نلاارو    0.0"
      ]
     },
     "execution_count": 7,
     "metadata": {},
     "output_type": "execute_result"
    }
   ],
   "source": [
    "df = df.sample(frac=1).reset_index(drop=True)\n",
    "df.head()"
   ]
  },
  {
   "cell_type": "markdown",
   "metadata": {
    "id": "6j-spTh2joa3"
   },
   "source": [
    "## Document Preprocessing"
   ]
  },
  {
   "cell_type": "code",
   "execution_count": 8,
   "metadata": {
    "colab": {
     "base_uri": "https://localhost:8080/",
     "height": 127
    },
    "id": "EY57gotK6fxb",
    "outputId": "a64b0f58-8ede-4eaa-97dc-916dfbff41c9"
   },
   "outputs": [
    {
     "data": {
      "text/plain": [
       "'<SOS> هةة ااب ااسسنن <EOS> <SOS> للزوار صحيفة شرير <EOS> <SOS> شحاته رضى بريقع <EOS> <SOS> المغازى رابحه ايمن <EOS> <SOS> ىصوا ىافاوئل نلاارو <EOS> <SOS> سعاده عدلان سياده <EOS> <SOS> ميينن شكلت فصار <EOS> <SOS> يكسر بأسعار والأكل <EOS> <SOS> قائما المط البلاط <EOS> <SOS> ماريف بطاح الفروجى <EOS> <SOS> انتصار مشيل فردوس <EOS> <SOS> نبوى إجازة تصويرها <EOS> <SOS> ودبي محافظ ايتناه <EOS> <SOS> صصققر بب للييدى <EOS> <SOS> لإنها يطاق آسيا <EOS> <SOS> خليل معين ملكى <EOS> <SOS> بههء اهه صصبرراا <EOS> <SOS> ابال انعم اميمه <EOS> <SOS> شفيقه تميمى محمدعبدالمقصود <EOS> <SOS> الرحله سد والشاطئ <EOS> <SOS> الدسوقى الجميعى حسام <EOS> <SOS> هديه حمايه جنين <EOS> <SOS> العبدالسيد بسمة مؤيد <EOS> <SOS> نرمين محمدالمرسى الزيان <EOS> <SOS> عوضين عيدى رابحة <EOS> <SOS> ايه عبدالحاكم باهر <EOS> <SOS> عبدالخبير شحتة ماضى <EOS> <SOS> الخلط اولاد فقه <EOS> <SOS> عبدالنافع كك تادرس <EOS> <SOS> اميره ابوغنام عبدالرءوف <EOS> <SOS> المؤدي ادهم نريامكي <EOS> <SOS> ابحصلىا ويصاف نا <EOS> <SOS> مساوئ قفمو وتفاجأت'"
      ]
     },
     "execution_count": 8,
     "metadata": {},
     "output_type": "execute_result"
    }
   ],
   "source": [
    "# adding start and end tokens\n",
    "names = ['<SOS> ' + x + ' <EOS>' for x in df['Name'].tolist()]\n",
    "corpus = \" \".join(names)\n",
    "labels = df['class'].tolist()\n",
    "corpus[:1000]"
   ]
  },
  {
   "cell_type": "markdown",
   "metadata": {},
   "source": [
    "## Tokenization "
   ]
  },
  {
   "cell_type": "code",
   "execution_count": 9,
   "metadata": {
    "colab": {
     "base_uri": "https://localhost:8080/"
    },
    "id": "o45SDboi2sOu",
    "outputId": "bee099d2-f2a6-4777-b4b1-4e2a44710137"
   },
   "outputs": [
    {
     "name": "stdout",
     "output_type": "stream",
     "text": [
      "Total Words: 15085\n",
      "Example of a Sequence\n",
      "[[    2  8840  2991  5589     3     0]\n",
      " [    2  4765  5590 12993     3     0]\n",
      " [    2   817   818  3453     3     0]]\n",
      "Some Tokens\n",
      "['<UNK>', '<SOS>', '<EOS>', 'اا', 'د', 'ر', 'م', 'ا', 'مم', 'ن', 'س', 'ل', 'و', 'لل', 'ى', 'ي', 'رر', 'معز', 'مر', 'ارزاق', 'ثريا', 'الشربينى', 'فيروزه', 'الو', 'بب', 'نو', 'فى', 'يزن', 'قق', 'ميمى', 'لله', 'مروى', 'يي', 'روح', 'نمر', 'جاسر', 'ح', 'القداح', 'جان', 'وفاء', 'عا', 'اعتماد', 'فاخر', 'ترك', 'محب', 'نظار', 'بيلاجيا', 'نا', 'السطل', 'حرب', 'شا', 'بساده', 'اوسامة', 'رحب', 'توما', 'هاله', 'ملكى', 'زكريا', 'البونى', 'سامية', 'المنصان', 'سلامه', 'وعد', 'مير', 'مسعود', 'شبل', 'اثر', 'حمد', 'طيرالوادى', 'لى', 'روميساء', 'زيزى', 'مسك', 'نبوى', 'مظهر', 'مدنى', 'غاندى', 'وى', 'يمة', 'عويضه', 'جما', 'هاتم', 'احلام', 'عبادة', 'تهامى', 'عبدالوراث', 'المنير', 'محمدالنبوى', 'ادور', 'فيولا', 'وصفى', 'موده', 'حكمه', 'سجى', 'ره', 'فاهم', 'اسعد', 'ايمن', 'معين', 'عبدالخبير']\n"
     ]
    }
   ],
   "source": [
    "tokenize = tf.keras.preprocessing.text.Tokenizer(oov_token=\"<UNK>\", filters='!\"#$%&()*+,-./:;=?@[\\\\]^_`{|}~\\t\\n', lower=False)\n",
    "tokenize.fit_on_texts(names)\n",
    "x = tokenize.texts_to_sequences(names)\n",
    "max_len = 6\n",
    "x = tf.keras.utils.pad_sequences(x, maxlen=max_len, padding='post')\n",
    "total_words = len(tokenize.word_index)+1\n",
    "print(f\"Total Words: {total_words}\")\n",
    "print(\"Example of a Sequence\")\n",
    "print(x[:3])\n",
    "print(\"Some Tokens\")\n",
    "print(list(tokenize.word_index)[:100])"
   ]
  },
  {
   "cell_type": "markdown",
   "metadata": {},
   "source": [
    "## Splitting data and making dataset "
   ]
  },
  {
   "cell_type": "code",
   "execution_count": 10,
   "metadata": {
    "id": "FfeMdPs5npBO"
   },
   "outputs": [
    {
     "name": "stdout",
     "output_type": "stream",
     "text": [
      "Train and Validation sizes\n"
     ]
    },
    {
     "data": {
      "text/plain": [
       "(32000, 8000, 32000, 8000)"
      ]
     },
     "execution_count": 10,
     "metadata": {},
     "output_type": "execute_result"
    }
   ],
   "source": [
    "x_train, x_valid, y_train, y_valid = train_test_split(x, df['class'].values, test_size=.2, random_state=23)\n",
    "print(\"Train and Validation sizes\")\n",
    "len(x_train), len(x_valid), len(y_train), len(y_valid)"
   ]
  },
  {
   "cell_type": "code",
   "execution_count": 11,
   "metadata": {},
   "outputs": [
    {
     "data": {
      "text/plain": [
       "(16054.0, 3946.0)"
      ]
     },
     "execution_count": 11,
     "metadata": {},
     "output_type": "execute_result"
    }
   ],
   "source": [
    "y_train.sum(), y_valid.sum()"
   ]
  },
  {
   "cell_type": "code",
   "execution_count": 12,
   "metadata": {
    "id": "98tMwyTAhYA2"
   },
   "outputs": [
    {
     "name": "stderr",
     "output_type": "stream",
     "text": [
      "2022-12-15 21:08:41.219828: I tensorflow/stream_executor/cuda/cuda_gpu_executor.cc:980] successful NUMA node read from SysFS had negative value (-1), but there must be at least one NUMA node, so returning NUMA node zero\n",
      "2022-12-15 21:08:41.254648: I tensorflow/stream_executor/cuda/cuda_gpu_executor.cc:980] successful NUMA node read from SysFS had negative value (-1), but there must be at least one NUMA node, so returning NUMA node zero\n",
      "2022-12-15 21:08:41.254913: I tensorflow/stream_executor/cuda/cuda_gpu_executor.cc:980] successful NUMA node read from SysFS had negative value (-1), but there must be at least one NUMA node, so returning NUMA node zero\n",
      "2022-12-15 21:08:41.255789: I tensorflow/core/platform/cpu_feature_guard.cc:193] This TensorFlow binary is optimized with oneAPI Deep Neural Network Library (oneDNN) to use the following CPU instructions in performance-critical operations:  SSE4.1 SSE4.2 AVX AVX2 FMA\n",
      "To enable them in other operations, rebuild TensorFlow with the appropriate compiler flags.\n",
      "2022-12-15 21:08:41.256870: I tensorflow/stream_executor/cuda/cuda_gpu_executor.cc:980] successful NUMA node read from SysFS had negative value (-1), but there must be at least one NUMA node, so returning NUMA node zero\n",
      "2022-12-15 21:08:41.257348: I tensorflow/stream_executor/cuda/cuda_gpu_executor.cc:980] successful NUMA node read from SysFS had negative value (-1), but there must be at least one NUMA node, so returning NUMA node zero\n",
      "2022-12-15 21:08:41.257505: I tensorflow/stream_executor/cuda/cuda_gpu_executor.cc:980] successful NUMA node read from SysFS had negative value (-1), but there must be at least one NUMA node, so returning NUMA node zero\n",
      "2022-12-15 21:08:41.859162: I tensorflow/stream_executor/cuda/cuda_gpu_executor.cc:980] successful NUMA node read from SysFS had negative value (-1), but there must be at least one NUMA node, so returning NUMA node zero\n",
      "2022-12-15 21:08:41.859364: I tensorflow/stream_executor/cuda/cuda_gpu_executor.cc:980] successful NUMA node read from SysFS had negative value (-1), but there must be at least one NUMA node, so returning NUMA node zero\n",
      "2022-12-15 21:08:41.859506: I tensorflow/stream_executor/cuda/cuda_gpu_executor.cc:980] successful NUMA node read from SysFS had negative value (-1), but there must be at least one NUMA node, so returning NUMA node zero\n",
      "2022-12-15 21:08:41.859635: I tensorflow/core/common_runtime/gpu/gpu_device.cc:1616] Created device /job:localhost/replica:0/task:0/device:GPU:0 with 5325 MB memory:  -> device: 0, name: NVIDIA GeForce GTX 1060 with Max-Q Design, pci bus id: 0000:01:00.0, compute capability: 6.1\n"
     ]
    }
   ],
   "source": [
    "ds_train = tf.data.Dataset.from_tensor_slices((x_train, y_train)).batch(128)\n",
    "ds_valid = tf.data.Dataset.from_tensor_slices((x_valid, y_valid)).batch(128)"
   ]
  },
  {
   "cell_type": "code",
   "execution_count": 13,
   "metadata": {
    "colab": {
     "base_uri": "https://localhost:8080/"
    },
    "id": "6Q9KP5pctrdk",
    "outputId": "636fb047-247b-4515-acb3-60f8196b5b7a"
   },
   "outputs": [
    {
     "name": "stdout",
     "output_type": "stream",
     "text": [
      "tf.Tensor(\n",
      "[[    2  4379   272 11252     3     0]\n",
      " [    2  6358   737  7164     3     0]], shape=(2, 6), dtype=int32) tf.Tensor([0. 0.], shape=(2,), dtype=float64)\n"
     ]
    }
   ],
   "source": [
    "for x,y in ds_train.take(1):\n",
    "    print(x[:2], y[:2])"
   ]
  },
  {
   "cell_type": "markdown",
   "metadata": {
    "id": "tqU-4LG9kOpz"
   },
   "source": [
    "# Build and Train a Model: "
   ]
  },
  {
   "cell_type": "code",
   "execution_count": 14,
   "metadata": {
    "id": "3xPUH48medT_"
   },
   "outputs": [],
   "source": [
    "vocab_size = total_words\n",
    "embedding_dim = 64\n",
    "sequence_length = max_len"
   ]
  },
  {
   "cell_type": "code",
   "execution_count": 15,
   "metadata": {
    "colab": {
     "base_uri": "https://localhost:8080/"
    },
    "id": "iZ6sz4au6fxd",
    "outputId": "9b2a4295-0100-486e-b649-f7b3d03b140e"
   },
   "outputs": [
    {
     "name": "stdout",
     "output_type": "stream",
     "text": [
      "Model: \"sequential\"\n",
      "_________________________________________________________________\n",
      " Layer (type)                Output Shape              Param #   \n",
      "=================================================================\n",
      " embedding (Embedding)       (None, None, 64)          965440    \n",
      "                                                                 \n",
      " dropout (Dropout)           (None, None, 64)          0         \n",
      "                                                                 \n",
      " global_average_pooling1d (G  (None, 64)               0         \n",
      " lobalAveragePooling1D)                                          \n",
      "                                                                 \n",
      " dense (Dense)               (None, 1)                 65        \n",
      "                                                                 \n",
      "=================================================================\n",
      "Total params: 965,505\n",
      "Trainable params: 965,505\n",
      "Non-trainable params: 0\n",
      "_________________________________________________________________\n"
     ]
    }
   ],
   "source": [
    "model = tf.keras.Sequential([\n",
    "  layers.Embedding(vocab_size, embedding_dim),\n",
    "  layers.Dropout(0.4),\n",
    "  layers.GlobalAveragePooling1D(),\n",
    "  layers.Dense(1)],\n",
    "  )\n",
    "\n",
    "model.summary()"
   ]
  },
  {
   "cell_type": "code",
   "execution_count": 16,
   "metadata": {},
   "outputs": [
    {
     "data": {
      "image/png": "[encoded data removed]",
      "text/plain": [
       "<IPython.core.display.Image object>"
      ]
     },
     "execution_count": 16,
     "metadata": {},
     "output_type": "execute_result"
    }
   ],
   "source": [
    "plot_model(model)"
   ]
  },
  {
   "cell_type": "code",
   "execution_count": 16,
   "metadata": {
    "id": "pwJLHKCBPhXz"
   },
   "outputs": [],
   "source": [
    "model.compile(loss=tf.losses.BinaryCrossentropy(from_logits=True),\n",
    "              optimizer='adam',\n",
    "              metrics=tf.metrics.BinaryAccuracy())"
   ]
  },
  {
   "cell_type": "code",
   "execution_count": 17,
   "metadata": {},
   "outputs": [
    {
     "name": "stdout",
     "output_type": "stream",
     "text": [
      "Epoch 1/100\n",
      "250/250 [==============================] - 2s 6ms/step - loss: 0.6362 - binary_accuracy: 0.5061 - val_loss: 0.5274 - val_binary_accuracy: 0.5558\n",
      "Epoch 2/100\n",
      "250/250 [==============================] - 1s 4ms/step - loss: 0.3692 - binary_accuracy: 0.9048 - val_loss: 0.2672 - val_binary_accuracy: 0.9779\n",
      "Epoch 3/100\n",
      "250/250 [==============================] - 1s 3ms/step - loss: 0.1785 - binary_accuracy: 0.9864 - val_loss: 0.1617 - val_binary_accuracy: 0.9719\n",
      "Epoch 4/100\n",
      "250/250 [==============================] - 1s 4ms/step - loss: 0.1085 - binary_accuracy: 0.9895 - val_loss: 0.1224 - val_binary_accuracy: 0.9718\n",
      "Epoch 5/100\n",
      "250/250 [==============================] - 1s 3ms/step - loss: 0.0773 - binary_accuracy: 0.9930 - val_loss: 0.1041 - val_binary_accuracy: 0.9719\n",
      "Epoch 6/100\n",
      "250/250 [==============================] - 1s 3ms/step - loss: 0.0586 - binary_accuracy: 0.9954 - val_loss: 0.0940 - val_binary_accuracy: 0.9716\n",
      "Epoch 7/100\n",
      "250/250 [==============================] - 1s 3ms/step - loss: 0.0465 - binary_accuracy: 0.9969 - val_loss: 0.0882 - val_binary_accuracy: 0.9716\n",
      "Epoch 8/100\n",
      "250/250 [==============================] - 1s 3ms/step - loss: 0.0373 - binary_accuracy: 0.9975 - val_loss: 0.0853 - val_binary_accuracy: 0.9724\n",
      "Epoch 9/100\n",
      "250/250 [==============================] - 1s 3ms/step - loss: 0.0308 - binary_accuracy: 0.9979 - val_loss: 0.0831 - val_binary_accuracy: 0.9721\n",
      "Epoch 10/100\n",
      "250/250 [==============================] - 1s 4ms/step - loss: 0.0252 - binary_accuracy: 0.9984 - val_loss: 0.0842 - val_binary_accuracy: 0.9711\n",
      "Epoch 11/100\n",
      "234/250 [===========================>..] - ETA: 0s - loss: 0.0214 - binary_accuracy: 0.9987Restoring model weights from the end of the best epoch: 9.\n",
      "250/250 [==============================] - 1s 3ms/step - loss: 0.0213 - binary_accuracy: 0.9987 - val_loss: 0.0841 - val_binary_accuracy: 0.9710\n",
      "Epoch 11: early stopping\n"
     ]
    }
   ],
   "source": [
    "early_stopping = EarlyStopping(patience=2, restore_best_weights=True, verbose=True)\n",
    "epochs = 100\n",
    "history = model.fit(\n",
    "    ds_train,\n",
    "    validation_data=ds_valid,\n",
    "    epochs=epochs,\n",
    "    callbacks=[early_stopping])"
   ]
  },
  {
   "cell_type": "code",
   "execution_count": 18,
   "metadata": {},
   "outputs": [
    {
     "data": {
      "image/png": "[encoded data removed]",
      "text/plain": [
       "<Figure size 1500x500 with 2 Axes>"
      ]
     },
     "metadata": {},
     "output_type": "display_data"
    }
   ],
   "source": [
    "from utils import plot_history\n",
    "plot_history(history.history)"
   ]
  },
  {
   "cell_type": "markdown",
   "metadata": {
    "tags": []
   },
   "source": [
    "### Test Examples "
   ]
  },
  {
   "cell_type": "code",
   "execution_count": 19,
   "metadata": {
    "colab": {
     "base_uri": "https://localhost:8080/"
    },
    "id": "yn2kSoBd6ZzZ",
    "outputId": "9f6aa72e-fc5a-4680-abbe-f2a9404bd394"
   },
   "outputs": [
    {
     "name": "stdout",
     "output_type": "stream",
     "text": [
      "1/1 [==============================] - 0s 72ms/step\n"
     ]
    },
    {
     "data": {
      "text/plain": [
       "array([[0.9999385]], dtype=float32)"
      ]
     },
     "execution_count": 19,
     "metadata": {},
     "output_type": "execute_result"
    }
   ],
   "source": [
    "#new\n",
    "example = '<sos> ' + \"معاذ طه عوض\" + ' <eos>'\n",
    "example_vect = tokenize.texts_to_sequences([example])\n",
    "tf.nn.sigmoid(model.predict(example_vect)).numpy()"
   ]
  },
  {
   "cell_type": "code",
   "execution_count": 20,
   "metadata": {
    "colab": {
     "base_uri": "https://localhost:8080/"
    },
    "id": "HLR-BIdk8XTA",
    "outputId": "9c50845a-ddf3-492b-f9c4-c44085c365b2"
   },
   "outputs": [
    {
     "name": "stdout",
     "output_type": "stream",
     "text": [
      "1/1 [==============================] - 0s 36ms/step\n"
     ]
    },
    {
     "data": {
      "text/plain": [
       "array([[0.99458885]], dtype=float32)"
      ]
     },
     "execution_count": 20,
     "metadata": {},
     "output_type": "execute_result"
    }
   ],
   "source": [
    "#new\n",
    "example = \"باسم وحيد السيد\"\n",
    "example = '<sos> ' + example + ' <eos>'\n",
    "example_vect = tokenize.texts_to_sequences([example])\n",
    "tf.nn.sigmoid(model.predict(example_vect)).numpy()"
   ]
  },
  {
   "cell_type": "code",
   "execution_count": 21,
   "metadata": {
    "colab": {
     "base_uri": "https://localhost:8080/"
    },
    "id": "VzOUDGfQ8d8U",
    "outputId": "bf1f673c-3c39-4419-e4fa-98041c0f841f"
   },
   "outputs": [
    {
     "name": "stdout",
     "output_type": "stream",
     "text": [
      "1/1 [==============================] - 0s 31ms/step\n"
     ]
    },
    {
     "data": {
      "text/plain": [
       "array([[0.39239052]], dtype=float32)"
      ]
     },
     "execution_count": 21,
     "metadata": {},
     "output_type": "execute_result"
    }
   ],
   "source": [
    "#new\n",
    "example = \"شسي شسي شسي\"\n",
    "example = '<sos> ' + example + ' <eos>'\n",
    "example_vect = tokenize.texts_to_sequences([example])\n",
    "tf.nn.sigmoid(model.predict(example_vect)).numpy()"
   ]
  },
  {
   "cell_type": "code",
   "execution_count": 22,
   "metadata": {
    "colab": {
     "base_uri": "https://localhost:8080/"
    },
    "id": "7DHcdPDQ8nxX",
    "outputId": "d680d594-337d-4c66-a409-0672a7425a62"
   },
   "outputs": [
    {
     "name": "stdout",
     "output_type": "stream",
     "text": [
      "1/1 [==============================] - 0s 30ms/step\n"
     ]
    },
    {
     "data": {
      "text/plain": [
       "array([[0.39239052]], dtype=float32)"
      ]
     },
     "execution_count": 22,
     "metadata": {},
     "output_type": "execute_result"
    }
   ],
   "source": [
    "#new\n",
    "example = \"باسمم وحةد السد\"\n",
    "example = '<sos> ' + example + ' <eos>'\n",
    "example_vect = tokenize.texts_to_sequences([example])\n",
    "tf.nn.sigmoid(model.predict(example_vect)).numpy()"
   ]
  },
  {
   "cell_type": "code",
   "execution_count": 23,
   "metadata": {
    "colab": {
     "base_uri": "https://localhost:8080/"
    },
    "id": "mfs4ZdQM8wuH",
    "outputId": "93f13a3e-d519-4838-cc22-71c7f42b9790"
   },
   "outputs": [
    {
     "name": "stdout",
     "output_type": "stream",
     "text": [
      "1/1 [==============================] - 0s 36ms/step\n"
     ]
    },
    {
     "data": {
      "text/plain": [
       "array([[0.9972264]], dtype=float32)"
      ]
     },
     "execution_count": 23,
     "metadata": {},
     "output_type": "execute_result"
    }
   ],
   "source": [
    "#new\n",
    "example = \"مريم محمد محمد\"\n",
    "example = '<sos> ' + example + ' <eos>'\n",
    "example_vect = tokenize.texts_to_sequences([example])\n",
    "tf.nn.sigmoid(model.predict(example_vect)).numpy()"
   ]
  },
  {
   "cell_type": "code",
   "execution_count": 24,
   "metadata": {
    "colab": {
     "base_uri": "https://localhost:8080/"
    },
    "id": "7Un6Cc9p8011",
    "outputId": "6c4cb565-e377-419d-faae-17f78b232ce1"
   },
   "outputs": [
    {
     "name": "stdout",
     "output_type": "stream",
     "text": [
      "1/1 [==============================] - 0s 31ms/step\n"
     ]
    },
    {
     "data": {
      "text/plain": [
       "array([[0.9972264]], dtype=float32)"
      ]
     },
     "execution_count": 24,
     "metadata": {},
     "output_type": "execute_result"
    }
   ],
   "source": [
    "#new\n",
    "example = \"محمد مريم محمد\"\n",
    "example = '<sos> ' + example + ' <eos>'\n",
    "example_vect = tokenize.texts_to_sequences([example])\n",
    "tf.nn.sigmoid(model.predict(example_vect)).numpy()"
   ]
  },
  {
   "cell_type": "code",
   "execution_count": 25,
   "metadata": {
    "colab": {
     "base_uri": "https://localhost:8080/"
    },
    "id": "7YuKyjXz88l2",
    "outputId": "13b52215-8659-4826-ebbf-2be6834dd689"
   },
   "outputs": [
    {
     "name": "stdout",
     "output_type": "stream",
     "text": [
      "1/1 [==============================] - 0s 30ms/step\n"
     ]
    },
    {
     "data": {
      "text/plain": [
       "array([[0.99485457]], dtype=float32)"
      ]
     },
     "execution_count": 25,
     "metadata": {},
     "output_type": "execute_result"
    }
   ],
   "source": [
    "#new\n",
    "example = \"مريم محمد على\"\n",
    "example = '<sos> ' + example + ' <eos>'\n",
    "example_vect = tokenize.texts_to_sequences([example])\n",
    "tf.nn.sigmoid(model.predict(example_vect)).numpy()"
   ]
  },
  {
   "cell_type": "code",
   "execution_count": 26,
   "metadata": {
    "colab": {
     "base_uri": "https://localhost:8080/"
    },
    "id": "Fb71_3lj9Bbt",
    "outputId": "0536b9e8-0784-46bf-c9f3-7154297554d8"
   },
   "outputs": [
    {
     "name": "stdout",
     "output_type": "stream",
     "text": [
      "1/1 [==============================] - 0s 36ms/step\n"
     ]
    },
    {
     "data": {
      "text/plain": [
       "array([[0.9993736]], dtype=float32)"
      ]
     },
     "execution_count": 26,
     "metadata": {},
     "output_type": "execute_result"
    }
   ],
   "source": [
    "#new\n",
    "example = \"محمد طه عوض\"\n",
    "example = '<sos> ' + example + ' <eos>'\n",
    "example_vect = tokenize.texts_to_sequences([example])\n",
    "tf.nn.sigmoid(model.predict(example_vect)).numpy()"
   ]
  },
  {
   "cell_type": "code",
   "execution_count": 27,
   "metadata": {
    "colab": {
     "base_uri": "https://localhost:8080/"
    },
    "id": "iImTdytn9OR7",
    "outputId": "820c8b25-c786-4466-92f2-d2e5fcecfa37"
   },
   "outputs": [
    {
     "name": "stdout",
     "output_type": "stream",
     "text": [
      "1/1 [==============================] - 0s 33ms/step\n"
     ]
    },
    {
     "data": {
      "text/plain": [
       "array([[0.39239052]], dtype=float32)"
      ]
     },
     "execution_count": 27,
     "metadata": {},
     "output_type": "execute_result"
    }
   ],
   "source": [
    "#new\n",
    "example = \"فوزىىى محسمد شنش\"\n",
    "example = '<sos> ' + example + ' <eos>'\n",
    "example_vect = tokenize.texts_to_sequences([example])\n",
    "tf.nn.sigmoid(model.predict(example_vect)).numpy()"
   ]
  },
  {
   "cell_type": "code",
   "execution_count": 33,
   "metadata": {},
   "outputs": [
    {
     "name": "stdout",
     "output_type": "stream",
     "text": [
      "1/1 [==============================] - 0s 40ms/step\n"
     ]
    },
    {
     "data": {
      "text/plain": [
       "array([[0.8305756]], dtype=float32)"
      ]
     },
     "execution_count": 33,
     "metadata": {},
     "output_type": "execute_result"
    }
   ],
   "source": [
    "#new\n",
    "example = \"دزيادد عبت محمد\"\n",
    "example = '<sos> ' + example + ' <eos>'\n",
    "example_vect = tokenize.texts_to_sequences([example])\n",
    "tf.nn.sigmoid(model.predict(example_vect)).numpy()"
   ]
  },
  {
   "cell_type": "code",
   "execution_count": 34,
   "metadata": {
    "colab": {
     "base_uri": "https://localhost:8080/"
    },
    "id": "Z7krT2wQyUvN",
    "outputId": "39f9a18f-a349-4d8e-aaef-d5057de78ef4"
   },
   "outputs": [
    {
     "name": "stdout",
     "output_type": "stream",
     "text": [
      "1/1 [==============================] - 0s 30ms/step\n"
     ]
    },
    {
     "data": {
      "text/plain": [
       "array([[0.9998258]], dtype=float32)"
      ]
     },
     "execution_count": 34,
     "metadata": {},
     "output_type": "execute_result"
    }
   ],
   "source": [
    "#new\n",
    "example = \"محمد طه عوض لاشين\"\n",
    "example = '<sos> ' + example + ' <eos>'\n",
    "example_vect = tokenize.texts_to_sequences([example])\n",
    "tf.nn.sigmoid(model.predict(example_vect)).numpy()"
   ]
  },
  {
   "cell_type": "code",
   "execution_count": 35,
   "metadata": {},
   "outputs": [
    {
     "name": "stdout",
     "output_type": "stream",
     "text": [
      "1/1 [==============================] - 0s 33ms/step\n"
     ]
    },
    {
     "data": {
      "text/plain": [
       "array([[0.39239052]], dtype=float32)"
      ]
     },
     "execution_count": 35,
     "metadata": {},
     "output_type": "execute_result"
    }
   ],
   "source": [
    "#new\n",
    "example = \"زيادي ممسسيشي شسيسيد\"\n",
    "example = '<sos> ' + example + ' <eos>'\n",
    "example_vect = tokenize.texts_to_sequences([example])\n",
    "tf.nn.sigmoid(model.predict(example_vect)).numpy()"
   ]
  },
  {
   "cell_type": "markdown",
   "metadata": {},
   "source": [
    "# Saving and loading the trained model "
   ]
  },
  {
   "cell_type": "code",
   "execution_count": 36,
   "metadata": {},
   "outputs": [],
   "source": [
    "model.save(f'models/{name}_base_model.h5', )"
   ]
  },
  {
   "cell_type": "code",
   "execution_count": 37,
   "metadata": {},
   "outputs": [
    {
     "name": "stdout",
     "output_type": "stream",
     "text": [
      "Model: \"sequential\"\n",
      "_________________________________________________________________\n",
      " Layer (type)                Output Shape              Param #   \n",
      "=================================================================\n",
      " embedding (Embedding)       (None, None, 64)          965440    \n",
      "                                                                 \n",
      " dropout (Dropout)           (None, None, 64)          0         \n",
      "                                                                 \n",
      " global_average_pooling1d (G  (None, 64)               0         \n",
      " lobalAveragePooling1D)                                          \n",
      "                                                                 \n",
      " dense (Dense)               (None, 1)                 65        \n",
      "                                                                 \n",
      "=================================================================\n",
      "Total params: 965,505\n",
      "Trainable params: 965,505\n",
      "Non-trainable params: 0\n",
      "_________________________________________________________________\n"
     ]
    }
   ],
   "source": [
    "new_model = tf.keras.models.load_model(f'models/{name}_base_model.h5')\n",
    "new_model.summary()"
   ]
  },
  {
   "cell_type": "markdown",
   "metadata": {},
   "source": [
    "## Saving and loading the tokenizer"
   ]
  },
  {
   "cell_type": "code",
   "execution_count": 38,
   "metadata": {},
   "outputs": [],
   "source": [
    "import pickle\n",
    "\n",
    "# saving\n",
    "with open(f'models/{name}tokenizer.pickle', 'wb') as handle:\n",
    "    pickle.dump(tokenize, handle, protocol=pickle.HIGHEST_PROTOCOL)\n",
    "\n",
    "# loading\n",
    "with open(f'models/{name}tokenizer.pickle', 'rb') as handle:\n",
    "    new_tokenizer = pickle.load(handle)"
   ]
  },
  {
   "cell_type": "code",
   "execution_count": 39,
   "metadata": {},
   "outputs": [
    {
     "name": "stdout",
     "output_type": "stream",
     "text": [
      "1/1 [==============================] - 0s 77ms/step\n"
     ]
    },
    {
     "data": {
      "text/plain": [
       "array([[0.9998258]], dtype=float32)"
      ]
     },
     "execution_count": 39,
     "metadata": {},
     "output_type": "execute_result"
    }
   ],
   "source": [
    "#new\n",
    "example = \"محمد طه عوض لاشين\"\n",
    "example = '<sos> ' + example + ' <eos>'\n",
    "example_vect = new_tokenizer.texts_to_sequences([example])\n",
    "tf.nn.sigmoid(new_model.predict(example_vect)).numpy()"
   ]
  }
 ],
 "metadata": {
  "colab": {
   "provenance": []
  },
  "kernelspec": {
   "display_name": "Python 3 (ipykernel)",
   "language": "python",
   "name": "python3"
  },
  "language_info": {
   "codemirror_mode": {
    "name": "ipython",
    "version": 3
   },
   "file_extension": ".py",
   "mimetype": "text/x-python",
   "name": "python",
   "nbconvert_exporter": "python",
   "pygments_lexer": "ipython3",
   "version": "3.10.8"
  }
 },
 "nbformat": 4,
 "nbformat_minor": 4
}
