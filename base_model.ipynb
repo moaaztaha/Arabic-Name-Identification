{
 "cells": [
  {
   "cell_type": "code",
   "execution_count": 1,
   "metadata": {},
   "outputs": [],
   "source": [
    "# autoreload\n",
    "%load_ext autoreload\n",
    "%autoreload 2"
   ]
  },
  {
   "cell_type": "code",
   "execution_count": 2,
   "metadata": {
    "id": "kWXtTvGk6fxU"
   },
   "outputs": [
    {
     "name": "stderr",
     "output_type": "stream",
     "text": [
      "2022-12-15 17:55:56.053834: I tensorflow/core/platform/cpu_feature_guard.cc:193] This TensorFlow binary is optimized with oneAPI Deep Neural Network Library (oneDNN) to use the following CPU instructions in performance-critical operations:  SSE4.1 SSE4.2 AVX AVX2 FMA\n",
      "To enable them in other operations, rebuild TensorFlow with the appropriate compiler flags.\n"
     ]
    }
   ],
   "source": [
    "# imports\n",
    "import tensorflow as tf\n",
    "import keras.layers as layers\n",
    "from keras.preprocessing.text import Tokenizer\n",
    "from tensorflow.keras.callbacks import EarlyStopping\n",
    "from keras.models import Sequential\n",
    "from sklearn.preprocessing import LabelEncoder\n",
    "from sklearn.model_selection import train_test_split\n",
    "import re\n",
    "import string\n",
    "import numpy as np\n",
    "import pandas as pd"
   ]
  },
  {
   "cell_type": "code",
   "execution_count": 3,
   "metadata": {},
   "outputs": [],
   "source": [
    "# experiment name\n",
    "name = 'both_generated_using_correct_names_40k'"
   ]
  },
  {
   "cell_type": "markdown",
   "metadata": {
    "id": "hVm9yUiMVvaq"
   },
   "source": [
    "# Dataset"
   ]
  },
  {
   "cell_type": "code",
   "execution_count": 4,
   "metadata": {
    "colab": {
     "base_uri": "https://localhost:8080/",
     "height": 381
    },
    "id": "i_-_gLHL6fxZ",
    "outputId": "5a2e4264-0335-4bf3-e06e-beddbf2d5d20"
   },
   "outputs": [
    {
     "name": "stdout",
     "output_type": "stream",
     "text": [
      "(40000, 2)\n"
     ]
    },
    {
     "data": {
      "text/html": [
       "<div>\n",
       "<style scoped>\n",
       "    .dataframe tbody tr th:only-of-type {\n",
       "        vertical-align: middle;\n",
       "    }\n",
       "\n",
       "    .dataframe tbody tr th {\n",
       "        vertical-align: top;\n",
       "    }\n",
       "\n",
       "    .dataframe thead th {\n",
       "        text-align: right;\n",
       "    }\n",
       "</style>\n",
       "<table border=\"1\" class=\"dataframe\">\n",
       "  <thead>\n",
       "    <tr style=\"text-align: right;\">\n",
       "      <th></th>\n",
       "      <th>Name</th>\n",
       "      <th>class</th>\n",
       "    </tr>\n",
       "  </thead>\n",
       "  <tbody>\n",
       "    <tr>\n",
       "      <th>88</th>\n",
       "      <td>سيعد ايه واجد</td>\n",
       "      <td>1.0</td>\n",
       "    </tr>\n",
       "    <tr>\n",
       "      <th>14158</th>\n",
       "      <td>لارا رواء اسلم</td>\n",
       "      <td>1.0</td>\n",
       "    </tr>\n",
       "    <tr>\n",
       "      <th>8162</th>\n",
       "      <td>روحيه سالمان طعيمة</td>\n",
       "      <td>1.0</td>\n",
       "    </tr>\n",
       "    <tr>\n",
       "      <th>35386</th>\n",
       "      <td>رضضاعررفاات العنان قابل</td>\n",
       "      <td>0.0</td>\n",
       "    </tr>\n",
       "    <tr>\n",
       "      <th>18319</th>\n",
       "      <td>الباسل ناحى نعم</td>\n",
       "      <td>1.0</td>\n",
       "    </tr>\n",
       "    <tr>\n",
       "      <th>29742</th>\n",
       "      <td>ارجاء أرجوك لحب</td>\n",
       "      <td>0.0</td>\n",
       "    </tr>\n",
       "    <tr>\n",
       "      <th>33209</th>\n",
       "      <td>مستر الأحاسيس ياليت</td>\n",
       "      <td>0.0</td>\n",
       "    </tr>\n",
       "    <tr>\n",
       "      <th>39376</th>\n",
       "      <td>الششتاوى يباو نوران</td>\n",
       "      <td>0.0</td>\n",
       "    </tr>\n",
       "    <tr>\n",
       "      <th>17206</th>\n",
       "      <td>زغلول عبدالرخمن فاتانات</td>\n",
       "      <td>1.0</td>\n",
       "    </tr>\n",
       "    <tr>\n",
       "      <th>32873</th>\n",
       "      <td>هجره باارين الغناء</td>\n",
       "      <td>0.0</td>\n",
       "    </tr>\n",
       "  </tbody>\n",
       "</table>\n",
       "</div>"
      ],
      "text/plain": [
       "                          Name  class\n",
       "88               سيعد ايه واجد    1.0\n",
       "14158           لارا رواء اسلم    1.0\n",
       "8162        روحيه سالمان طعيمة    1.0\n",
       "35386  رضضاعررفاات العنان قابل    0.0\n",
       "18319          الباسل ناحى نعم    1.0\n",
       "29742          ارجاء أرجوك لحب    0.0\n",
       "33209      مستر الأحاسيس ياليت    0.0\n",
       "39376      الششتاوى يباو نوران    0.0\n",
       "17206  زغلول عبدالرخمن فاتانات    1.0\n",
       "32873       هجره باارين الغناء    0.0"
      ]
     },
     "execution_count": 4,
     "metadata": {},
     "output_type": "execute_result"
    }
   ],
   "source": [
    "df = pd.read_csv(f\"data/{name}.csv\")\n",
    "print(df.shape)\n",
    "df.sample(10)"
   ]
  },
  {
   "cell_type": "code",
   "execution_count": 5,
   "metadata": {
    "colab": {
     "base_uri": "https://localhost:8080/"
    },
    "id": "aZwHLSn2YlwZ",
    "outputId": "4404909f-d4e1-444f-ea98-bf39fa0bb314"
   },
   "outputs": [
    {
     "data": {
      "text/plain": [
       "3"
      ]
     },
     "execution_count": 5,
     "metadata": {},
     "output_type": "execute_result"
    }
   ],
   "source": [
    "# max number of words per name\n",
    "df['Name'].str.split().str.len().max()"
   ]
  },
  {
   "cell_type": "code",
   "execution_count": 6,
   "metadata": {},
   "outputs": [
    {
     "data": {
      "text/html": [
       "<div>\n",
       "<style scoped>\n",
       "    .dataframe tbody tr th:only-of-type {\n",
       "        vertical-align: middle;\n",
       "    }\n",
       "\n",
       "    .dataframe tbody tr th {\n",
       "        vertical-align: top;\n",
       "    }\n",
       "\n",
       "    .dataframe thead th {\n",
       "        text-align: right;\n",
       "    }\n",
       "</style>\n",
       "<table border=\"1\" class=\"dataframe\">\n",
       "  <thead>\n",
       "    <tr style=\"text-align: right;\">\n",
       "      <th></th>\n",
       "      <th>Name</th>\n",
       "      <th>class</th>\n",
       "    </tr>\n",
       "  </thead>\n",
       "  <tbody>\n",
       "    <tr>\n",
       "      <th>0</th>\n",
       "      <td>ميلار الليل بلاسى</td>\n",
       "      <td>1.0</td>\n",
       "    </tr>\n",
       "    <tr>\n",
       "      <th>1</th>\n",
       "      <td>الغالى لبا بركات</td>\n",
       "      <td>1.0</td>\n",
       "    </tr>\n",
       "    <tr>\n",
       "      <th>2</th>\n",
       "      <td>عبداالمتجلى السيدالسعيد رينادا</td>\n",
       "      <td>1.0</td>\n",
       "    </tr>\n",
       "    <tr>\n",
       "      <th>3</th>\n",
       "      <td>ونيس سعا عبدالروف</td>\n",
       "      <td>1.0</td>\n",
       "    </tr>\n",
       "    <tr>\n",
       "      <th>4</th>\n",
       "      <td>محمدحسن عاليا عليه</td>\n",
       "      <td>1.0</td>\n",
       "    </tr>\n",
       "  </tbody>\n",
       "</table>\n",
       "</div>"
      ],
      "text/plain": [
       "                             Name  class\n",
       "0               ميلار الليل بلاسى    1.0\n",
       "1                الغالى لبا بركات    1.0\n",
       "2  عبداالمتجلى السيدالسعيد رينادا    1.0\n",
       "3               ونيس سعا عبدالروف    1.0\n",
       "4              محمدحسن عاليا عليه    1.0"
      ]
     },
     "execution_count": 6,
     "metadata": {},
     "output_type": "execute_result"
    }
   ],
   "source": [
    "df.head(5)"
   ]
  },
  {
   "cell_type": "code",
   "execution_count": 7,
   "metadata": {},
   "outputs": [
    {
     "data": {
      "text/html": [
       "<div>\n",
       "<style scoped>\n",
       "    .dataframe tbody tr th:only-of-type {\n",
       "        vertical-align: middle;\n",
       "    }\n",
       "\n",
       "    .dataframe tbody tr th {\n",
       "        vertical-align: top;\n",
       "    }\n",
       "\n",
       "    .dataframe thead th {\n",
       "        text-align: right;\n",
       "    }\n",
       "</style>\n",
       "<table border=\"1\" class=\"dataframe\">\n",
       "  <thead>\n",
       "    <tr style=\"text-align: right;\">\n",
       "      <th></th>\n",
       "      <th>Name</th>\n",
       "      <th>class</th>\n",
       "    </tr>\n",
       "  </thead>\n",
       "  <tbody>\n",
       "    <tr>\n",
       "      <th>0</th>\n",
       "      <td>فاهم الشوادفى كحيل</td>\n",
       "      <td>1.0</td>\n",
       "    </tr>\n",
       "    <tr>\n",
       "      <th>1</th>\n",
       "      <td>علوانى دميانة الصافى</td>\n",
       "      <td>1.0</td>\n",
       "    </tr>\n",
       "    <tr>\n",
       "      <th>2</th>\n",
       "      <td>البازالسيد جميان المنتصر</td>\n",
       "      <td>1.0</td>\n",
       "    </tr>\n",
       "    <tr>\n",
       "      <th>3</th>\n",
       "      <td>الناشر اقبل االششيخخ</td>\n",
       "      <td>0.0</td>\n",
       "    </tr>\n",
       "    <tr>\n",
       "      <th>4</th>\n",
       "      <td>وازن وحيد نيره</td>\n",
       "      <td>1.0</td>\n",
       "    </tr>\n",
       "  </tbody>\n",
       "</table>\n",
       "</div>"
      ],
      "text/plain": [
       "                       Name  class\n",
       "0        فاهم الشوادفى كحيل    1.0\n",
       "1      علوانى دميانة الصافى    1.0\n",
       "2  البازالسيد جميان المنتصر    1.0\n",
       "3      الناشر اقبل االششيخخ    0.0\n",
       "4            وازن وحيد نيره    1.0"
      ]
     },
     "execution_count": 7,
     "metadata": {},
     "output_type": "execute_result"
    }
   ],
   "source": [
    "df = df.sample(frac=1).reset_index(drop=True)\n",
    "df.head()"
   ]
  },
  {
   "cell_type": "markdown",
   "metadata": {
    "id": "6j-spTh2joa3"
   },
   "source": [
    "## Document Preprocessing"
   ]
  },
  {
   "cell_type": "code",
   "execution_count": 8,
   "metadata": {
    "colab": {
     "base_uri": "https://localhost:8080/",
     "height": 127
    },
    "id": "EY57gotK6fxb",
    "outputId": "a64b0f58-8ede-4eaa-97dc-916dfbff41c9"
   },
   "outputs": [
    {
     "data": {
      "text/plain": [
       "'<SOS> فاهم الشوادفى كحيل <EOS> <SOS> علوانى دميانة الصافى <EOS> <SOS> البازالسيد جميان المنتصر <EOS> <SOS> الناشر اقبل االششيخخ <EOS> <SOS> وازن وحيد نيره <EOS> <SOS> سأجد الفرس البلكونة <EOS> <SOS> العميرى العابسى انس <EOS> <SOS> الحاربى بكير الشرنوبى <EOS> <SOS> والتصميم هادنش الحلو <EOS> <SOS> ععز زوبهه اييادالدين <EOS> <SOS> كر حسنين زاهد <EOS> <SOS> فاطة رشيد روهيفاء <EOS> <SOS> السياحيه حسابي ملقتش <EOS> <SOS> رروححى رسسلان الهنندااوى <EOS> <SOS> السسعببدااحمد نيرففاننه الباششا <EOS> <SOS> الخريطة نععمةااللله لاجع <EOS> <SOS> المعصراوى عبدالواجد باشا <EOS> <SOS> ريان الدميياطى المسيرىى <EOS> <SOS> البشير هوانم القعقاع <EOS> <SOS> التوضيح المكالمات قدري <EOS> <SOS> طعيمة كرستين الدمرانى <EOS> <SOS> وواليد هانري سادن <EOS> <SOS> قاسم لبا الزواوى <EOS> <SOS> مكة الموجى راغداء <EOS> <SOS> فتكون ززيااده ام <EOS> <SOS> اليوميات تسليمي المساحه <EOS> <SOS> ندا هلا ليبفي <EOS> <SOS> تتداخل محزن طعىام <EOS> <SOS> السعاده مسك لفتاة <EOS> <SOS> قلصبىا هنري لهال <EOS> <SOS> اناء حسينى الباسل '"
      ]
     },
     "execution_count": 8,
     "metadata": {},
     "output_type": "execute_result"
    }
   ],
   "source": [
    "# adding start and end tokens\n",
    "names = ['<SOS> ' + x + ' <EOS>' for x in df['Name'].tolist()]\n",
    "corpus = \" \".join(names)\n",
    "labels = df['class'].tolist()\n",
    "corpus[:1000]"
   ]
  },
  {
   "cell_type": "markdown",
   "metadata": {},
   "source": [
    "## Tokenization "
   ]
  },
  {
   "cell_type": "code",
   "execution_count": 9,
   "metadata": {
    "colab": {
     "base_uri": "https://localhost:8080/"
    },
    "id": "o45SDboi2sOu",
    "outputId": "bee099d2-f2a6-4777-b4b1-4e2a44710137"
   },
   "outputs": [
    {
     "name": "stdout",
     "output_type": "stream",
     "text": [
      "Total Words: 14782\n",
      "Example of a Sequence\n",
      "[[   2  548 2257  549    3    0]\n",
      " [   2 1375 3457  705    3    0]\n",
      " [   2 1662 1117 1663    3    0]]\n",
      "Some Tokens\n",
      "['<UNK>', '<SOS>', '<EOS>', 'جميلة', 'ختام', 'فاضل', 'خاطر', 'سنا', 'ندا', 'العز']\n"
     ]
    }
   ],
   "source": [
    "tokenize = tf.keras.preprocessing.text.Tokenizer(oov_token=\"<UNK>\", filters='!\"#$%&()*+,-./:;=?@[\\\\]^_`{|}~\\t\\n', lower=False)\n",
    "tokenize.fit_on_texts(names)\n",
    "x = tokenize.texts_to_sequences(names)\n",
    "max_len = 6\n",
    "x = tf.keras.utils.pad_sequences(x, maxlen=max_len, padding='post')\n",
    "total_words = len(tokenize.word_index)+1\n",
    "print(f\"Total Words: {total_words}\")\n",
    "print(\"Example of a Sequence\")\n",
    "print(x[:3])\n",
    "print(\"Some Tokens\")\n",
    "print(list(tokenize.word_index)[:10])"
   ]
  },
  {
   "cell_type": "markdown",
   "metadata": {},
   "source": [
    "## Splitting data and making dataset "
   ]
  },
  {
   "cell_type": "code",
   "execution_count": 10,
   "metadata": {
    "id": "FfeMdPs5npBO"
   },
   "outputs": [
    {
     "name": "stdout",
     "output_type": "stream",
     "text": [
      "Train and Validation sizes\n"
     ]
    },
    {
     "data": {
      "text/plain": [
       "(32000, 8000, 32000, 8000)"
      ]
     },
     "execution_count": 10,
     "metadata": {},
     "output_type": "execute_result"
    }
   ],
   "source": [
    "x_train, x_valid, y_train, y_valid = train_test_split(x, df['class'].values, test_size=.2, random_state=23)\n",
    "print(\"Train and Validation sizes\")\n",
    "len(x_train), len(x_valid), len(y_train), len(y_valid)"
   ]
  },
  {
   "cell_type": "code",
   "execution_count": 11,
   "metadata": {},
   "outputs": [
    {
     "data": {
      "text/plain": [
       "(15971.0, 4029.0)"
      ]
     },
     "execution_count": 11,
     "metadata": {},
     "output_type": "execute_result"
    }
   ],
   "source": [
    "y_train.sum(), y_valid.sum()"
   ]
  },
  {
   "cell_type": "code",
   "execution_count": 12,
   "metadata": {
    "id": "98tMwyTAhYA2"
   },
   "outputs": [
    {
     "name": "stderr",
     "output_type": "stream",
     "text": [
      "2022-12-15 17:56:02.241906: I tensorflow/stream_executor/cuda/cuda_gpu_executor.cc:980] successful NUMA node read from SysFS had negative value (-1), but there must be at least one NUMA node, so returning NUMA node zero\n",
      "2022-12-15 17:56:02.275492: I tensorflow/stream_executor/cuda/cuda_gpu_executor.cc:980] successful NUMA node read from SysFS had negative value (-1), but there must be at least one NUMA node, so returning NUMA node zero\n",
      "2022-12-15 17:56:02.275879: I tensorflow/stream_executor/cuda/cuda_gpu_executor.cc:980] successful NUMA node read from SysFS had negative value (-1), but there must be at least one NUMA node, so returning NUMA node zero\n",
      "2022-12-15 17:56:02.276457: I tensorflow/core/platform/cpu_feature_guard.cc:193] This TensorFlow binary is optimized with oneAPI Deep Neural Network Library (oneDNN) to use the following CPU instructions in performance-critical operations:  SSE4.1 SSE4.2 AVX AVX2 FMA\n",
      "To enable them in other operations, rebuild TensorFlow with the appropriate compiler flags.\n",
      "2022-12-15 17:56:02.277106: I tensorflow/stream_executor/cuda/cuda_gpu_executor.cc:980] successful NUMA node read from SysFS had negative value (-1), but there must be at least one NUMA node, so returning NUMA node zero\n",
      "2022-12-15 17:56:02.277275: I tensorflow/stream_executor/cuda/cuda_gpu_executor.cc:980] successful NUMA node read from SysFS had negative value (-1), but there must be at least one NUMA node, so returning NUMA node zero\n",
      "2022-12-15 17:56:02.277414: I tensorflow/stream_executor/cuda/cuda_gpu_executor.cc:980] successful NUMA node read from SysFS had negative value (-1), but there must be at least one NUMA node, so returning NUMA node zero\n",
      "2022-12-15 17:56:02.791170: I tensorflow/stream_executor/cuda/cuda_gpu_executor.cc:980] successful NUMA node read from SysFS had negative value (-1), but there must be at least one NUMA node, so returning NUMA node zero\n",
      "2022-12-15 17:56:02.791424: I tensorflow/stream_executor/cuda/cuda_gpu_executor.cc:980] successful NUMA node read from SysFS had negative value (-1), but there must be at least one NUMA node, so returning NUMA node zero\n",
      "2022-12-15 17:56:02.791564: I tensorflow/stream_executor/cuda/cuda_gpu_executor.cc:980] successful NUMA node read from SysFS had negative value (-1), but there must be at least one NUMA node, so returning NUMA node zero\n",
      "2022-12-15 17:56:02.791733: I tensorflow/core/common_runtime/gpu/gpu_device.cc:1616] Created device /job:localhost/replica:0/task:0/device:GPU:0 with 5325 MB memory:  -> device: 0, name: NVIDIA GeForce GTX 1060 with Max-Q Design, pci bus id: 0000:01:00.0, compute capability: 6.1\n"
     ]
    }
   ],
   "source": [
    "ds_train = tf.data.Dataset.from_tensor_slices((x_train, y_train)).batch(128)\n",
    "ds_valid = tf.data.Dataset.from_tensor_slices((x_valid, y_valid)).batch(128)"
   ]
  },
  {
   "cell_type": "code",
   "execution_count": 13,
   "metadata": {
    "colab": {
     "base_uri": "https://localhost:8080/"
    },
    "id": "6Q9KP5pctrdk",
    "outputId": "636fb047-247b-4515-acb3-60f8196b5b7a"
   },
   "outputs": [
    {
     "name": "stdout",
     "output_type": "stream",
     "text": [
      "tf.Tensor(\n",
      "[[    2  2501 11153  3460     3     0]\n",
      " [    2  9459    17  9460     3     0]], shape=(2, 6), dtype=int32) tf.Tensor([0. 0.], shape=(2,), dtype=float64)\n"
     ]
    }
   ],
   "source": [
    "for x,y in ds_train.take(1):\n",
    "    print(x[:2], y[:2])"
   ]
  },
  {
   "cell_type": "markdown",
   "metadata": {
    "id": "tqU-4LG9kOpz"
   },
   "source": [
    "# Build and Train a Model: "
   ]
  },
  {
   "cell_type": "code",
   "execution_count": 48,
   "metadata": {
    "id": "3xPUH48medT_"
   },
   "outputs": [],
   "source": [
    "vocab_size = total_words\n",
    "embedding_dim = 64\n",
    "sequence_length = max_len"
   ]
  },
  {
   "cell_type": "code",
   "execution_count": 49,
   "metadata": {
    "colab": {
     "base_uri": "https://localhost:8080/"
    },
    "id": "iZ6sz4au6fxd",
    "outputId": "9b2a4295-0100-486e-b649-f7b3d03b140e"
   },
   "outputs": [
    {
     "name": "stdout",
     "output_type": "stream",
     "text": [
      "Model: \"sequential_2\"\n",
      "_________________________________________________________________\n",
      " Layer (type)                Output Shape              Param #   \n",
      "=================================================================\n",
      " embedding_2 (Embedding)     (None, None, 64)          946048    \n",
      "                                                                 \n",
      " dropout_2 (Dropout)         (None, None, 64)          0         \n",
      "                                                                 \n",
      " global_average_pooling1d_2   (None, 64)               0         \n",
      " (GlobalAveragePooling1D)                                        \n",
      "                                                                 \n",
      " dense_2 (Dense)             (None, 1)                 65        \n",
      "                                                                 \n",
      "=================================================================\n",
      "Total params: 946,113\n",
      "Trainable params: 946,113\n",
      "Non-trainable params: 0\n",
      "_________________________________________________________________\n"
     ]
    }
   ],
   "source": [
    "model = tf.keras.Sequential([\n",
    "  layers.Embedding(vocab_size, embedding_dim),\n",
    "  layers.Dropout(0.4),\n",
    "  layers.GlobalAveragePooling1D(),\n",
    "  layers.Dense(1)],\n",
    "  )\n",
    "\n",
    "model.summary()"
   ]
  },
  {
   "cell_type": "code",
   "execution_count": 50,
   "metadata": {
    "id": "pwJLHKCBPhXz"
   },
   "outputs": [],
   "source": [
    "model.compile(loss=tf.losses.BinaryCrossentropy(from_logits=True),\n",
    "              optimizer='adam',\n",
    "              metrics=tf.metrics.BinaryAccuracy())"
   ]
  },
  {
   "cell_type": "code",
   "execution_count": 51,
   "metadata": {},
   "outputs": [
    {
     "name": "stdout",
     "output_type": "stream",
     "text": [
      "Epoch 1/20\n",
      "250/250 [==============================] - 1s 4ms/step - loss: 0.6484 - binary_accuracy: 0.5028 - val_loss: 0.5561 - val_binary_accuracy: 0.5159\n",
      "Epoch 2/20\n",
      "250/250 [==============================] - 1s 4ms/step - loss: 0.4077 - binary_accuracy: 0.8455 - val_loss: 0.3049 - val_binary_accuracy: 0.9565\n",
      "Epoch 3/20\n",
      "250/250 [==============================] - 1s 4ms/step - loss: 0.2116 - binary_accuracy: 0.9775 - val_loss: 0.1910 - val_binary_accuracy: 0.9679\n",
      "Epoch 4/20\n",
      "250/250 [==============================] - 1s 4ms/step - loss: 0.1336 - binary_accuracy: 0.9840 - val_loss: 0.1459 - val_binary_accuracy: 0.9693\n",
      "Epoch 5/20\n",
      "250/250 [==============================] - 1s 3ms/step - loss: 0.0980 - binary_accuracy: 0.9871 - val_loss: 0.1243 - val_binary_accuracy: 0.9706\n",
      "Epoch 6/20\n",
      "250/250 [==============================] - 1s 3ms/step - loss: 0.0769 - binary_accuracy: 0.9895 - val_loss: 0.1123 - val_binary_accuracy: 0.9704\n",
      "Epoch 7/20\n",
      "250/250 [==============================] - 1s 3ms/step - loss: 0.0628 - binary_accuracy: 0.9919 - val_loss: 0.1053 - val_binary_accuracy: 0.9705\n",
      "Epoch 8/20\n",
      "250/250 [==============================] - 1s 3ms/step - loss: 0.0519 - binary_accuracy: 0.9932 - val_loss: 0.1008 - val_binary_accuracy: 0.9701\n",
      "Epoch 9/20\n",
      "250/250 [==============================] - 1s 4ms/step - loss: 0.0442 - binary_accuracy: 0.9936 - val_loss: 0.0990 - val_binary_accuracy: 0.9690\n",
      "Epoch 10/20\n",
      "250/250 [==============================] - 1s 3ms/step - loss: 0.0377 - binary_accuracy: 0.9944 - val_loss: 0.0982 - val_binary_accuracy: 0.9686\n",
      "Epoch 11/20\n",
      "250/250 [==============================] - 1s 3ms/step - loss: 0.0325 - binary_accuracy: 0.9951 - val_loss: 0.0994 - val_binary_accuracy: 0.9678\n",
      "Epoch 12/20\n",
      "250/250 [==============================] - ETA: 0s - loss: 0.0282 - binary_accuracy: 0.9958Restoring model weights from the end of the best epoch: 10.\n",
      "250/250 [==============================] - 1s 3ms/step - loss: 0.0282 - binary_accuracy: 0.9958 - val_loss: 0.0997 - val_binary_accuracy: 0.9672\n",
      "Epoch 12: early stopping\n"
     ]
    }
   ],
   "source": [
    "early_stopping = EarlyStopping(patience=2, restore_best_weights=True, verbose=True)\n",
    "epochs = 20\n",
    "history = model.fit(\n",
    "    ds_train,\n",
    "    validation_data=ds_valid,\n",
    "    epochs=epochs,\n",
    "    callbacks=[early_stopping])"
   ]
  },
  {
   "cell_type": "code",
   "execution_count": 52,
   "metadata": {},
   "outputs": [
    {
     "data": {
      "image/png": "[encoded data removed]",
      "text/plain": [
       "<Figure size 1500x500 with 2 Axes>"
      ]
     },
     "metadata": {},
     "output_type": "display_data"
    }
   ],
   "source": [
    "from utils import plot_history\n",
    "plot_history(history.history)"
   ]
  },
  {
   "cell_type": "markdown",
   "metadata": {
    "tags": []
   },
   "source": [
    "### Test Examples "
   ]
  },
  {
   "cell_type": "code",
   "execution_count": 53,
   "metadata": {
    "colab": {
     "base_uri": "https://localhost:8080/"
    },
    "id": "yn2kSoBd6ZzZ",
    "outputId": "9f6aa72e-fc5a-4680-abbe-f2a9404bd394"
   },
   "outputs": [
    {
     "name": "stdout",
     "output_type": "stream",
     "text": [
      "1/1 [==============================] - 0s 50ms/step\n"
     ]
    },
    {
     "data": {
      "text/plain": [
       "array([[0.9980884]], dtype=float32)"
      ]
     },
     "execution_count": 53,
     "metadata": {},
     "output_type": "execute_result"
    }
   ],
   "source": [
    "#new\n",
    "example = '<sos> ' + \"معاذ طه عوض\" + ' <eos>'\n",
    "example_vect = tokenize.texts_to_sequences([example])\n",
    "tf.nn.sigmoid(model.predict(example_vect)).numpy()"
   ]
  },
  {
   "cell_type": "code",
   "execution_count": 54,
   "metadata": {
    "colab": {
     "base_uri": "https://localhost:8080/"
    },
    "id": "HLR-BIdk8XTA",
    "outputId": "9c50845a-ddf3-492b-f9c4-c44085c365b2"
   },
   "outputs": [
    {
     "name": "stdout",
     "output_type": "stream",
     "text": [
      "1/1 [==============================] - 0s 31ms/step\n"
     ]
    },
    {
     "data": {
      "text/plain": [
       "array([[0.99994254]], dtype=float32)"
      ]
     },
     "execution_count": 54,
     "metadata": {},
     "output_type": "execute_result"
    }
   ],
   "source": [
    "#new\n",
    "example = \"باسم وحيد السيد\"\n",
    "example = '<sos> ' + example + ' <eos>'\n",
    "example_vect = tokenize.texts_to_sequences([example])\n",
    "tf.nn.sigmoid(model.predict(example_vect)).numpy()"
   ]
  },
  {
   "cell_type": "code",
   "execution_count": 55,
   "metadata": {
    "colab": {
     "base_uri": "https://localhost:8080/"
    },
    "id": "VzOUDGfQ8d8U",
    "outputId": "bf1f673c-3c39-4419-e4fa-98041c0f841f"
   },
   "outputs": [
    {
     "name": "stdout",
     "output_type": "stream",
     "text": [
      "1/1 [==============================] - 0s 35ms/step\n"
     ]
    },
    {
     "data": {
      "text/plain": [
       "array([[0.6978209]], dtype=float32)"
      ]
     },
     "execution_count": 55,
     "metadata": {},
     "output_type": "execute_result"
    }
   ],
   "source": [
    "#new\n",
    "example = \"شسي شسي شسي\"\n",
    "example = '<sos> ' + example + ' <eos>'\n",
    "example_vect = tokenize.texts_to_sequences([example])\n",
    "tf.nn.sigmoid(model.predict(example_vect)).numpy()"
   ]
  },
  {
   "cell_type": "code",
   "execution_count": 56,
   "metadata": {
    "colab": {
     "base_uri": "https://localhost:8080/"
    },
    "id": "7DHcdPDQ8nxX",
    "outputId": "d680d594-337d-4c66-a409-0672a7425a62"
   },
   "outputs": [
    {
     "name": "stdout",
     "output_type": "stream",
     "text": [
      "1/1 [==============================] - 0s 37ms/step\n"
     ]
    },
    {
     "data": {
      "text/plain": [
       "array([[0.09914164]], dtype=float32)"
      ]
     },
     "execution_count": 56,
     "metadata": {},
     "output_type": "execute_result"
    }
   ],
   "source": [
    "#new\n",
    "example = \"باسمم وحةد السد\"\n",
    "example = '<sos> ' + example + ' <eos>'\n",
    "example_vect = tokenize.texts_to_sequences([example])\n",
    "tf.nn.sigmoid(model.predict(example_vect)).numpy()"
   ]
  },
  {
   "cell_type": "code",
   "execution_count": 57,
   "metadata": {
    "colab": {
     "base_uri": "https://localhost:8080/"
    },
    "id": "mfs4ZdQM8wuH",
    "outputId": "93f13a3e-d519-4838-cc22-71c7f42b9790"
   },
   "outputs": [
    {
     "name": "stdout",
     "output_type": "stream",
     "text": [
      "1/1 [==============================] - 0s 36ms/step\n"
     ]
    },
    {
     "data": {
      "text/plain": [
       "array([[0.99992776]], dtype=float32)"
      ]
     },
     "execution_count": 57,
     "metadata": {},
     "output_type": "execute_result"
    }
   ],
   "source": [
    "#new\n",
    "example = \"مريم محمد محمد\"\n",
    "example = '<sos> ' + example + ' <eos>'\n",
    "example_vect = tokenize.texts_to_sequences([example])\n",
    "tf.nn.sigmoid(model.predict(example_vect)).numpy()"
   ]
  },
  {
   "cell_type": "code",
   "execution_count": 58,
   "metadata": {
    "colab": {
     "base_uri": "https://localhost:8080/"
    },
    "id": "7Un6Cc9p8011",
    "outputId": "6c4cb565-e377-419d-faae-17f78b232ce1"
   },
   "outputs": [
    {
     "name": "stdout",
     "output_type": "stream",
     "text": [
      "1/1 [==============================] - 0s 60ms/step\n"
     ]
    },
    {
     "data": {
      "text/plain": [
       "array([[0.99992776]], dtype=float32)"
      ]
     },
     "execution_count": 58,
     "metadata": {},
     "output_type": "execute_result"
    }
   ],
   "source": [
    "#new\n",
    "example = \"محمد مريم محمد\"\n",
    "example = '<sos> ' + example + ' <eos>'\n",
    "example_vect = tokenize.texts_to_sequences([example])\n",
    "tf.nn.sigmoid(model.predict(example_vect)).numpy()"
   ]
  },
  {
   "cell_type": "code",
   "execution_count": 59,
   "metadata": {
    "colab": {
     "base_uri": "https://localhost:8080/"
    },
    "id": "7YuKyjXz88l2",
    "outputId": "13b52215-8659-4826-ebbf-2be6834dd689"
   },
   "outputs": [
    {
     "name": "stdout",
     "output_type": "stream",
     "text": [
      "1/1 [==============================] - 0s 33ms/step\n"
     ]
    },
    {
     "data": {
      "text/plain": [
       "array([[0.9999875]], dtype=float32)"
      ]
     },
     "execution_count": 59,
     "metadata": {},
     "output_type": "execute_result"
    }
   ],
   "source": [
    "#new\n",
    "example = \"مريم محمد على\"\n",
    "example = '<sos> ' + example + ' <eos>'\n",
    "example_vect = tokenize.texts_to_sequences([example])\n",
    "tf.nn.sigmoid(model.predict(example_vect)).numpy()"
   ]
  },
  {
   "cell_type": "code",
   "execution_count": 60,
   "metadata": {
    "colab": {
     "base_uri": "https://localhost:8080/"
    },
    "id": "Fb71_3lj9Bbt",
    "outputId": "0536b9e8-0784-46bf-c9f3-7154297554d8"
   },
   "outputs": [
    {
     "name": "stdout",
     "output_type": "stream",
     "text": [
      "1/1 [==============================] - 0s 30ms/step\n"
     ]
    },
    {
     "data": {
      "text/plain": [
       "array([[0.9998092]], dtype=float32)"
      ]
     },
     "execution_count": 60,
     "metadata": {},
     "output_type": "execute_result"
    }
   ],
   "source": [
    "#new\n",
    "example = \"محمد طه عوض\"\n",
    "example = '<sos> ' + example + ' <eos>'\n",
    "example_vect = tokenize.texts_to_sequences([example])\n",
    "tf.nn.sigmoid(model.predict(example_vect)).numpy()"
   ]
  },
  {
   "cell_type": "code",
   "execution_count": 61,
   "metadata": {
    "colab": {
     "base_uri": "https://localhost:8080/"
    },
    "id": "iImTdytn9OR7",
    "outputId": "820c8b25-c786-4466-92f2-d2e5fcecfa37"
   },
   "outputs": [
    {
     "name": "stdout",
     "output_type": "stream",
     "text": [
      "1/1 [==============================] - 0s 31ms/step\n"
     ]
    },
    {
     "data": {
      "text/plain": [
       "array([[0.6978209]], dtype=float32)"
      ]
     },
     "execution_count": 61,
     "metadata": {},
     "output_type": "execute_result"
    }
   ],
   "source": [
    "#new\n",
    "example = \"فوزىىى محسمد شنش\"\n",
    "example = '<sos> ' + example + ' <eos>'\n",
    "example_vect = tokenize.texts_to_sequences([example])\n",
    "tf.nn.sigmoid(model.predict(example_vect)).numpy()"
   ]
  },
  {
   "cell_type": "code",
   "execution_count": 62,
   "metadata": {},
   "outputs": [
    {
     "name": "stdout",
     "output_type": "stream",
     "text": [
      "1/1 [==============================] - 0s 31ms/step\n"
     ]
    },
    {
     "data": {
      "text/plain": [
       "array([[0.98463804]], dtype=float32)"
      ]
     },
     "execution_count": 62,
     "metadata": {},
     "output_type": "execute_result"
    }
   ],
   "source": [
    "#new\n",
    "example = \"دزيادد عبت محمد\"\n",
    "example = '<sos> ' + example + ' <eos>'\n",
    "example_vect = tokenize.texts_to_sequences([example])\n",
    "tf.nn.sigmoid(model.predict(example_vect)).numpy()"
   ]
  },
  {
   "cell_type": "code",
   "execution_count": 63,
   "metadata": {
    "colab": {
     "base_uri": "https://localhost:8080/"
    },
    "id": "Z7krT2wQyUvN",
    "outputId": "39f9a18f-a349-4d8e-aaef-d5057de78ef4"
   },
   "outputs": [
    {
     "name": "stdout",
     "output_type": "stream",
     "text": [
      "1/1 [==============================] - 0s 49ms/step\n"
     ]
    },
    {
     "data": {
      "text/plain": [
       "array([[0.9999827]], dtype=float32)"
      ]
     },
     "execution_count": 63,
     "metadata": {},
     "output_type": "execute_result"
    }
   ],
   "source": [
    "#new\n",
    "example = \"محمد طه عوض لاشين\"\n",
    "example = '<sos> ' + example + ' <eos>'\n",
    "example_vect = tokenize.texts_to_sequences([example])\n",
    "tf.nn.sigmoid(model.predict(example_vect)).numpy()"
   ]
  },
  {
   "cell_type": "code",
   "execution_count": 64,
   "metadata": {},
   "outputs": [
    {
     "name": "stdout",
     "output_type": "stream",
     "text": [
      "1/1 [==============================] - 0s 29ms/step\n"
     ]
    },
    {
     "data": {
      "text/plain": [
       "array([[0.6978209]], dtype=float32)"
      ]
     },
     "execution_count": 64,
     "metadata": {},
     "output_type": "execute_result"
    }
   ],
   "source": [
    "#new\n",
    "example = \"زيادي ممسسيشي شسيسيد\"\n",
    "example = '<sos> ' + example + ' <eos>'\n",
    "example_vect = tokenize.texts_to_sequences([example])\n",
    "tf.nn.sigmoid(model.predict(example_vect)).numpy()"
   ]
  },
  {
   "cell_type": "markdown",
   "metadata": {},
   "source": [
    "# Saving and loading the trained model "
   ]
  },
  {
   "cell_type": "code",
   "execution_count": 93,
   "metadata": {},
   "outputs": [],
   "source": [
    "model.save(f'models/{name}_model.h5', )"
   ]
  },
  {
   "cell_type": "code",
   "execution_count": 94,
   "metadata": {},
   "outputs": [
    {
     "name": "stdout",
     "output_type": "stream",
     "text": [
      "Model: \"sequential_3\"\n",
      "_________________________________________________________________\n",
      " Layer (type)                Output Shape              Param #   \n",
      "=================================================================\n",
      " embedding_3 (Embedding)     (None, None, 32)          462912    \n",
      "                                                                 \n",
      " dropout_3 (Dropout)         (None, None, 32)          0         \n",
      "                                                                 \n",
      " global_average_pooling1d_3   (None, 32)               0         \n",
      " (GlobalAveragePooling1D)                                        \n",
      "                                                                 \n",
      " dense_3 (Dense)             (None, 1)                 33        \n",
      "                                                                 \n",
      "=================================================================\n",
      "Total params: 462,945\n",
      "Trainable params: 462,945\n",
      "Non-trainable params: 0\n",
      "_________________________________________________________________\n"
     ]
    }
   ],
   "source": [
    "new_model = tf.keras.models.load_model(f'models/{name}_model.h5')\n",
    "new_model.summary()"
   ]
  },
  {
   "cell_type": "markdown",
   "metadata": {},
   "source": [
    "## Saving and loading the tokenizer"
   ]
  },
  {
   "cell_type": "code",
   "execution_count": 95,
   "metadata": {},
   "outputs": [],
   "source": [
    "import pickle\n",
    "\n",
    "# saving\n",
    "with open(f'models/{name}tokenizer.pickle', 'wb') as handle:\n",
    "    pickle.dump(tokenize, handle, protocol=pickle.HIGHEST_PROTOCOL)\n",
    "\n",
    "# loading\n",
    "with open(f'models/{name}tokenizer.pickle', 'rb') as handle:\n",
    "    new_tokenizer = pickle.load(handle)"
   ]
  },
  {
   "cell_type": "code",
   "execution_count": 96,
   "metadata": {},
   "outputs": [
    {
     "name": "stdout",
     "output_type": "stream",
     "text": [
      "1/1 [==============================] - 0s 82ms/step\n"
     ]
    },
    {
     "data": {
      "text/plain": [
       "array([[0.9961933]], dtype=float32)"
      ]
     },
     "execution_count": 96,
     "metadata": {},
     "output_type": "execute_result"
    }
   ],
   "source": [
    "#new\n",
    "example = \"محمد طه عوض لاشين\"\n",
    "example = '<sos> ' + example + ' <eos>'\n",
    "example_vect = new_tokenizer.texts_to_sequences([example])\n",
    "tf.nn.sigmoid(new_model.predict(example_vect)).numpy()"
   ]
  }
 ],
 "metadata": {
  "colab": {
   "provenance": []
  },
  "kernelspec": {
   "display_name": "Python 3 (ipykernel)",
   "language": "python",
   "name": "python3"
  },
  "language_info": {
   "codemirror_mode": {
    "name": "ipython",
    "version": 3
   },
   "file_extension": ".py",
   "mimetype": "text/x-python",
   "name": "python",
   "nbconvert_exporter": "python",
   "pygments_lexer": "ipython3",
   "version": "3.10.8"
  }
 },
 "nbformat": 4,
 "nbformat_minor": 4
}
