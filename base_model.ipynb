{
 "cells": [
  {
   "cell_type": "code",
   "execution_count": 3,
   "metadata": {},
   "outputs": [],
   "source": [
    "# autoreload\n",
    "%load_ext autoreload\n",
    "%autoreload 2"
   ]
  },
  {
   "cell_type": "code",
   "execution_count": 4,
   "metadata": {
    "id": "kWXtTvGk6fxU"
   },
   "outputs": [
    {
     "name": "stderr",
     "output_type": "stream",
     "text": [
      "2022-12-15 14:01:21.708989: I tensorflow/core/platform/cpu_feature_guard.cc:193] This TensorFlow binary is optimized with oneAPI Deep Neural Network Library (oneDNN) to use the following CPU instructions in performance-critical operations:  SSE4.1 SSE4.2 AVX AVX2 FMA\n",
      "To enable them in other operations, rebuild TensorFlow with the appropriate compiler flags.\n"
     ]
    }
   ],
   "source": [
    "# imports\n",
    "import tensorflow as tf\n",
    "import keras.layers as layers\n",
    "from keras.preprocessing.text import Tokenizer\n",
    "from tensorflow.keras.callbacks import EarlyStopping\n",
    "from keras.models import Sequential\n",
    "from sklearn.preprocessing import LabelEncoder\n",
    "from sklearn.model_selection import train_test_split\n",
    "import re\n",
    "import string\n",
    "import numpy as np\n",
    "import pandas as pd"
   ]
  },
  {
   "cell_type": "code",
   "execution_count": 5,
   "metadata": {},
   "outputs": [],
   "source": [
    "# experiment name\n",
    "name = 'both_generated_using_correct_names_20k'"
   ]
  },
  {
   "cell_type": "markdown",
   "metadata": {
    "id": "hVm9yUiMVvaq"
   },
   "source": [
    "# Dataset"
   ]
  },
  {
   "cell_type": "code",
   "execution_count": 6,
   "metadata": {
    "colab": {
     "base_uri": "https://localhost:8080/",
     "height": 381
    },
    "id": "i_-_gLHL6fxZ",
    "outputId": "5a2e4264-0335-4bf3-e06e-beddbf2d5d20"
   },
   "outputs": [
    {
     "name": "stdout",
     "output_type": "stream",
     "text": [
      "(20000, 2)\n"
     ]
    },
    {
     "data": {
      "text/html": [
       "<div>\n",
       "<style scoped>\n",
       "    .dataframe tbody tr th:only-of-type {\n",
       "        vertical-align: middle;\n",
       "    }\n",
       "\n",
       "    .dataframe tbody tr th {\n",
       "        vertical-align: top;\n",
       "    }\n",
       "\n",
       "    .dataframe thead th {\n",
       "        text-align: right;\n",
       "    }\n",
       "</style>\n",
       "<table border=\"1\" class=\"dataframe\">\n",
       "  <thead>\n",
       "    <tr style=\"text-align: right;\">\n",
       "      <th></th>\n",
       "      <th>Name</th>\n",
       "      <th>class</th>\n",
       "    </tr>\n",
       "  </thead>\n",
       "  <tbody>\n",
       "    <tr>\n",
       "      <th>17633</th>\n",
       "      <td>ججنا فشعرت مقاله</td>\n",
       "      <td>0.0</td>\n",
       "    </tr>\n",
       "    <tr>\n",
       "      <th>96</th>\n",
       "      <td>موفق ناروز دولت</td>\n",
       "      <td>1.0</td>\n",
       "    </tr>\n",
       "    <tr>\n",
       "      <th>16044</th>\n",
       "      <td>ماىر رههج كامر</td>\n",
       "      <td>0.0</td>\n",
       "    </tr>\n",
       "    <tr>\n",
       "      <th>14859</th>\n",
       "      <td>راغب قصرها رااائع</td>\n",
       "      <td>0.0</td>\n",
       "    </tr>\n",
       "    <tr>\n",
       "      <th>17092</th>\n",
       "      <td>ععطوى عدالة ععببداالبباقى</td>\n",
       "      <td>0.0</td>\n",
       "    </tr>\n",
       "    <tr>\n",
       "      <th>12290</th>\n",
       "      <td>ننعم وفاء نشات</td>\n",
       "      <td>0.0</td>\n",
       "    </tr>\n",
       "    <tr>\n",
       "      <th>17134</th>\n",
       "      <td>فريينا معاطى لطيف،</td>\n",
       "      <td>0.0</td>\n",
       "    </tr>\n",
       "    <tr>\n",
       "      <th>3295</th>\n",
       "      <td>سريع عكاشة اهيم</td>\n",
       "      <td>1.0</td>\n",
       "    </tr>\n",
       "    <tr>\n",
       "      <th>11475</th>\n",
       "      <td>لحمدياسدا كر ناكازيش</td>\n",
       "      <td>0.0</td>\n",
       "    </tr>\n",
       "    <tr>\n",
       "      <th>16491</th>\n",
       "      <td>الفاضلة الاسبوع يفيض</td>\n",
       "      <td>0.0</td>\n",
       "    </tr>\n",
       "  </tbody>\n",
       "</table>\n",
       "</div>"
      ],
      "text/plain": [
       "                            Name  class\n",
       "17633           ججنا فشعرت مقاله    0.0\n",
       "96               موفق ناروز دولت    1.0\n",
       "16044             ماىر رههج كامر    0.0\n",
       "14859          راغب قصرها رااائع    0.0\n",
       "17092  ععطوى عدالة ععببداالبباقى    0.0\n",
       "12290             ننعم وفاء نشات    0.0\n",
       "17134         فريينا معاطى لطيف،    0.0\n",
       "3295             سريع عكاشة اهيم    1.0\n",
       "11475       لحمدياسدا كر ناكازيش    0.0\n",
       "16491       الفاضلة الاسبوع يفيض    0.0"
      ]
     },
     "execution_count": 6,
     "metadata": {},
     "output_type": "execute_result"
    }
   ],
   "source": [
    "df = pd.read_csv(f\"data/{name}.csv\")\n",
    "print(df.shape)\n",
    "df.sample(10)"
   ]
  },
  {
   "cell_type": "code",
   "execution_count": 7,
   "metadata": {
    "colab": {
     "base_uri": "https://localhost:8080/"
    },
    "id": "aZwHLSn2YlwZ",
    "outputId": "4404909f-d4e1-444f-ea98-bf39fa0bb314"
   },
   "outputs": [
    {
     "data": {
      "text/plain": [
       "3"
      ]
     },
     "execution_count": 7,
     "metadata": {},
     "output_type": "execute_result"
    }
   ],
   "source": [
    "# max number of words per name\n",
    "df['Name'].str.split().str.len().max()"
   ]
  },
  {
   "cell_type": "code",
   "execution_count": 8,
   "metadata": {},
   "outputs": [
    {
     "data": {
      "text/html": [
       "<div>\n",
       "<style scoped>\n",
       "    .dataframe tbody tr th:only-of-type {\n",
       "        vertical-align: middle;\n",
       "    }\n",
       "\n",
       "    .dataframe tbody tr th {\n",
       "        vertical-align: top;\n",
       "    }\n",
       "\n",
       "    .dataframe thead th {\n",
       "        text-align: right;\n",
       "    }\n",
       "</style>\n",
       "<table border=\"1\" class=\"dataframe\">\n",
       "  <thead>\n",
       "    <tr style=\"text-align: right;\">\n",
       "      <th></th>\n",
       "      <th>Name</th>\n",
       "      <th>class</th>\n",
       "    </tr>\n",
       "  </thead>\n",
       "  <tbody>\n",
       "    <tr>\n",
       "      <th>0</th>\n",
       "      <td>حمايه تيسير لاوند</td>\n",
       "      <td>1.0</td>\n",
       "    </tr>\n",
       "    <tr>\n",
       "      <th>1</th>\n",
       "      <td>سعداحمد ابراهبم برى</td>\n",
       "      <td>1.0</td>\n",
       "    </tr>\n",
       "    <tr>\n",
       "      <th>2</th>\n",
       "      <td>مكة ولاء كريمه</td>\n",
       "      <td>1.0</td>\n",
       "    </tr>\n",
       "    <tr>\n",
       "      <th>3</th>\n",
       "      <td>زايد ثراء سحاق</td>\n",
       "      <td>1.0</td>\n",
       "    </tr>\n",
       "    <tr>\n",
       "      <th>4</th>\n",
       "      <td>الاسمر الشندى العوضى</td>\n",
       "      <td>1.0</td>\n",
       "    </tr>\n",
       "  </tbody>\n",
       "</table>\n",
       "</div>"
      ],
      "text/plain": [
       "                   Name  class\n",
       "0     حمايه تيسير لاوند    1.0\n",
       "1   سعداحمد ابراهبم برى    1.0\n",
       "2        مكة ولاء كريمه    1.0\n",
       "3        زايد ثراء سحاق    1.0\n",
       "4  الاسمر الشندى العوضى    1.0"
      ]
     },
     "execution_count": 8,
     "metadata": {},
     "output_type": "execute_result"
    }
   ],
   "source": [
    "df.head(5)"
   ]
  },
  {
   "cell_type": "code",
   "execution_count": 9,
   "metadata": {},
   "outputs": [
    {
     "data": {
      "text/html": [
       "<div>\n",
       "<style scoped>\n",
       "    .dataframe tbody tr th:only-of-type {\n",
       "        vertical-align: middle;\n",
       "    }\n",
       "\n",
       "    .dataframe tbody tr th {\n",
       "        vertical-align: top;\n",
       "    }\n",
       "\n",
       "    .dataframe thead th {\n",
       "        text-align: right;\n",
       "    }\n",
       "</style>\n",
       "<table border=\"1\" class=\"dataframe\">\n",
       "  <thead>\n",
       "    <tr style=\"text-align: right;\">\n",
       "      <th></th>\n",
       "      <th>Name</th>\n",
       "      <th>class</th>\n",
       "    </tr>\n",
       "  </thead>\n",
       "  <tbody>\n",
       "    <tr>\n",
       "      <th>0</th>\n",
       "      <td>شعيب نفاد عبيدالله</td>\n",
       "      <td>1.0</td>\n",
       "    </tr>\n",
       "    <tr>\n",
       "      <th>1</th>\n",
       "      <td>شهندا بسيم سدراك</td>\n",
       "      <td>1.0</td>\n",
       "    </tr>\n",
       "    <tr>\n",
       "      <th>2</th>\n",
       "      <td>تسنيم مكاريوس الجوهره</td>\n",
       "      <td>1.0</td>\n",
       "    </tr>\n",
       "    <tr>\n",
       "      <th>3</th>\n",
       "      <td>قدرى الربيع شكيب</td>\n",
       "      <td>1.0</td>\n",
       "    </tr>\n",
       "    <tr>\n",
       "      <th>4</th>\n",
       "      <td>متعلق منيتتى هاادب</td>\n",
       "      <td>0.0</td>\n",
       "    </tr>\n",
       "  </tbody>\n",
       "</table>\n",
       "</div>"
      ],
      "text/plain": [
       "                    Name  class\n",
       "0     شعيب نفاد عبيدالله    1.0\n",
       "1       شهندا بسيم سدراك    1.0\n",
       "2  تسنيم مكاريوس الجوهره    1.0\n",
       "3       قدرى الربيع شكيب    1.0\n",
       "4     متعلق منيتتى هاادب    0.0"
      ]
     },
     "execution_count": 9,
     "metadata": {},
     "output_type": "execute_result"
    }
   ],
   "source": [
    "df = df.sample(frac=1).reset_index(drop=True)\n",
    "df.head()"
   ]
  },
  {
   "cell_type": "markdown",
   "metadata": {
    "id": "6j-spTh2joa3"
   },
   "source": [
    "## Document Preprocessing"
   ]
  },
  {
   "cell_type": "code",
   "execution_count": 10,
   "metadata": {
    "colab": {
     "base_uri": "https://localhost:8080/",
     "height": 127
    },
    "id": "EY57gotK6fxb",
    "outputId": "a64b0f58-8ede-4eaa-97dc-916dfbff41c9"
   },
   "outputs": [
    {
     "data": {
      "text/plain": [
       "'<SOS> شعيب نفاد عبيدالله <EOS> <SOS> شهندا بسيم سدراك <EOS> <SOS> تسنيم مكاريوس الجوهره <EOS> <SOS> قدرى الربيع شكيب <EOS> <SOS> متعلق منيتتى هاادب <EOS> <SOS> مسلسلات الوراء رآه <EOS> <SOS> سحاب الزهراء روتاج <EOS> <SOS> شاور سدراك محمدابو <EOS> <SOS> دجليومن يحيى لدسعا <EOS> <SOS> ميريم قتؤح ابوغنام <EOS> <SOS> ابوسبع ناظم اسما <EOS> <SOS> طمه معاز القداح <EOS> <SOS> رضى تيا سنجاب <EOS> <SOS> جبن سناء عيدس <EOS> <SOS> اللاوندى بلبل ميخائيل <EOS> <SOS> خيرالله حسان حمتو <EOS> <SOS> الرقم الاميرة فريدة <EOS> <SOS> خامد حميدو طلخان <EOS> <SOS> ننجا سومه احمددعلى <EOS> <SOS> ياقوت عربان بسيم <EOS> <SOS> جمدا رادوسيع ابز <EOS> <SOS> ميههوبب خاطرو وئام <EOS> <SOS> مهنا عبدالنظيير وردهه <EOS> <SOS> ساجد منصورعبده جواهر <EOS> <SOS> مفتعل رفيع همام <EOS> <SOS> عوعزز اتفح كرش <EOS> <SOS> عاشور ملكى عبدالقوى <EOS> <SOS> ايرينى نباء بسطاوى <EOS> <SOS> سعا عبدالساتر زاخر <EOS> <SOS> السجينى حمايل خله <EOS> <SOS> ددنندش عبداالممنجى نففيسهه <EOS> <SOS> مفررحح جبرىى بلسمم <EOS> <SOS> اىومك اهيبوصبق '"
      ]
     },
     "execution_count": 10,
     "metadata": {},
     "output_type": "execute_result"
    }
   ],
   "source": [
    "# adding start and end tokens\n",
    "names = ['<SOS> ' + x + ' <EOS>' for x in df['Name'].tolist()]\n",
    "corpus = \" \".join(names)\n",
    "labels = df['class'].tolist()\n",
    "corpus[:1000]"
   ]
  },
  {
   "cell_type": "markdown",
   "metadata": {},
   "source": [
    "## Tokenization "
   ]
  },
  {
   "cell_type": "code",
   "execution_count": 11,
   "metadata": {
    "colab": {
     "base_uri": "https://localhost:8080/"
    },
    "id": "o45SDboi2sOu",
    "outputId": "bee099d2-f2a6-4777-b4b1-4e2a44710137"
   },
   "outputs": [
    {
     "name": "stdout",
     "output_type": "stream",
     "text": [
      "Total Words: 13574\n",
      "Example of a Sequence\n",
      "[[   2  495 3172 1386    3    0]\n",
      " [   2   38  120 1387    3    0]\n",
      " [   2  496 1025  202    3    0]]\n",
      "Some Tokens\n",
      "['<UNK>', '<SOS>', '<EOS>', 'عطوان', 'اعتماد', 'ثريا', 'التزام', 'حكمه', 'القداح', 'جمال']\n"
     ]
    }
   ],
   "source": [
    "tokenize = tf.keras.preprocessing.text.Tokenizer(oov_token=\"<UNK>\", filters='!\"#$%&()*+,-./:;=?@[\\\\]^_`{|}~\\t\\n', lower=False)\n",
    "tokenize.fit_on_texts(names)\n",
    "x = tokenize.texts_to_sequences(names)\n",
    "max_len = 6\n",
    "x = tf.keras.utils.pad_sequences(x, maxlen=max_len, padding='post')\n",
    "total_words = len(tokenize.word_index)+1\n",
    "print(f\"Total Words: {total_words}\")\n",
    "print(\"Example of a Sequence\")\n",
    "print(x[:3])\n",
    "print(\"Some Tokens\")\n",
    "print(list(tokenize.word_index)[:10])"
   ]
  },
  {
   "cell_type": "markdown",
   "metadata": {},
   "source": [
    "## Splitting data and making dataset "
   ]
  },
  {
   "cell_type": "code",
   "execution_count": 12,
   "metadata": {
    "id": "FfeMdPs5npBO"
   },
   "outputs": [
    {
     "name": "stdout",
     "output_type": "stream",
     "text": [
      "Train and Validation sizes\n"
     ]
    },
    {
     "data": {
      "text/plain": [
       "(16000, 4000, 16000, 4000)"
      ]
     },
     "execution_count": 12,
     "metadata": {},
     "output_type": "execute_result"
    }
   ],
   "source": [
    "x_train, x_valid, y_train, y_valid = train_test_split(x, df['class'].values, test_size=.2, random_state=23)\n",
    "print(\"Train and Validation sizes\")\n",
    "len(x_train), len(x_valid), len(y_train), len(y_valid)"
   ]
  },
  {
   "cell_type": "code",
   "execution_count": 13,
   "metadata": {},
   "outputs": [
    {
     "data": {
      "text/plain": [
       "(7997.0, 2003.0)"
      ]
     },
     "execution_count": 13,
     "metadata": {},
     "output_type": "execute_result"
    }
   ],
   "source": [
    "y_train.sum(), y_valid.sum()"
   ]
  },
  {
   "cell_type": "code",
   "execution_count": 14,
   "metadata": {
    "id": "98tMwyTAhYA2"
   },
   "outputs": [
    {
     "name": "stderr",
     "output_type": "stream",
     "text": [
      "2022-12-15 14:01:26.369208: I tensorflow/stream_executor/cuda/cuda_gpu_executor.cc:980] successful NUMA node read from SysFS had negative value (-1), but there must be at least one NUMA node, so returning NUMA node zero\n",
      "2022-12-15 14:01:26.400374: I tensorflow/stream_executor/cuda/cuda_gpu_executor.cc:980] successful NUMA node read from SysFS had negative value (-1), but there must be at least one NUMA node, so returning NUMA node zero\n",
      "2022-12-15 14:01:26.400707: I tensorflow/stream_executor/cuda/cuda_gpu_executor.cc:980] successful NUMA node read from SysFS had negative value (-1), but there must be at least one NUMA node, so returning NUMA node zero\n",
      "2022-12-15 14:01:26.402420: I tensorflow/core/platform/cpu_feature_guard.cc:193] This TensorFlow binary is optimized with oneAPI Deep Neural Network Library (oneDNN) to use the following CPU instructions in performance-critical operations:  SSE4.1 SSE4.2 AVX AVX2 FMA\n",
      "To enable them in other operations, rebuild TensorFlow with the appropriate compiler flags.\n",
      "2022-12-15 14:01:26.403526: I tensorflow/stream_executor/cuda/cuda_gpu_executor.cc:980] successful NUMA node read from SysFS had negative value (-1), but there must be at least one NUMA node, so returning NUMA node zero\n",
      "2022-12-15 14:01:26.403833: I tensorflow/stream_executor/cuda/cuda_gpu_executor.cc:980] successful NUMA node read from SysFS had negative value (-1), but there must be at least one NUMA node, so returning NUMA node zero\n",
      "2022-12-15 14:01:26.404010: I tensorflow/stream_executor/cuda/cuda_gpu_executor.cc:980] successful NUMA node read from SysFS had negative value (-1), but there must be at least one NUMA node, so returning NUMA node zero\n",
      "2022-12-15 14:01:26.998398: I tensorflow/stream_executor/cuda/cuda_gpu_executor.cc:980] successful NUMA node read from SysFS had negative value (-1), but there must be at least one NUMA node, so returning NUMA node zero\n",
      "2022-12-15 14:01:26.998669: I tensorflow/stream_executor/cuda/cuda_gpu_executor.cc:980] successful NUMA node read from SysFS had negative value (-1), but there must be at least one NUMA node, so returning NUMA node zero\n",
      "2022-12-15 14:01:26.998832: I tensorflow/stream_executor/cuda/cuda_gpu_executor.cc:980] successful NUMA node read from SysFS had negative value (-1), but there must be at least one NUMA node, so returning NUMA node zero\n",
      "2022-12-15 14:01:26.998951: I tensorflow/core/common_runtime/gpu/gpu_device.cc:1616] Created device /job:localhost/replica:0/task:0/device:GPU:0 with 5325 MB memory:  -> device: 0, name: NVIDIA GeForce GTX 1060 with Max-Q Design, pci bus id: 0000:01:00.0, compute capability: 6.1\n"
     ]
    }
   ],
   "source": [
    "ds_train = tf.data.Dataset.from_tensor_slices((x_train, y_train)).batch(128)\n",
    "ds_valid = tf.data.Dataset.from_tensor_slices((x_valid, y_valid)).batch(128)"
   ]
  },
  {
   "cell_type": "code",
   "execution_count": 15,
   "metadata": {
    "colab": {
     "base_uri": "https://localhost:8080/"
    },
    "id": "6Q9KP5pctrdk",
    "outputId": "636fb047-247b-4515-acb3-60f8196b5b7a"
   },
   "outputs": [
    {
     "name": "stdout",
     "output_type": "stream",
     "text": [
      "tf.Tensor(\n",
      "[[    2  2596  6874    83     3     0]\n",
      " [    2  6905 12292 12293     3     0]], shape=(2, 6), dtype=int32) tf.Tensor([0. 0.], shape=(2,), dtype=float64)\n"
     ]
    }
   ],
   "source": [
    "for x,y in ds_train.take(1):\n",
    "    print(x[:2], y[:2])"
   ]
  },
  {
   "cell_type": "markdown",
   "metadata": {
    "id": "tqU-4LG9kOpz"
   },
   "source": [
    "# Build and Train a Model: "
   ]
  },
  {
   "cell_type": "code",
   "execution_count": 16,
   "metadata": {
    "id": "3xPUH48medT_"
   },
   "outputs": [],
   "source": [
    "vocab_size = total_words\n",
    "embedding_dim = 128\n",
    "sequence_length = max_len"
   ]
  },
  {
   "cell_type": "code",
   "execution_count": 17,
   "metadata": {
    "colab": {
     "base_uri": "https://localhost:8080/"
    },
    "id": "iZ6sz4au6fxd",
    "outputId": "9b2a4295-0100-486e-b649-f7b3d03b140e"
   },
   "outputs": [
    {
     "name": "stdout",
     "output_type": "stream",
     "text": [
      "Model: \"sequential\"\n",
      "_________________________________________________________________\n",
      " Layer (type)                Output Shape              Param #   \n",
      "=================================================================\n",
      " embedding (Embedding)       (None, None, 128)         1737472   \n",
      "                                                                 \n",
      " dropout (Dropout)           (None, None, 128)         0         \n",
      "                                                                 \n",
      " global_average_pooling1d (G  (None, 128)              0         \n",
      " lobalAveragePooling1D)                                          \n",
      "                                                                 \n",
      " dropout_1 (Dropout)         (None, 128)               0         \n",
      "                                                                 \n",
      " dense (Dense)               (None, 1)                 129       \n",
      "                                                                 \n",
      "=================================================================\n",
      "Total params: 1,737,601\n",
      "Trainable params: 1,737,601\n",
      "Non-trainable params: 0\n",
      "_________________________________________________________________\n"
     ]
    }
   ],
   "source": [
    "model = tf.keras.Sequential([\n",
    "  layers.Embedding(vocab_size, embedding_dim),\n",
    "  layers.Dropout(0.2),\n",
    "  layers.GlobalAveragePooling1D(),\n",
    "  layers.Dropout(0.2),\n",
    "  layers.Dense(1)],\n",
    "  )\n",
    "\n",
    "model.summary()"
   ]
  },
  {
   "cell_type": "code",
   "execution_count": 18,
   "metadata": {
    "id": "pwJLHKCBPhXz"
   },
   "outputs": [],
   "source": [
    "model.compile(loss=tf.losses.BinaryCrossentropy(from_logits=True),\n",
    "              optimizer='adam',\n",
    "              metrics=tf.metrics.BinaryAccuracy())"
   ]
  },
  {
   "cell_type": "code",
   "execution_count": 19,
   "metadata": {},
   "outputs": [
    {
     "name": "stdout",
     "output_type": "stream",
     "text": [
      "Epoch 1/10\n",
      "125/125 [==============================] - 1s 5ms/step - loss: 0.6737 - binary_accuracy: 0.5002 - val_loss: 0.6359 - val_binary_accuracy: 0.4992\n",
      "Epoch 2/10\n",
      "125/125 [==============================] - 1s 4ms/step - loss: 0.5297 - binary_accuracy: 0.6359 - val_loss: 0.4644 - val_binary_accuracy: 0.8310\n",
      "Epoch 3/10\n",
      "125/125 [==============================] - 1s 4ms/step - loss: 0.3199 - binary_accuracy: 0.9526 - val_loss: 0.3165 - val_binary_accuracy: 0.9230\n",
      "Epoch 4/10\n",
      "125/125 [==============================] - 1s 4ms/step - loss: 0.1906 - binary_accuracy: 0.9797 - val_loss: 0.2417 - val_binary_accuracy: 0.9337\n",
      "Epoch 5/10\n",
      "125/125 [==============================] - 1s 4ms/step - loss: 0.1275 - binary_accuracy: 0.9877 - val_loss: 0.2062 - val_binary_accuracy: 0.9365\n",
      "Epoch 6/10\n",
      "125/125 [==============================] - 1s 4ms/step - loss: 0.0935 - binary_accuracy: 0.9908 - val_loss: 0.1879 - val_binary_accuracy: 0.9373\n",
      "Epoch 7/10\n",
      "125/125 [==============================] - 1s 4ms/step - loss: 0.0720 - binary_accuracy: 0.9927 - val_loss: 0.1782 - val_binary_accuracy: 0.9370\n",
      "Epoch 8/10\n",
      "125/125 [==============================] - 1s 4ms/step - loss: 0.0574 - binary_accuracy: 0.9949 - val_loss: 0.1737 - val_binary_accuracy: 0.9375\n",
      "Epoch 9/10\n",
      "125/125 [==============================] - 1s 4ms/step - loss: 0.0466 - binary_accuracy: 0.9956 - val_loss: 0.1724 - val_binary_accuracy: 0.9380\n",
      "Epoch 10/10\n",
      "125/125 [==============================] - 1s 4ms/step - loss: 0.0386 - binary_accuracy: 0.9974 - val_loss: 0.1728 - val_binary_accuracy: 0.9385\n"
     ]
    }
   ],
   "source": [
    "early_stopping = EarlyStopping(patience=2, restore_best_weights=True, verbose=True)\n",
    "epochs = 10\n",
    "history = model.fit(\n",
    "    ds_train,\n",
    "    validation_data=ds_valid,\n",
    "    epochs=epochs,\n",
    "    callbacks=[early_stopping])"
   ]
  },
  {
   "cell_type": "code",
   "execution_count": 20,
   "metadata": {},
   "outputs": [
    {
     "data": {
      "image/png": "[encoded data removed]",
      "text/plain": [
       "<Figure size 1500x500 with 2 Axes>"
      ]
     },
     "metadata": {},
     "output_type": "display_data"
    }
   ],
   "source": [
    "from utils import plot_history\n",
    "plot_history(history.history)"
   ]
  },
  {
   "cell_type": "markdown",
   "metadata": {
    "tags": []
   },
   "source": [
    "### Test Examples "
   ]
  },
  {
   "cell_type": "code",
   "execution_count": 21,
   "metadata": {
    "colab": {
     "base_uri": "https://localhost:8080/"
    },
    "id": "yn2kSoBd6ZzZ",
    "outputId": "9f6aa72e-fc5a-4680-abbe-f2a9404bd394"
   },
   "outputs": [
    {
     "name": "stdout",
     "output_type": "stream",
     "text": [
      "1/1 [==============================] - 0s 68ms/step\n"
     ]
    },
    {
     "data": {
      "text/plain": [
       "array([[0.9856778]], dtype=float32)"
      ]
     },
     "execution_count": 21,
     "metadata": {},
     "output_type": "execute_result"
    }
   ],
   "source": [
    "#new\n",
    "example = '<sos> ' + \"معاذ طه عوض\" + ' <eos>'\n",
    "example_vect = tokenize.texts_to_sequences([example])\n",
    "tf.nn.sigmoid(model.predict(example_vect)).numpy()"
   ]
  },
  {
   "cell_type": "code",
   "execution_count": 22,
   "metadata": {
    "colab": {
     "base_uri": "https://localhost:8080/"
    },
    "id": "HLR-BIdk8XTA",
    "outputId": "9c50845a-ddf3-492b-f9c4-c44085c365b2"
   },
   "outputs": [
    {
     "name": "stdout",
     "output_type": "stream",
     "text": [
      "1/1 [==============================] - 0s 34ms/step\n"
     ]
    },
    {
     "data": {
      "text/plain": [
       "array([[0.9858744]], dtype=float32)"
      ]
     },
     "execution_count": 22,
     "metadata": {},
     "output_type": "execute_result"
    }
   ],
   "source": [
    "#new\n",
    "example = \"باسم وحيد السيد\"\n",
    "example = '<sos> ' + example + ' <eos>'\n",
    "example_vect = tokenize.texts_to_sequences([example])\n",
    "tf.nn.sigmoid(model.predict(example_vect)).numpy()"
   ]
  },
  {
   "cell_type": "code",
   "execution_count": 23,
   "metadata": {
    "colab": {
     "base_uri": "https://localhost:8080/"
    },
    "id": "VzOUDGfQ8d8U",
    "outputId": "bf1f673c-3c39-4419-e4fa-98041c0f841f"
   },
   "outputs": [
    {
     "name": "stdout",
     "output_type": "stream",
     "text": [
      "1/1 [==============================] - 0s 42ms/step\n"
     ]
    },
    {
     "data": {
      "text/plain": [
       "array([[0.32227126]], dtype=float32)"
      ]
     },
     "execution_count": 23,
     "metadata": {},
     "output_type": "execute_result"
    }
   ],
   "source": [
    "#new\n",
    "example = \"شسي شسي شسي\"\n",
    "example = '<sos> ' + example + ' <eos>'\n",
    "example_vect = tokenize.texts_to_sequences([example])\n",
    "tf.nn.sigmoid(model.predict(example_vect)).numpy()"
   ]
  },
  {
   "cell_type": "code",
   "execution_count": 24,
   "metadata": {
    "colab": {
     "base_uri": "https://localhost:8080/"
    },
    "id": "7DHcdPDQ8nxX",
    "outputId": "d680d594-337d-4c66-a409-0672a7425a62"
   },
   "outputs": [
    {
     "name": "stdout",
     "output_type": "stream",
     "text": [
      "1/1 [==============================] - 0s 35ms/step\n"
     ]
    },
    {
     "data": {
      "text/plain": [
       "array([[0.32227126]], dtype=float32)"
      ]
     },
     "execution_count": 24,
     "metadata": {},
     "output_type": "execute_result"
    }
   ],
   "source": [
    "#new\n",
    "example = \"باسمم وحةد السد\"\n",
    "example = '<sos> ' + example + ' <eos>'\n",
    "example_vect = tokenize.texts_to_sequences([example])\n",
    "tf.nn.sigmoid(model.predict(example_vect)).numpy()"
   ]
  },
  {
   "cell_type": "code",
   "execution_count": 25,
   "metadata": {
    "colab": {
     "base_uri": "https://localhost:8080/"
    },
    "id": "mfs4ZdQM8wuH",
    "outputId": "93f13a3e-d519-4838-cc22-71c7f42b9790"
   },
   "outputs": [
    {
     "name": "stdout",
     "output_type": "stream",
     "text": [
      "1/1 [==============================] - 0s 36ms/step\n"
     ]
    },
    {
     "data": {
      "text/plain": [
       "array([[0.86231697]], dtype=float32)"
      ]
     },
     "execution_count": 25,
     "metadata": {},
     "output_type": "execute_result"
    }
   ],
   "source": [
    "#new\n",
    "example = \"مريم محمد محمد\"\n",
    "example = '<sos> ' + example + ' <eos>'\n",
    "example_vect = tokenize.texts_to_sequences([example])\n",
    "tf.nn.sigmoid(model.predict(example_vect)).numpy()"
   ]
  },
  {
   "cell_type": "code",
   "execution_count": 26,
   "metadata": {
    "colab": {
     "base_uri": "https://localhost:8080/"
    },
    "id": "7Un6Cc9p8011",
    "outputId": "6c4cb565-e377-419d-faae-17f78b232ce1"
   },
   "outputs": [
    {
     "name": "stdout",
     "output_type": "stream",
     "text": [
      "1/1 [==============================] - 0s 32ms/step\n"
     ]
    },
    {
     "data": {
      "text/plain": [
       "array([[0.86231697]], dtype=float32)"
      ]
     },
     "execution_count": 26,
     "metadata": {},
     "output_type": "execute_result"
    }
   ],
   "source": [
    "#new\n",
    "example = \"محمد مريم محمد\"\n",
    "example = '<sos> ' + example + ' <eos>'\n",
    "example_vect = tokenize.texts_to_sequences([example])\n",
    "tf.nn.sigmoid(model.predict(example_vect)).numpy()"
   ]
  },
  {
   "cell_type": "code",
   "execution_count": 27,
   "metadata": {
    "colab": {
     "base_uri": "https://localhost:8080/"
    },
    "id": "7YuKyjXz88l2",
    "outputId": "13b52215-8659-4826-ebbf-2be6834dd689"
   },
   "outputs": [
    {
     "name": "stdout",
     "output_type": "stream",
     "text": [
      "1/1 [==============================] - 0s 30ms/step\n"
     ]
    },
    {
     "data": {
      "text/plain": [
       "array([[0.44550908]], dtype=float32)"
      ]
     },
     "execution_count": 27,
     "metadata": {},
     "output_type": "execute_result"
    }
   ],
   "source": [
    "#new\n",
    "example = \"مريم محمد الرمال\"\n",
    "example = '<sos> ' + example + ' <eos>'\n",
    "example_vect = tokenize.texts_to_sequences([example])\n",
    "tf.nn.sigmoid(model.predict(example_vect)).numpy()"
   ]
  },
  {
   "cell_type": "code",
   "execution_count": 28,
   "metadata": {
    "colab": {
     "base_uri": "https://localhost:8080/"
    },
    "id": "Fb71_3lj9Bbt",
    "outputId": "0536b9e8-0784-46bf-c9f3-7154297554d8"
   },
   "outputs": [
    {
     "name": "stdout",
     "output_type": "stream",
     "text": [
      "1/1 [==============================] - 0s 32ms/step\n"
     ]
    },
    {
     "data": {
      "text/plain": [
       "array([[0.8787202]], dtype=float32)"
      ]
     },
     "execution_count": 28,
     "metadata": {},
     "output_type": "execute_result"
    }
   ],
   "source": [
    "#new\n",
    "example = \"محمد طه عوض\"\n",
    "example = '<sos> ' + example + ' <eos>'\n",
    "example_vect = tokenize.texts_to_sequences([example])\n",
    "tf.nn.sigmoid(model.predict(example_vect)).numpy()"
   ]
  },
  {
   "cell_type": "code",
   "execution_count": 29,
   "metadata": {
    "colab": {
     "base_uri": "https://localhost:8080/"
    },
    "id": "iImTdytn9OR7",
    "outputId": "820c8b25-c786-4466-92f2-d2e5fcecfa37"
   },
   "outputs": [
    {
     "name": "stdout",
     "output_type": "stream",
     "text": [
      "1/1 [==============================] - 0s 32ms/step\n"
     ]
    },
    {
     "data": {
      "text/plain": [
       "array([[0.32227126]], dtype=float32)"
      ]
     },
     "execution_count": 29,
     "metadata": {},
     "output_type": "execute_result"
    }
   ],
   "source": [
    "#new\n",
    "example = \"فوزىىى محسمد شنش\"\n",
    "example = '<sos> ' + example + ' <eos>'\n",
    "example_vect = tokenize.texts_to_sequences([example])\n",
    "tf.nn.sigmoid(model.predict(example_vect)).numpy()"
   ]
  },
  {
   "cell_type": "code",
   "execution_count": 30,
   "metadata": {},
   "outputs": [
    {
     "name": "stdout",
     "output_type": "stream",
     "text": [
      "1/1 [==============================] - 0s 31ms/step\n"
     ]
    },
    {
     "data": {
      "text/plain": [
       "array([[0.4478519]], dtype=float32)"
      ]
     },
     "execution_count": 30,
     "metadata": {},
     "output_type": "execute_result"
    }
   ],
   "source": [
    "#new\n",
    "example = \"دزيادد عبت محمد\"\n",
    "example = '<sos> ' + example + ' <eos>'\n",
    "example_vect = tokenize.texts_to_sequences([example])\n",
    "tf.nn.sigmoid(model.predict(example_vect)).numpy()"
   ]
  },
  {
   "cell_type": "code",
   "execution_count": 31,
   "metadata": {
    "colab": {
     "base_uri": "https://localhost:8080/"
    },
    "id": "Z7krT2wQyUvN",
    "outputId": "39f9a18f-a349-4d8e-aaef-d5057de78ef4"
   },
   "outputs": [
    {
     "name": "stdout",
     "output_type": "stream",
     "text": [
      "1/1 [==============================] - 0s 56ms/step\n"
     ]
    },
    {
     "data": {
      "text/plain": [
       "array([[0.9506272]], dtype=float32)"
      ]
     },
     "execution_count": 31,
     "metadata": {},
     "output_type": "execute_result"
    }
   ],
   "source": [
    "#new\n",
    "example = \"محمد طه عوض لاشين\"\n",
    "example = '<sos> ' + example + ' <eos>'\n",
    "example_vect = tokenize.texts_to_sequences([example])\n",
    "tf.nn.sigmoid(model.predict(example_vect)).numpy()"
   ]
  },
  {
   "cell_type": "code",
   "execution_count": 35,
   "metadata": {},
   "outputs": [
    {
     "name": "stdout",
     "output_type": "stream",
     "text": [
      "1/1 [==============================] - 0s 48ms/step\n"
     ]
    },
    {
     "data": {
      "text/plain": [
       "array([[0.94494665]], dtype=float32)"
      ]
     },
     "execution_count": 35,
     "metadata": {},
     "output_type": "execute_result"
    }
   ],
   "source": [
    "#new\n",
    "example = \"زياد عبدال محمد\"\n",
    "example = '<sos> ' + example + ' <eos>'\n",
    "example_vect = tokenize.texts_to_sequences([example])\n",
    "tf.nn.sigmoid(model.predict(example_vect)).numpy()"
   ]
  },
  {
   "cell_type": "markdown",
   "metadata": {},
   "source": [
    "# Saving and loading the trained model "
   ]
  },
  {
   "cell_type": "code",
   "execution_count": 36,
   "metadata": {},
   "outputs": [
    {
     "name": "stdout",
     "output_type": "stream",
     "text": [
      "INFO:tensorflow:Assets written to: models/both_generated_using_correct_names_20k_model/assets\n"
     ]
    }
   ],
   "source": [
    "model.save(f'models/{name}_model', )"
   ]
  },
  {
   "cell_type": "code",
   "execution_count": 38,
   "metadata": {},
   "outputs": [
    {
     "name": "stdout",
     "output_type": "stream",
     "text": [
      "Model: \"sequential\"\n",
      "_________________________________________________________________\n",
      " Layer (type)                Output Shape              Param #   \n",
      "=================================================================\n",
      " embedding (Embedding)       (None, None, 128)         1737472   \n",
      "                                                                 \n",
      " dropout (Dropout)           (None, None, 128)         0         \n",
      "                                                                 \n",
      " global_average_pooling1d (G  (None, 128)              0         \n",
      " lobalAveragePooling1D)                                          \n",
      "                                                                 \n",
      " dropout_1 (Dropout)         (None, 128)               0         \n",
      "                                                                 \n",
      " dense (Dense)               (None, 1)                 129       \n",
      "                                                                 \n",
      "=================================================================\n",
      "Total params: 1,737,601\n",
      "Trainable params: 1,737,601\n",
      "Non-trainable params: 0\n",
      "_________________________________________________________________\n"
     ]
    }
   ],
   "source": [
    "new_model = tf.keras.models.load_model(f'models/{name}_model')\n",
    "new_model.summary()"
   ]
  },
  {
   "cell_type": "markdown",
   "metadata": {},
   "source": [
    "## Saving and loading the tokenizer"
   ]
  },
  {
   "cell_type": "code",
   "execution_count": 39,
   "metadata": {},
   "outputs": [],
   "source": [
    "import pickle\n",
    "\n",
    "# saving\n",
    "with open(f'models/{name}tokenizer.pickle', 'wb') as handle:\n",
    "    pickle.dump(tokenize, handle, protocol=pickle.HIGHEST_PROTOCOL)\n",
    "\n",
    "# loading\n",
    "with open(f'models/{name}tokenizer.pickle', 'rb') as handle:\n",
    "    new_tokenizer = pickle.load(handle)"
   ]
  },
  {
   "cell_type": "code",
   "execution_count": 40,
   "metadata": {},
   "outputs": [
    {
     "name": "stdout",
     "output_type": "stream",
     "text": [
      "1/1 [==============================] - 0s 76ms/step\n"
     ]
    },
    {
     "data": {
      "text/plain": [
       "array([[0.9506272]], dtype=float32)"
      ]
     },
     "execution_count": 40,
     "metadata": {},
     "output_type": "execute_result"
    }
   ],
   "source": [
    "#new\n",
    "example = \"محمد طه عوض لاشين\"\n",
    "example = '<sos> ' + example + ' <eos>'\n",
    "example_vect = new_tokenizer.texts_to_sequences([example])\n",
    "tf.nn.sigmoid(new_model.predict(example_vect)).numpy()"
   ]
  }
 ],
 "metadata": {
  "colab": {
   "provenance": []
  },
  "kernelspec": {
   "display_name": "Python 3 (ipykernel)",
   "language": "python",
   "name": "python3"
  },
  "language_info": {
   "codemirror_mode": {
    "name": "ipython",
    "version": 3
   },
   "file_extension": ".py",
   "mimetype": "text/x-python",
   "name": "python",
   "nbconvert_exporter": "python",
   "pygments_lexer": "ipython3",
   "version": "3.10.8"
  }
 },
 "nbformat": 4,
 "nbformat_minor": 4
}
