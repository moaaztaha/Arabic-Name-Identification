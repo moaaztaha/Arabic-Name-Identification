{
 "cells": [
  {
   "cell_type": "code",
   "execution_count": 1,
   "id": "b5287ae3-3326-4b2f-ba22-cc0afbc24210",
   "metadata": {},
   "outputs": [],
   "source": [
    "import pandas as pd\n",
    "from tqdm import tqdm"
   ]
  },
  {
   "cell_type": "code",
   "execution_count": 2,
   "id": "c4ebe967-4026-4cfb-b5a7-a5a0eddb8344",
   "metadata": {},
   "outputs": [
    {
     "data": {
      "text/html": [
       "<div>\n",
       "<style scoped>\n",
       "    .dataframe tbody tr th:only-of-type {\n",
       "        vertical-align: middle;\n",
       "    }\n",
       "\n",
       "    .dataframe tbody tr th {\n",
       "        vertical-align: top;\n",
       "    }\n",
       "\n",
       "    .dataframe thead th {\n",
       "        text-align: right;\n",
       "    }\n",
       "</style>\n",
       "<table border=\"1\" class=\"dataframe\">\n",
       "  <thead>\n",
       "    <tr style=\"text-align: right;\">\n",
       "      <th></th>\n",
       "      <th>name</th>\n",
       "    </tr>\n",
       "  </thead>\n",
       "  <tbody>\n",
       "    <tr>\n",
       "      <th>0</th>\n",
       "      <td>ابادير امير جورجى صمؤئيل</td>\n",
       "    </tr>\n",
       "    <tr>\n",
       "      <th>1</th>\n",
       "      <td>ابراهيم ايهاب ابراهيم على مصطفى</td>\n",
       "    </tr>\n",
       "    <tr>\n",
       "      <th>2</th>\n",
       "      <td>ابراهيم حسن مسعدعوض الطوار</td>\n",
       "    </tr>\n",
       "    <tr>\n",
       "      <th>3</th>\n",
       "      <td>ابراهيم محمد ابراهيم احمد حسن حماد</td>\n",
       "    </tr>\n",
       "    <tr>\n",
       "      <th>4</th>\n",
       "      <td>ابراهيم محمود محمود صالح القهوجى</td>\n",
       "    </tr>\n",
       "  </tbody>\n",
       "</table>\n",
       "</div>"
      ],
      "text/plain": [
       "                                 name\n",
       "0            ابادير امير جورجى صمؤئيل\n",
       "1     ابراهيم ايهاب ابراهيم على مصطفى\n",
       "2          ابراهيم حسن مسعدعوض الطوار\n",
       "3  ابراهيم محمد ابراهيم احمد حسن حماد\n",
       "4    ابراهيم محمود محمود صالح القهوجى"
      ]
     },
     "execution_count": 2,
     "metadata": {},
     "output_type": "execute_result"
    }
   ],
   "source": [
    "df = pd.read_excel('data/full_names.xlsx')\n",
    "df.head()"
   ]
  },
  {
   "cell_type": "code",
   "execution_count": 3,
   "id": "72450a71-0d12-41dd-8f69-b727948741c4",
   "metadata": {},
   "outputs": [
    {
     "data": {
      "text/plain": [
       "(109263, 1)"
      ]
     },
     "execution_count": 3,
     "metadata": {},
     "output_type": "execute_result"
    }
   ],
   "source": [
    "df.shape"
   ]
  },
  {
   "cell_type": "code",
   "execution_count": 4,
   "id": "35d60d23-fbf1-4c06-b800-c96bf64d07e7",
   "metadata": {},
   "outputs": [
    {
     "data": {
      "text/plain": [
       "['ابادير امير جورجى صمؤئيل', 'ابراهيم ايهاب ابراهيم على مصطفى']"
      ]
     },
     "execution_count": 4,
     "metadata": {},
     "output_type": "execute_result"
    }
   ],
   "source": [
    "full_names = df['name'].tolist()\n",
    "full_names[:2]"
   ]
  },
  {
   "cell_type": "markdown",
   "id": "012938a1-a387-4ca5-ba6c-b66d014e92ff",
   "metadata": {},
   "source": [
    "# Merge names like \"عبدالرحمن\" "
   ]
  },
  {
   "cell_type": "code",
   "execution_count": 5,
   "id": "ec7b1568-9487-41a0-8988-d923139c8f4a",
   "metadata": {},
   "outputs": [
    {
     "name": "stdout",
     "output_type": "stream",
     "text": [
      "Number of names with space after عبد compared to without space\n"
     ]
    },
    {
     "data": {
      "text/plain": [
       "(37009, 2604)"
      ]
     },
     "execution_count": 5,
     "metadata": {},
     "output_type": "execute_result"
    }
   ],
   "source": [
    "print(\"Number of names with space after عبد compared to without space\")\n",
    "all_abd = len([name for name in full_names if \"عبد\" in name])\n",
    "abd_with_space = len([name for name in full_names if \"عبد \" in name]) \n",
    "abd_with_space, all_abd - abd_with_space"
   ]
  },
  {
   "cell_type": "code",
   "execution_count": 6,
   "id": "02ff30c9-96fa-4235-b287-a208fb79e50c",
   "metadata": {},
   "outputs": [],
   "source": [
    "# run multiple times as some names have more than one space\n",
    "for _ in range(4):\n",
    "    full_names = [name.replace(\"عبد \", \"عبد\") for name in full_names]"
   ]
  },
  {
   "cell_type": "code",
   "execution_count": 7,
   "id": "69ffd45b-bf75-40df-9fdc-fa814ff24422",
   "metadata": {},
   "outputs": [
    {
     "name": "stdout",
     "output_type": "stream",
     "text": [
      "Number of names with space after عبد compared to without space\n"
     ]
    },
    {
     "data": {
      "text/plain": [
       "(0, 39613)"
      ]
     },
     "execution_count": 7,
     "metadata": {},
     "output_type": "execute_result"
    }
   ],
   "source": [
    "print(\"Number of names with space after عبد compared to without space\")\n",
    "all_abd = len([name for name in full_names if \"عبد\" in name])\n",
    "abd_with_space = len([name for name in full_names if \"عبد \" in name]) \n",
    "abd_with_space, all_abd - abd_with_space"
   ]
  },
  {
   "cell_type": "markdown",
   "id": "f666ae07-06f0-497c-9108-00da50a769f1",
   "metadata": {},
   "source": [
    "# Get 3-words names "
   ]
  },
  {
   "cell_type": "code",
   "execution_count": 8,
   "id": "f2ed7e87-2797-4729-92a9-11d234b97122",
   "metadata": {},
   "outputs": [],
   "source": [
    "# put names in a set to ignore duplicates\n",
    "names = []\n",
    "for name in full_names:\n",
    "    name = \" \".join(name.split()[:3])\n",
    "    names.append(name)"
   ]
  },
  {
   "cell_type": "code",
   "execution_count": 9,
   "id": "8d3fd9e2-6668-4a21-9f7b-90f51616c07a",
   "metadata": {},
   "outputs": [
    {
     "name": "stdout",
     "output_type": "stream",
     "text": [
      "number of full names with duplicates: 109263\n",
      "number of full names with no duplicates: 80885\n"
     ]
    }
   ],
   "source": [
    "print(f\"number of full names with duplicates: {len(names)}\")\n",
    "names = list(set(names))\n",
    "print(f\"number of full names with no duplicates: {len(names)}\")"
   ]
  },
  {
   "cell_type": "code",
   "execution_count": 10,
   "id": "c62669fa-29fe-4413-a503-5cc0aab240f6",
   "metadata": {},
   "outputs": [
    {
     "data": {
      "text/plain": [
       "['هبه على محمد', 'يمنى حمدونه سليمان', 'حبيبه ابو زيد']"
      ]
     },
     "execution_count": 10,
     "metadata": {},
     "output_type": "execute_result"
    }
   ],
   "source": [
    "names[:3]"
   ]
  },
  {
   "cell_type": "code",
   "execution_count": 11,
   "id": "a2942226-b9f6-4bd8-98bf-e1488c8c6671",
   "metadata": {},
   "outputs": [],
   "source": [
    "pd.DataFrame(names, columns=[\"Name\"]).to_csv(\"data/real_names.csv\", index=None)"
   ]
  },
  {
   "cell_type": "markdown",
   "id": "86063e9f-35e2-4935-89c2-49e84b2fac7d",
   "metadata": {},
   "source": [
    "# Save the individual unique names "
   ]
  },
  {
   "cell_type": "code",
   "execution_count": 12,
   "id": "3c9fc683-d883-42d2-8592-02b1da312e8e",
   "metadata": {},
   "outputs": [
    {
     "data": {
      "text/plain": [
       "'هبه على محمد يمنى حمدونه سليمان حبيبه ابو زيد شهد اسامه حسانين رحمه سامح فاروق بسمله رضا فاروق امير '"
      ]
     },
     "execution_count": 12,
     "metadata": {},
     "output_type": "execute_result"
    }
   ],
   "source": [
    "corpus = \"\"\n",
    "for name in names:\n",
    "    corpus += name + \" \"\n",
    "corpus[:100]"
   ]
  },
  {
   "cell_type": "code",
   "execution_count": 13,
   "id": "e8fb955f-bab9-4191-aa06-d258368fc3c1",
   "metadata": {},
   "outputs": [],
   "source": [
    "unique_name = set(corpus.split())"
   ]
  },
  {
   "cell_type": "code",
   "execution_count": 14,
   "id": "25420e15-b645-4a18-a7a1-6758bf137a4a",
   "metadata": {},
   "outputs": [],
   "source": [
    "with open('data/all_names.txt','w') as f:\n",
    "    f.write(\"\\n\".join(unique_name))"
   ]
  }
 ],
 "metadata": {
  "kernelspec": {
   "display_name": "Python 3 (ipykernel)",
   "language": "python",
   "name": "python3"
  },
  "language_info": {
   "codemirror_mode": {
    "name": "ipython",
    "version": 3
   },
   "file_extension": ".py",
   "mimetype": "text/x-python",
   "name": "python",
   "nbconvert_exporter": "python",
   "pygments_lexer": "ipython3",
   "version": "3.10.8"
  }
 },
 "nbformat": 4,
 "nbformat_minor": 5
}
